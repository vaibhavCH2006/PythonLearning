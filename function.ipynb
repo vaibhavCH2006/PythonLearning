{
 "cells": [
  {
   "cell_type": "code",
   "execution_count": 1,
   "id": "80544d06-80fc-48e0-980e-55b0764edc35",
   "metadata": {},
   "outputs": [],
   "source": [
    "def makesquare(n):\n",
    "    return n**2"
   ]
  },
  {
   "cell_type": "code",
   "execution_count": 2,
   "id": "c0ffca57-d1b7-42f8-898b-d785338bec2a",
   "metadata": {},
   "outputs": [],
   "source": [
    "a = [1,2,3]\n",
    "b = [\"a\", \"b\", \"c\"]\n"
   ]
  },
  {
   "cell_type": "code",
   "execution_count": 5,
   "id": "6909fff5-5e73-42ff-8e38-6222527f8c2b",
   "metadata": {},
   "outputs": [
    {
     "name": "stdout",
     "output_type": "stream",
     "text": [
      "a a\n",
      "b b\n",
      "c c\n"
     ]
    }
   ],
   "source": [
    "for i , i in zip(a, b):\n",
    "    print(i, i )"
   ]
  },
  {
   "cell_type": "code",
   "execution_count": 6,
   "id": "07621240-88ec-4184-b047-fdb65906404d",
   "metadata": {},
   "outputs": [
    {
     "data": {
      "text/plain": [
       "[1, 2, 3]"
      ]
     },
     "execution_count": 6,
     "metadata": {},
     "output_type": "execute_result"
    }
   ],
   "source": [
    "a"
   ]
  },
  {
   "cell_type": "code",
   "execution_count": 11,
   "id": "c0add787-29ff-4605-9fea-6a93c710d48b",
   "metadata": {},
   "outputs": [],
   "source": [
    "ans = list (map(makesquare, a))"
   ]
  },
  {
   "cell_type": "code",
   "execution_count": 12,
   "id": "04a24d70-a3ef-44de-a2cd-0f564e502677",
   "metadata": {},
   "outputs": [
    {
     "data": {
      "text/plain": [
       "[1, 16, 81]"
      ]
     },
     "execution_count": 12,
     "metadata": {},
     "output_type": "execute_result"
    }
   ],
   "source": [
    "ans"
   ]
  },
  {
   "cell_type": "code",
   "execution_count": 34,
   "id": "48891d23-d8ed-44ec-83a4-7dc78b250b21",
   "metadata": {},
   "outputs": [
    {
     "name": "stdout",
     "output_type": "stream",
     "text": [
      "[1, 4, 9]\n"
     ]
    }
   ],
   "source": [
    "def makesquare(n):\n",
    "    return n**2\n",
    "\n",
    "a = [1, 2, 3]\n",
    "ans = list(map(makesquare, a))\n",
    "print(ans)  "
   ]
  },
  {
   "cell_type": "code",
   "execution_count": 35,
   "id": "32f05d91-38c7-4e73-a25a-47cd8bdd4d09",
   "metadata": {},
   "outputs": [
    {
     "data": {
      "text/plain": [
       "['vaibhav', 'chaudhary']"
      ]
     },
     "execution_count": 35,
     "metadata": {},
     "output_type": "execute_result"
    }
   ],
   "source": [
    "'vaibhav chaudhary'.split()"
   ]
  },
  {
   "cell_type": "code",
   "execution_count": 25,
   "id": "aeceb41e-8918-47c1-9dd5-266ac86adbfb",
   "metadata": {},
   "outputs": [
    {
     "data": {
      "text/plain": [
       "['5', '3', '5', '6', '7', '4', '8', '2', '1']"
      ]
     },
     "execution_count": 25,
     "metadata": {},
     "output_type": "execute_result"
    }
   ],
   "source": [
    "\"5 3 5 6 7 4 8 2 1\".split()"
   ]
  },
  {
   "cell_type": "code",
   "execution_count": 31,
   "id": "25f54d8d-ea17-4dc6-9309-6dbab5ef2ce7",
   "metadata": {},
   "outputs": [],
   "source": [
    "ans = list(map(int, a))"
   ]
  },
  {
   "cell_type": "code",
   "execution_count": 32,
   "id": "6674b315-bed6-47d6-96e9-0cc73881c03a",
   "metadata": {},
   "outputs": [
    {
     "data": {
      "text/plain": [
       "[1, 2, 3, 4, 5]"
      ]
     },
     "execution_count": 32,
     "metadata": {},
     "output_type": "execute_result"
    }
   ],
   "source": [
    "ans "
   ]
  },
  {
   "cell_type": "code",
   "execution_count": 38,
   "id": "5c6b4149-ee07-4ea7-8095-cd4bd4723754",
   "metadata": {},
   "outputs": [],
   "source": [
    "z = lambda x, y: x*y"
   ]
  },
  {
   "cell_type": "code",
   "execution_count": 39,
   "id": "4d3b1a53-e4f2-4c85-a166-e92e8cf0980a",
   "metadata": {},
   "outputs": [
    {
     "data": {
      "text/plain": [
       "230958"
      ]
     },
     "execution_count": 39,
     "metadata": {},
     "output_type": "execute_result"
    }
   ],
   "source": [
    "z(987,234)"
   ]
  },
  {
   "cell_type": "code",
   "execution_count": 44,
   "id": "c0d32c34-4bfb-4d28-b573-748b2511f80a",
   "metadata": {},
   "outputs": [],
   "source": [
    "z = lambda x: x**19"
   ]
  },
  {
   "cell_type": "code",
   "execution_count": 45,
   "id": "f060f142-e9dc-4b70-9ac8-2d7d0ae2c1c5",
   "metadata": {},
   "outputs": [
    {
     "data": {
      "text/plain": [
       "[1, 2, 3]"
      ]
     },
     "execution_count": 45,
     "metadata": {},
     "output_type": "execute_result"
    }
   ],
   "source": [
    "a"
   ]
  },
  {
   "cell_type": "code",
   "execution_count": 46,
   "id": "4cf76c93-bc00-44f9-b036-1d8b6aaac2cb",
   "metadata": {},
   "outputs": [
    {
     "data": {
      "text/plain": [
       "[1, 524288, 1162261467]"
      ]
     },
     "execution_count": 46,
     "metadata": {},
     "output_type": "execute_result"
    }
   ],
   "source": [
    "list(map(z , a))"
   ]
  },
  {
   "cell_type": "code",
   "execution_count": null,
   "id": "836336fe-2147-4efe-8f98-ff7813921b9e",
   "metadata": {},
   "outputs": [],
   "source": []
  }
 ],
 "metadata": {
  "kernelspec": {
   "display_name": "Python 3 (ipykernel)",
   "language": "python",
   "name": "python3"
  },
  "language_info": {
   "codemirror_mode": {
    "name": "ipython",
    "version": 3
   },
   "file_extension": ".py",
   "mimetype": "text/x-python",
   "name": "python",
   "nbconvert_exporter": "python",
   "pygments_lexer": "ipython3",
   "version": "3.13.5"
  }
 },
 "nbformat": 4,
 "nbformat_minor": 5
}
