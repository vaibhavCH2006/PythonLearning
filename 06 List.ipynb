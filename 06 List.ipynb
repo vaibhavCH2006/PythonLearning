{
 "cells": [
  {
   "cell_type": "markdown",
   "id": "673f61d3-619d-44cf-9193-fa37d73aa96f",
   "metadata": {},
   "source": [
    "# LIST\n",
    "### is an ordered squence"
   ]
  },
  {
   "cell_type": "code",
   "execution_count": 1,
   "id": "3584d24e-bce6-4ee8-9e47-598497d3c675",
   "metadata": {},
   "outputs": [
    {
     "data": {
      "text/plain": [
       "[8, 4, 6, 2]"
      ]
     },
     "execution_count": 1,
     "metadata": {},
     "output_type": "execute_result"
    }
   ],
   "source": [
    "[8,4,6,2]"
   ]
  },
  {
   "cell_type": "code",
   "execution_count": 2,
   "id": "c7f858f4-b4cc-479d-abbd-1c8e583c4c1c",
   "metadata": {},
   "outputs": [],
   "source": [
    "dogs = [\"tom\", \"kutta\", \"doggy\"]"
   ]
  },
  {
   "cell_type": "code",
   "execution_count": 3,
   "id": "5f7b052b-e4f3-47c2-b3c8-cd4b45c5c3a4",
   "metadata": {},
   "outputs": [
    {
     "data": {
      "text/plain": [
       "['tom', 'kutta', 'doggy']"
      ]
     },
     "execution_count": 3,
     "metadata": {},
     "output_type": "execute_result"
    }
   ],
   "source": [
    "dogs"
   ]
  },
  {
   "cell_type": "code",
   "execution_count": 5,
   "id": "c4163a57-8d30-453f-a800-fe539fb9c17a",
   "metadata": {},
   "outputs": [
    {
     "data": {
      "text/plain": [
       "'tom'"
      ]
     },
     "execution_count": 5,
     "metadata": {},
     "output_type": "execute_result"
    }
   ],
   "source": [
    "dogs[0]"
   ]
  },
  {
   "cell_type": "code",
   "execution_count": 7,
   "id": "5016353d-3d14-4d3f-8fc9-00e699c3dc74",
   "metadata": {},
   "outputs": [
    {
     "data": {
      "text/plain": [
       "['tom', 'kutta']"
      ]
     },
     "execution_count": 7,
     "metadata": {},
     "output_type": "execute_result"
    }
   ],
   "source": [
    "dogs[0:2]"
   ]
  },
  {
   "cell_type": "code",
   "execution_count": 10,
   "id": "1756d0c3-c43f-49f8-8bfb-e605ac9d8eed",
   "metadata": {},
   "outputs": [
    {
     "data": {
      "text/plain": [
       "['tom', 'kutta', 'doggy']"
      ]
     },
     "execution_count": 10,
     "metadata": {},
     "output_type": "execute_result"
    }
   ],
   "source": [
    "dogs"
   ]
  },
  {
   "cell_type": "code",
   "execution_count": 11,
   "id": "85ecd2d2-f549-43b6-b8f8-32c2f3cf0a2e",
   "metadata": {},
   "outputs": [],
   "source": [
    "dogs[0] = \"Jerry\""
   ]
  },
  {
   "cell_type": "code",
   "execution_count": 13,
   "id": "1cc29d79-d869-49b4-83ed-265d1212172a",
   "metadata": {},
   "outputs": [
    {
     "data": {
      "text/plain": [
       "['Jerry', 'kutta', 'doggy']"
      ]
     },
     "execution_count": 13,
     "metadata": {},
     "output_type": "execute_result"
    }
   ],
   "source": [
    "dogs"
   ]
  },
  {
   "cell_type": "code",
   "execution_count": 16,
   "id": "ede13846-6dfb-4f52-885f-0fee456c1e2a",
   "metadata": {},
   "outputs": [],
   "source": [
    "li = [5, 5.3, 6+3j, \"Shubham singh\", (8,5,6,4), [\"Shubahm\", 4, 6], True, False]"
   ]
  },
  {
   "cell_type": "code",
   "execution_count": 17,
   "id": "a5801cd1-69c9-44ba-9091-e9403ab2a098",
   "metadata": {},
   "outputs": [
    {
     "data": {
      "text/plain": [
       "[5, 5.3, (6+3j), 'Shubham singh', (8, 5, 6, 4), ['Shubahm', 4, 6], True, False]"
      ]
     },
     "execution_count": 17,
     "metadata": {},
     "output_type": "execute_result"
    }
   ],
   "source": [
    "li"
   ]
  },
  {
   "cell_type": "code",
   "execution_count": 19,
   "id": "ddf9071c-4f88-41d2-9ffd-4656bf28a9b3",
   "metadata": {},
   "outputs": [
    {
     "data": {
      "text/plain": [
       "5"
      ]
     },
     "execution_count": 19,
     "metadata": {},
     "output_type": "execute_result"
    }
   ],
   "source": [
    "li[0]"
   ]
  },
  {
   "cell_type": "code",
   "execution_count": 21,
   "id": "15bb8b51-cb4c-4306-ac41-6414fca4599f",
   "metadata": {},
   "outputs": [
    {
     "data": {
      "text/plain": [
       "5.3"
      ]
     },
     "execution_count": 21,
     "metadata": {},
     "output_type": "execute_result"
    }
   ],
   "source": [
    "li[1]"
   ]
  },
  {
   "cell_type": "code",
   "execution_count": 22,
   "id": "9acd6a50-a5da-4f4f-90e3-fa52d4af9c59",
   "metadata": {},
   "outputs": [
    {
     "data": {
      "text/plain": [
       "(6+3j)"
      ]
     },
     "execution_count": 22,
     "metadata": {},
     "output_type": "execute_result"
    }
   ],
   "source": [
    "li[2]"
   ]
  },
  {
   "cell_type": "code",
   "execution_count": 23,
   "id": "c046d078-2468-416d-b259-8160b1a8ef01",
   "metadata": {},
   "outputs": [
    {
     "data": {
      "text/plain": [
       "'Shubham singh'"
      ]
     },
     "execution_count": 23,
     "metadata": {},
     "output_type": "execute_result"
    }
   ],
   "source": [
    "li[3]"
   ]
  },
  {
   "cell_type": "code",
   "execution_count": 26,
   "id": "65d534fa-179a-4188-8e8a-81b8230f1ec3",
   "metadata": {},
   "outputs": [
    {
     "data": {
      "text/plain": [
       "'Shubham'"
      ]
     },
     "execution_count": 26,
     "metadata": {},
     "output_type": "execute_result"
    }
   ],
   "source": [
    "li[3][0:7]"
   ]
  },
  {
   "cell_type": "code",
   "execution_count": 31,
   "id": "6cfd01bf-db31-4a06-8adf-69fe4d5e0801",
   "metadata": {},
   "outputs": [
    {
     "data": {
      "text/plain": [
       "(8, 5, 6, 4)"
      ]
     },
     "execution_count": 31,
     "metadata": {},
     "output_type": "execute_result"
    }
   ],
   "source": [
    "li[4]"
   ]
  },
  {
   "cell_type": "code",
   "execution_count": 29,
   "id": "741ac155-7b9b-49ee-9d6a-38c4be01d734",
   "metadata": {},
   "outputs": [
    {
     "data": {
      "text/plain": [
       "8"
      ]
     },
     "execution_count": 29,
     "metadata": {},
     "output_type": "execute_result"
    }
   ],
   "source": [
    "li[4][0]"
   ]
  },
  {
   "cell_type": "code",
   "execution_count": 38,
   "id": "95cef2e4-640e-41fa-a59c-a2ea5e7e481b",
   "metadata": {},
   "outputs": [
    {
     "data": {
      "text/plain": [
       "'S'"
      ]
     },
     "execution_count": 38,
     "metadata": {},
     "output_type": "execute_result"
    }
   ],
   "source": [
    "li[5][0][0]"
   ]
  },
  {
   "cell_type": "code",
   "execution_count": 39,
   "id": "1ee62177-93d8-471a-abe2-ee8f99775faf",
   "metadata": {},
   "outputs": [
    {
     "data": {
      "text/plain": [
       "[5, 5.3, (6+3j), 'Shubham singh', (8, 5, 6, 4), ['Shubahm', 4, 6], True, False]"
      ]
     },
     "execution_count": 39,
     "metadata": {},
     "output_type": "execute_result"
    }
   ],
   "source": [
    "li"
   ]
  },
  {
   "cell_type": "code",
   "execution_count": 40,
   "id": "b2ff55c5-32cc-40fc-ac8c-ba88779a27a7",
   "metadata": {},
   "outputs": [
    {
     "data": {
      "text/plain": [
       "['Jerry', 'kutta', 'doggy']"
      ]
     },
     "execution_count": 40,
     "metadata": {},
     "output_type": "execute_result"
    }
   ],
   "source": [
    "dogs"
   ]
  },
  {
   "cell_type": "code",
   "execution_count": 41,
   "id": "a0ad2f41-0cd2-47d3-977a-374db13e9424",
   "metadata": {},
   "outputs": [],
   "source": [
    "dogs.append(\"tom\")"
   ]
  },
  {
   "cell_type": "code",
   "execution_count": 42,
   "id": "4567c74c-5860-43ea-ba8d-e4c3c6eabecb",
   "metadata": {},
   "outputs": [
    {
     "data": {
      "text/plain": [
       "['Jerry', 'kutta', 'doggy', 'tom']"
      ]
     },
     "execution_count": 42,
     "metadata": {},
     "output_type": "execute_result"
    }
   ],
   "source": [
    "dogs"
   ]
  },
  {
   "cell_type": "code",
   "execution_count": 43,
   "id": "334453fc-4c4f-41e5-908c-ce4904e6fd44",
   "metadata": {},
   "outputs": [
    {
     "data": {
      "text/plain": [
       "['Jerry', 'kutta', 'doggy', 'tom']"
      ]
     },
     "execution_count": 43,
     "metadata": {},
     "output_type": "execute_result"
    }
   ],
   "source": [
    "dogs"
   ]
  },
  {
   "cell_type": "code",
   "execution_count": 45,
   "id": "68a70121-00e2-40cb-8d7e-94652a22b3fa",
   "metadata": {},
   "outputs": [],
   "source": [
    "stu = [\"a\", 'b', 'c', 'd', 'e']"
   ]
  },
  {
   "cell_type": "code",
   "execution_count": 46,
   "id": "3ba50c44-b625-4061-bb1d-0b6a12c133b3",
   "metadata": {},
   "outputs": [],
   "source": [
    "fail = stu"
   ]
  },
  {
   "cell_type": "code",
   "execution_count": 49,
   "id": "2d1fab3b-499c-426b-903c-ae416f5504f7",
   "metadata": {},
   "outputs": [],
   "source": [
    "fail[0] = \"Shubham\""
   ]
  },
  {
   "cell_type": "code",
   "execution_count": 50,
   "id": "90e3b77b-7bec-4eb7-9ebd-464e0e036cf3",
   "metadata": {},
   "outputs": [
    {
     "data": {
      "text/plain": [
       "['Shubham', 'b', 'c', 'd', 'e']"
      ]
     },
     "execution_count": 50,
     "metadata": {},
     "output_type": "execute_result"
    }
   ],
   "source": [
    "fail"
   ]
  },
  {
   "cell_type": "code",
   "execution_count": 51,
   "id": "63ba695e-81ec-40c3-8c52-394de84bbdd4",
   "metadata": {},
   "outputs": [
    {
     "data": {
      "text/plain": [
       "['Shubham', 'b', 'c', 'd', 'e']"
      ]
     },
     "execution_count": 51,
     "metadata": {},
     "output_type": "execute_result"
    }
   ],
   "source": [
    "stu"
   ]
  },
  {
   "cell_type": "code",
   "execution_count": 52,
   "id": "b7b25135-b84e-450b-9f1d-ee7b790483f7",
   "metadata": {},
   "outputs": [],
   "source": [
    "a = [1,5,3]"
   ]
  },
  {
   "cell_type": "code",
   "execution_count": 53,
   "id": "5d05864b-f171-46f3-94a7-01434256b26a",
   "metadata": {},
   "outputs": [],
   "source": [
    "b = a"
   ]
  },
  {
   "cell_type": "code",
   "execution_count": 55,
   "id": "2f57fdfd-d67e-4756-8248-ff1109fd9773",
   "metadata": {},
   "outputs": [
    {
     "data": {
      "text/plain": [
       "[1, 5, 3]"
      ]
     },
     "execution_count": 55,
     "metadata": {},
     "output_type": "execute_result"
    }
   ],
   "source": [
    "b"
   ]
  },
  {
   "cell_type": "code",
   "execution_count": 56,
   "id": "381f3033-5a5e-4eec-86f5-ae6b3a1402c1",
   "metadata": {},
   "outputs": [],
   "source": [
    "b[1] = 50"
   ]
  },
  {
   "cell_type": "code",
   "execution_count": 57,
   "id": "9fb8b74f-11e5-4448-9a34-d431eb43c25e",
   "metadata": {},
   "outputs": [
    {
     "data": {
      "text/plain": [
       "[1, 50, 3]"
      ]
     },
     "execution_count": 57,
     "metadata": {},
     "output_type": "execute_result"
    }
   ],
   "source": [
    "b"
   ]
  },
  {
   "cell_type": "code",
   "execution_count": 58,
   "id": "14f02282-f168-41d1-9ab8-29a0cafea7ab",
   "metadata": {},
   "outputs": [
    {
     "data": {
      "text/plain": [
       "[1, 50, 3]"
      ]
     },
     "execution_count": 58,
     "metadata": {},
     "output_type": "execute_result"
    }
   ],
   "source": [
    "a"
   ]
  },
  {
   "cell_type": "code",
   "execution_count": 60,
   "id": "63f7ac19-9476-4522-99bc-df9a9b9f276f",
   "metadata": {},
   "outputs": [],
   "source": [
    "b = a.copy()"
   ]
  },
  {
   "cell_type": "code",
   "execution_count": 61,
   "id": "4c3547d6-1ed4-41c7-a99f-35caeae02d1c",
   "metadata": {},
   "outputs": [
    {
     "data": {
      "text/plain": [
       "[1, 50, 3]"
      ]
     },
     "execution_count": 61,
     "metadata": {},
     "output_type": "execute_result"
    }
   ],
   "source": [
    "b"
   ]
  },
  {
   "cell_type": "code",
   "execution_count": 62,
   "id": "f0d4c5c0-3d12-4fc2-9946-72fdffbdc860",
   "metadata": {},
   "outputs": [
    {
     "data": {
      "text/plain": [
       "[1, 50, 3]"
      ]
     },
     "execution_count": 62,
     "metadata": {},
     "output_type": "execute_result"
    }
   ],
   "source": [
    "a"
   ]
  },
  {
   "cell_type": "code",
   "execution_count": 63,
   "id": "465ff7d3-89d8-4d7c-a2bc-99a55043fd08",
   "metadata": {},
   "outputs": [],
   "source": [
    "b[1] = 5"
   ]
  },
  {
   "cell_type": "code",
   "execution_count": 64,
   "id": "587521e5-3cf0-4427-a949-75c4d8eaa4e7",
   "metadata": {},
   "outputs": [
    {
     "data": {
      "text/plain": [
       "[1, 5, 3]"
      ]
     },
     "execution_count": 64,
     "metadata": {},
     "output_type": "execute_result"
    }
   ],
   "source": [
    "b"
   ]
  },
  {
   "cell_type": "code",
   "execution_count": 65,
   "id": "afdd1860-af6e-4cee-bd36-25105b4b6f2a",
   "metadata": {},
   "outputs": [
    {
     "data": {
      "text/plain": [
       "[1, 50, 3]"
      ]
     },
     "execution_count": 65,
     "metadata": {},
     "output_type": "execute_result"
    }
   ],
   "source": [
    "a"
   ]
  },
  {
   "cell_type": "code",
   "execution_count": 68,
   "id": "a5ec6c19-9242-4ef2-8bc1-677d65f831c3",
   "metadata": {},
   "outputs": [],
   "source": [
    "dogs.append(\"tom\")"
   ]
  },
  {
   "cell_type": "code",
   "execution_count": 69,
   "id": "8502a982-3066-4962-a20c-fff677f02b65",
   "metadata": {},
   "outputs": [
    {
     "data": {
      "text/plain": [
       "['Jerry', 'kutta', 'doggy', 'tom', 'tom']"
      ]
     },
     "execution_count": 69,
     "metadata": {},
     "output_type": "execute_result"
    }
   ],
   "source": [
    "dogs"
   ]
  },
  {
   "cell_type": "code",
   "execution_count": 70,
   "id": "1b15743f-5351-4926-bf0e-e1ea1482817b",
   "metadata": {},
   "outputs": [
    {
     "data": {
      "text/plain": [
       "2"
      ]
     },
     "execution_count": 70,
     "metadata": {},
     "output_type": "execute_result"
    }
   ],
   "source": [
    "dogs.count(\"tom\")"
   ]
  },
  {
   "cell_type": "code",
   "execution_count": 71,
   "id": "f1456c0f-b5c0-4051-8fae-7a602f816514",
   "metadata": {},
   "outputs": [
    {
     "data": {
      "text/plain": [
       "2"
      ]
     },
     "execution_count": 71,
     "metadata": {},
     "output_type": "execute_result"
    }
   ],
   "source": [
    "dogs.index(\"doggy\")"
   ]
  },
  {
   "cell_type": "code",
   "execution_count": 72,
   "id": "b6b0a589-83a1-4e65-a823-1062e50c3a5f",
   "metadata": {},
   "outputs": [
    {
     "data": {
      "text/plain": [
       "['Jerry', 'kutta', 'doggy', 'tom', 'tom']"
      ]
     },
     "execution_count": 72,
     "metadata": {},
     "output_type": "execute_result"
    }
   ],
   "source": [
    "dogs"
   ]
  },
  {
   "cell_type": "code",
   "execution_count": 73,
   "id": "97fc20d3-455a-46cd-bbcd-dd7899ee97a2",
   "metadata": {},
   "outputs": [],
   "source": [
    "friend = [\"sammy\", \"rammy\", \"jecob\"]"
   ]
  },
  {
   "cell_type": "code",
   "execution_count": 74,
   "id": "9adc292b-cf96-4b22-8d1a-6f49f203f3b7",
   "metadata": {},
   "outputs": [],
   "source": [
    "dogs.append(friend)"
   ]
  },
  {
   "cell_type": "code",
   "execution_count": 76,
   "id": "4c1f4f43-3435-49e4-8910-b3bd6d4053dd",
   "metadata": {},
   "outputs": [
    {
     "data": {
      "text/plain": [
       "['Jerry', 'kutta', 'doggy', 'tom', 'tom', ['sammy', 'rammy', 'jecob']]"
      ]
     },
     "execution_count": 76,
     "metadata": {},
     "output_type": "execute_result"
    }
   ],
   "source": [
    "dogs"
   ]
  },
  {
   "cell_type": "code",
   "execution_count": 77,
   "id": "4a6785ba-3be5-420a-b71c-8288649922f6",
   "metadata": {},
   "outputs": [],
   "source": [
    "dogs.extend(friend)"
   ]
  },
  {
   "cell_type": "code",
   "execution_count": 78,
   "id": "61f93e5d-3bb7-4a45-8376-a102d5a17823",
   "metadata": {},
   "outputs": [
    {
     "data": {
      "text/plain": [
       "['Jerry',\n",
       " 'kutta',\n",
       " 'doggy',\n",
       " 'tom',\n",
       " 'tom',\n",
       " ['sammy', 'rammy', 'jecob'],\n",
       " 'sammy',\n",
       " 'rammy',\n",
       " 'jecob']"
      ]
     },
     "execution_count": 78,
     "metadata": {},
     "output_type": "execute_result"
    }
   ],
   "source": [
    "dogs"
   ]
  },
  {
   "cell_type": "code",
   "execution_count": 87,
   "id": "40365b61-b930-4f73-9449-a6ac09104b68",
   "metadata": {},
   "outputs": [
    {
     "data": {
      "text/plain": [
       "'tom'"
      ]
     },
     "execution_count": 87,
     "metadata": {},
     "output_type": "execute_result"
    }
   ],
   "source": [
    "dogs.pop()"
   ]
  },
  {
   "cell_type": "code",
   "execution_count": 88,
   "id": "3da763c7-4874-4c43-9b7c-40dde5d5e935",
   "metadata": {},
   "outputs": [
    {
     "data": {
      "text/plain": [
       "['Jerry', 'kutta', 'doggy', 'tom']"
      ]
     },
     "execution_count": 88,
     "metadata": {},
     "output_type": "execute_result"
    }
   ],
   "source": [
    "dogs"
   ]
  },
  {
   "cell_type": "code",
   "execution_count": 89,
   "id": "bffe3dbb-3570-4240-a1e0-614b048bfdf9",
   "metadata": {},
   "outputs": [
    {
     "data": {
      "text/plain": [
       "'doggy'"
      ]
     },
     "execution_count": 89,
     "metadata": {},
     "output_type": "execute_result"
    }
   ],
   "source": [
    "dogs.pop(2)"
   ]
  },
  {
   "cell_type": "code",
   "execution_count": 90,
   "id": "2c6fb6f9-c77e-4971-84a1-60a7e343dc7f",
   "metadata": {},
   "outputs": [
    {
     "data": {
      "text/plain": [
       "['Jerry', 'kutta', 'tom']"
      ]
     },
     "execution_count": 90,
     "metadata": {},
     "output_type": "execute_result"
    }
   ],
   "source": [
    "dogs"
   ]
  },
  {
   "cell_type": "code",
   "execution_count": 91,
   "id": "a0a93d3a-5032-4e3e-83b9-6e30dae24f81",
   "metadata": {},
   "outputs": [],
   "source": [
    "dogs.append(\"doggy\")"
   ]
  },
  {
   "cell_type": "code",
   "execution_count": 92,
   "id": "4042c049-5e66-48f4-bc7a-6518652d76f5",
   "metadata": {},
   "outputs": [
    {
     "data": {
      "text/plain": [
       "['Jerry', 'kutta', 'tom', 'doggy']"
      ]
     },
     "execution_count": 92,
     "metadata": {},
     "output_type": "execute_result"
    }
   ],
   "source": [
    "dogs"
   ]
  },
  {
   "cell_type": "code",
   "execution_count": 93,
   "id": "a5d73465-12d1-4e68-ae28-9b5a6e7c4246",
   "metadata": {},
   "outputs": [],
   "source": [
    "dogs.remove(\"tom\")"
   ]
  },
  {
   "cell_type": "code",
   "execution_count": 94,
   "id": "785b3fde-0075-45b5-a9b5-330bccc414e6",
   "metadata": {},
   "outputs": [
    {
     "data": {
      "text/plain": [
       "['Jerry', 'kutta', 'doggy']"
      ]
     },
     "execution_count": 94,
     "metadata": {},
     "output_type": "execute_result"
    }
   ],
   "source": [
    "dogs"
   ]
  },
  {
   "cell_type": "code",
   "execution_count": 98,
   "id": "5ed8b640-9cbe-47d2-a298-6e02e6046934",
   "metadata": {},
   "outputs": [],
   "source": [
    "dogs.append(\"tom\")"
   ]
  },
  {
   "cell_type": "code",
   "execution_count": 99,
   "id": "11450948-24da-4d68-b879-c1f392687b10",
   "metadata": {
    "scrolled": true
   },
   "outputs": [],
   "source": [
    "a = dogs.pop()"
   ]
  },
  {
   "cell_type": "code",
   "execution_count": 100,
   "id": "ffb8c68c-df3d-41a0-9b93-9cde6cc33602",
   "metadata": {},
   "outputs": [
    {
     "data": {
      "text/plain": [
       "'tom'"
      ]
     },
     "execution_count": 100,
     "metadata": {},
     "output_type": "execute_result"
    }
   ],
   "source": [
    "a"
   ]
  },
  {
   "cell_type": "code",
   "execution_count": 101,
   "id": "cd3409c8-8059-477f-8e9c-db0b2e5e8da4",
   "metadata": {},
   "outputs": [
    {
     "data": {
      "text/plain": [
       "['Jerry', 'kutta', 'doggy']"
      ]
     },
     "execution_count": 101,
     "metadata": {},
     "output_type": "execute_result"
    }
   ],
   "source": [
    "dogs"
   ]
  },
  {
   "cell_type": "code",
   "execution_count": 102,
   "id": "a09f965b-3312-443e-9c1f-3c0b2ccf791f",
   "metadata": {},
   "outputs": [],
   "source": [
    "dogs.append(a)"
   ]
  },
  {
   "cell_type": "code",
   "execution_count": 103,
   "id": "032dacfb-cf53-4bb2-8d4b-e3a8cc918c15",
   "metadata": {},
   "outputs": [
    {
     "data": {
      "text/plain": [
       "['Jerry', 'kutta', 'doggy', 'tom']"
      ]
     },
     "execution_count": 103,
     "metadata": {},
     "output_type": "execute_result"
    }
   ],
   "source": [
    "dogs"
   ]
  },
  {
   "cell_type": "code",
   "execution_count": 104,
   "id": "9e8fda14-105c-45e2-8163-0b009275d598",
   "metadata": {},
   "outputs": [],
   "source": [
    "dogs.sort()"
   ]
  },
  {
   "cell_type": "code",
   "execution_count": 105,
   "id": "f5c39244-341d-4ef3-80ec-521da6d0c2bf",
   "metadata": {},
   "outputs": [
    {
     "data": {
      "text/plain": [
       "['Jerry', 'doggy', 'kutta', 'tom']"
      ]
     },
     "execution_count": 105,
     "metadata": {},
     "output_type": "execute_result"
    }
   ],
   "source": [
    "dogs"
   ]
  },
  {
   "cell_type": "code",
   "execution_count": 106,
   "id": "f522290c-6fb1-487a-aa32-00aebd537369",
   "metadata": {},
   "outputs": [],
   "source": [
    "li = [8,5,4,6,9,7]"
   ]
  },
  {
   "cell_type": "code",
   "execution_count": 109,
   "id": "8476d466-6ad7-4097-9f89-6c7d81ae5944",
   "metadata": {},
   "outputs": [],
   "source": [
    "li.sort(reverse=True)"
   ]
  },
  {
   "cell_type": "code",
   "execution_count": 110,
   "id": "42f866f5-f325-4bf9-9732-c598de5d8dc8",
   "metadata": {},
   "outputs": [
    {
     "data": {
      "text/plain": [
       "[9, 8, 7, 6, 5, 4]"
      ]
     },
     "execution_count": 110,
     "metadata": {},
     "output_type": "execute_result"
    }
   ],
   "source": [
    "li"
   ]
  },
  {
   "cell_type": "code",
   "execution_count": 112,
   "id": "88da6d48-c89e-41cb-bfde-93e0b72446be",
   "metadata": {},
   "outputs": [],
   "source": [
    "dogs.reverse()"
   ]
  },
  {
   "cell_type": "code",
   "execution_count": 113,
   "id": "643f3f47-cd52-4937-8b7b-36aea3ae84ef",
   "metadata": {},
   "outputs": [
    {
     "data": {
      "text/plain": [
       "['tom', 'kutta', 'doggy', 'Jerry']"
      ]
     },
     "execution_count": 113,
     "metadata": {},
     "output_type": "execute_result"
    }
   ],
   "source": [
    "dogs"
   ]
  },
  {
   "cell_type": "code",
   "execution_count": 114,
   "id": "4d866d49-cabb-4926-9c24-e15b49624763",
   "metadata": {},
   "outputs": [
    {
     "data": {
      "text/plain": [
       "[9, 8, 7, 6, 5, 4]"
      ]
     },
     "execution_count": 114,
     "metadata": {},
     "output_type": "execute_result"
    }
   ],
   "source": [
    "li"
   ]
  },
  {
   "cell_type": "code",
   "execution_count": 115,
   "id": "19d5f326-00da-487a-84fe-066972b2590d",
   "metadata": {},
   "outputs": [],
   "source": [
    "li.clear()"
   ]
  },
  {
   "cell_type": "code",
   "execution_count": 116,
   "id": "69d028d3-b579-4d25-b1e6-338bff8b81ab",
   "metadata": {},
   "outputs": [
    {
     "data": {
      "text/plain": [
       "[]"
      ]
     },
     "execution_count": 116,
     "metadata": {},
     "output_type": "execute_result"
    }
   ],
   "source": [
    "li"
   ]
  },
  {
   "cell_type": "code",
   "execution_count": null,
   "id": "93c69450-9d53-4130-baa3-85146979a3b6",
   "metadata": {},
   "outputs": [],
   "source": []
  }
 ],
 "metadata": {
  "kernelspec": {
   "display_name": "Python 3 (ipykernel)",
   "language": "python",
   "name": "python3"
  },
  "language_info": {
   "codemirror_mode": {
    "name": "ipython",
    "version": 3
   },
   "file_extension": ".py",
   "mimetype": "text/x-python",
   "name": "python",
   "nbconvert_exporter": "python",
   "pygments_lexer": "ipython3",
   "version": "3.13.5"
  }
 },
 "nbformat": 4,
 "nbformat_minor": 5
}
