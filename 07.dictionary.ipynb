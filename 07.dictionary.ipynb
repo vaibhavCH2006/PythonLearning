{
 "cells": [
  {
   "cell_type": "code",
   "execution_count": 1,
   "id": "8603b231-0733-4045-843b-f3e1e212ddf8",
   "metadata": {},
   "outputs": [],
   "source": [
    "# dictionary"
   ]
  },
  {
   "cell_type": "code",
   "execution_count": 2,
   "id": "8b6db8cb-0eee-47bc-a3d3-d1c80a8b4fed",
   "metadata": {},
   "outputs": [],
   "source": [
    "d = {\"name\":\"shubham\",\"age\":24,\"education\":\"B.tech\"}"
   ]
  },
  {
   "cell_type": "code",
   "execution_count": 3,
   "id": "210c779d-6c12-4f28-8477-796536314561",
   "metadata": {},
   "outputs": [
    {
     "data": {
      "text/plain": [
       "{'name': 'shubham', 'age': 24, 'education': 'B.tech'}"
      ]
     },
     "execution_count": 3,
     "metadata": {},
     "output_type": "execute_result"
    }
   ],
   "source": [
    "d"
   ]
  },
  {
   "cell_type": "code",
   "execution_count": 5,
   "id": "7740fad1-3deb-4a1d-8f52-e1aee8745d54",
   "metadata": {},
   "outputs": [
    {
     "data": {
      "text/plain": [
       "3"
      ]
     },
     "execution_count": 5,
     "metadata": {},
     "output_type": "execute_result"
    }
   ],
   "source": [
    "len(d)"
   ]
  },
  {
   "cell_type": "code",
   "execution_count": 7,
   "id": "785a8731-ea46-408c-b9b9-cd562032b8dc",
   "metadata": {},
   "outputs": [
    {
     "data": {
      "text/plain": [
       "dict_keys(['name', 'age', 'education'])"
      ]
     },
     "execution_count": 7,
     "metadata": {},
     "output_type": "execute_result"
    }
   ],
   "source": [
    "d.keys()"
   ]
  },
  {
   "cell_type": "code",
   "execution_count": 8,
   "id": "512d96ba-559f-4701-82c2-54b41c8e7227",
   "metadata": {},
   "outputs": [
    {
     "data": {
      "text/plain": [
       "dict_values(['shubham', 24, 'B.tech'])"
      ]
     },
     "execution_count": 8,
     "metadata": {},
     "output_type": "execute_result"
    }
   ],
   "source": [
    "d.values()"
   ]
  },
  {
   "cell_type": "code",
   "execution_count": 12,
   "id": "77d734ef-b2a9-4c56-b80f-cde84395cc99",
   "metadata": {},
   "outputs": [
    {
     "data": {
      "text/plain": [
       "'B.tech'"
      ]
     },
     "execution_count": 12,
     "metadata": {},
     "output_type": "execute_result"
    }
   ],
   "source": [
    "d[\"education\"]"
   ]
  },
  {
   "cell_type": "code",
   "execution_count": 14,
   "id": "5a3b8a0f-d60c-4006-9cc4-ca523b7815f6",
   "metadata": {},
   "outputs": [],
   "source": [
    "d = {\"name\":\"vaibhav chaudhary\",\"age\":19,\"collage\":\"pu\",\"education\":\"b.tech\"}"
   ]
  },
  {
   "cell_type": "code",
   "execution_count": 15,
   "id": "bb0511c9-71ec-4e0b-ac1c-3985dc414e2b",
   "metadata": {},
   "outputs": [
    {
     "data": {
      "text/plain": [
       "{'name': 'vaibhav chaudhary',\n",
       " 'age': 19,\n",
       " 'collage': 'pu',\n",
       " 'education': 'b.tech'}"
      ]
     },
     "execution_count": 15,
     "metadata": {},
     "output_type": "execute_result"
    }
   ],
   "source": [
    "d"
   ]
  },
  {
   "cell_type": "code",
   "execution_count": 16,
   "id": "0d022922-3888-42a1-8dfc-83f5124efa2c",
   "metadata": {},
   "outputs": [
    {
     "data": {
      "text/plain": [
       "4"
      ]
     },
     "execution_count": 16,
     "metadata": {},
     "output_type": "execute_result"
    }
   ],
   "source": [
    "len(d)"
   ]
  },
  {
   "cell_type": "code",
   "execution_count": 19,
   "id": "711513ab-01d5-4718-a62c-4335fa759c2f",
   "metadata": {},
   "outputs": [],
   "source": [
    "d[\"wifwe\"] = \"mona\""
   ]
  },
  {
   "cell_type": "code",
   "execution_count": 20,
   "id": "9f9c56d9-3fb4-4d9f-85fa-b49be2e61160",
   "metadata": {},
   "outputs": [],
   "source": [
    "# keys can only have string or int"
   ]
  },
  {
   "cell_type": "code",
   "execution_count": 22,
   "id": "b19c4f8b-da0d-4bce-a05e-642a968191da",
   "metadata": {},
   "outputs": [
    {
     "data": {
      "text/plain": [
       "{1: 'shubham', 2: 'abhi', 3: 'akash', 4: 'vaibhav'}"
      ]
     },
     "execution_count": 22,
     "metadata": {},
     "output_type": "execute_result"
    }
   ],
   "source": [
    "{1:\"shubham\",2:\"abhi\",3:\"akash\",4:\"vaibhav\"}"
   ]
  },
  {
   "cell_type": "code",
   "execution_count": 55,
   "id": "18fe6ef2-8ee0-4c88-86c2-462a1ffc87a5",
   "metadata": {},
   "outputs": [
    {
     "data": {
      "text/plain": [
       "dict_keys([1, 2, 3, 4])"
      ]
     },
     "execution_count": 55,
     "metadata": {},
     "output_type": "execute_result"
    }
   ],
   "source": [
    "d.keys()"
   ]
  },
  {
   "cell_type": "code",
   "execution_count": 52,
   "id": "da0fb5cb-ab60-4a62-b6e2-5f8c3d32917a",
   "metadata": {},
   "outputs": [],
   "source": [
    "d = {\n",
    "    1:{\"name\":\"shubham\",\"age\":16},\n",
    "    2:{\"name\":\"abhi\",\"age\":17},\n",
    "    3:{\"name\":\"akash\",\"age\":18},\n",
    "    4:{\"name\":\"vaibhav\",\"age\":19},\n",
    "\n",
    "}"
   ]
  },
  {
   "cell_type": "code",
   "execution_count": 35,
   "id": "c31ca177-409c-4dbd-ad39-541e2a67824e",
   "metadata": {},
   "outputs": [
    {
     "data": {
      "text/plain": [
       "{'name': 'vaibhav chaudhary',\n",
       " 'age': 19,\n",
       " 'collage': 'pu',\n",
       " 'education': 'b.tech',\n",
       " 'wifwe': 'mona'}"
      ]
     },
     "execution_count": 35,
     "metadata": {},
     "output_type": "execute_result"
    }
   ],
   "source": [
    "d"
   ]
  },
  {
   "cell_type": "code",
   "execution_count": 36,
   "id": "f346cfeb-26c8-4a6b-9b3b-424b713774ea",
   "metadata": {},
   "outputs": [],
   "source": [
    "d['name'] = \"vaibhav\""
   ]
  },
  {
   "cell_type": "code",
   "execution_count": 37,
   "id": "c29cfeb9-6111-49a7-9fb4-e8622e2cc7a4",
   "metadata": {},
   "outputs": [
    {
     "data": {
      "text/plain": [
       "{'name': 'vaibhav',\n",
       " 'age': 19,\n",
       " 'collage': 'pu',\n",
       " 'education': 'b.tech',\n",
       " 'wifwe': 'mona'}"
      ]
     },
     "execution_count": 37,
     "metadata": {},
     "output_type": "execute_result"
    }
   ],
   "source": [
    "d"
   ]
  },
  {
   "cell_type": "code",
   "execution_count": 46,
   "id": "f2058556-90a3-4f01-b680-cb2073d058bb",
   "metadata": {},
   "outputs": [],
   "source": [
    "d[\"wife\"] = \"bbb\""
   ]
  },
  {
   "cell_type": "code",
   "execution_count": 47,
   "id": "bd7793ba-74da-4304-808c-6b59a90d41e9",
   "metadata": {},
   "outputs": [
    {
     "data": {
      "text/plain": [
       "{1: {'name': 'shubham', 'age': 16}, 'wife': 'bbb'}"
      ]
     },
     "execution_count": 47,
     "metadata": {},
     "output_type": "execute_result"
    }
   ],
   "source": [
    "d"
   ]
  },
  {
   "cell_type": "code",
   "execution_count": 57,
   "id": "971a3fc0-c94d-44a2-b3f1-c6398e67ac76",
   "metadata": {},
   "outputs": [
    {
     "data": {
      "text/plain": [
       "{1: {'name': 'shubham', 'age': 16},\n",
       " 2: {'name': 'abhi', 'age': 17},\n",
       " 3: {'name': 'akash', 'age': 18},\n",
       " 4: {'name': 'vaibhav', 'age': 19}}"
      ]
     },
     "execution_count": 57,
     "metadata": {},
     "output_type": "execute_result"
    }
   ],
   "source": [
    "d"
   ]
  },
  {
   "cell_type": "code",
   "execution_count": 58,
   "id": "dd448c27-e441-4f6d-a118-ee18bbb215e1",
   "metadata": {},
   "outputs": [
    {
     "data": {
      "text/plain": [
       "{'name': 'abhi', 'age': 17}"
      ]
     },
     "execution_count": 58,
     "metadata": {},
     "output_type": "execute_result"
    }
   ],
   "source": [
    "d.pop(2)"
   ]
  },
  {
   "cell_type": "code",
   "execution_count": 61,
   "id": "9cee00c5-f904-4cab-9db8-283fc350ba22",
   "metadata": {},
   "outputs": [
    {
     "data": {
      "text/plain": [
       "dict_keys([1, 3, 4])"
      ]
     },
     "execution_count": 61,
     "metadata": {},
     "output_type": "execute_result"
    }
   ],
   "source": [
    "d.keys()"
   ]
  },
  {
   "cell_type": "code",
   "execution_count": 65,
   "id": "778a1d69-ab9e-4f56-95fa-560b7d3d5aa8",
   "metadata": {},
   "outputs": [
    {
     "data": {
      "text/plain": [
       "[1, 3, 4]"
      ]
     },
     "execution_count": 65,
     "metadata": {},
     "output_type": "execute_result"
    }
   ],
   "source": [
    "list(d.keys())"
   ]
  },
  {
   "cell_type": "code",
   "execution_count": null,
   "id": "922c9a5c-40fe-43bd-abc1-d78744fe02f3",
   "metadata": {},
   "outputs": [],
   "source": []
  }
 ],
 "metadata": {
  "kernelspec": {
   "display_name": "Python 3 (ipykernel)",
   "language": "python",
   "name": "python3"
  },
  "language_info": {
   "codemirror_mode": {
    "name": "ipython",
    "version": 3
   },
   "file_extension": ".py",
   "mimetype": "text/x-python",
   "name": "python",
   "nbconvert_exporter": "python",
   "pygments_lexer": "ipython3",
   "version": "3.13.5"
  }
 },
 "nbformat": 4,
 "nbformat_minor": 5
}
