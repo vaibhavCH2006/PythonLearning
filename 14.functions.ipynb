{
 "cells": [
  {
   "cell_type": "markdown",
   "id": "e3ca4800-4da1-47ed-8bc8-a1a03f5a5e45",
   "metadata": {},
   "source": [
    "# function"
   ]
  },
  {
   "cell_type": "markdown",
   "id": "ffca5b44-d876-4238-ac2c-add5d71a6d15",
   "metadata": {},
   "source": [
    "# function dtore code, and it executes the code when called"
   ]
  },
  {
   "cell_type": "code",
   "execution_count": 9,
   "id": "36c5472a-5af6-4d1c-920e-5741d5e106c7",
   "metadata": {},
   "outputs": [
    {
     "name": "stdout",
     "output_type": "stream",
     "text": [
      "hello everyone nice to meet you\n"
     ]
    }
   ],
   "source": [
    "#define a function \n",
    "\n",
    "def greeting():\n",
    "    print(\"hello everyone nice to meet you\")\n",
    "    #print(2+2)\n",
    "greeting()"
   ]
  },
  {
   "cell_type": "code",
   "execution_count": 7,
   "id": "49aa9946-b1c9-4786-94f7-5866784989a2",
   "metadata": {},
   "outputs": [
    {
     "name": "stdout",
     "output_type": "stream",
     "text": [
      "hello everyone nice to meet you\n"
     ]
    }
   ],
   "source": [
    "#call a function\n",
    "greeting()"
   ]
  },
  {
   "cell_type": "markdown",
   "id": "fed7e6c6-26d0-44da-be87-10c9dafd19e0",
   "metadata": {},
   "source": [
    "# types of fuction"
   ]
  },
  {
   "cell_type": "code",
   "execution_count": 10,
   "id": "3f95efeb-4383-45f1-a516-82f0294defe9",
   "metadata": {},
   "outputs": [
    {
     "name": "stdout",
     "output_type": "stream",
     "text": [
      "hi\n"
     ]
    },
    {
     "data": {
      "text/plain": [
       "7"
      ]
     },
     "execution_count": 10,
     "metadata": {},
     "output_type": "execute_result"
    }
   ],
   "source": [
    "#built in function\n",
    "print(\"hi\")\n",
    "len(\"shubham\")"
   ]
  },
  {
   "cell_type": "code",
   "execution_count": 11,
   "id": "1d383f14-25ad-49f6-816b-c53fcb003554",
   "metadata": {},
   "outputs": [
    {
     "data": {
      "text/plain": [
       "677"
      ]
     },
     "execution_count": 11,
     "metadata": {},
     "output_type": "execute_result"
    }
   ],
   "source": [
    "min([3,4,5,56,7,8])\n",
    "max([2,4,5,677,64])"
   ]
  },
  {
   "cell_type": "markdown",
   "id": "6162a618-1f84-4e5b-a3bb-449aeedd9537",
   "metadata": {},
   "source": [
    "# user defined function"
   ]
  },
  {
   "cell_type": "code",
   "execution_count": 12,
   "id": "5563cdba-59d5-400d-8181-2530fd60a678",
   "metadata": {},
   "outputs": [],
   "source": [
    "def greeting():\n",
    "    print(\"hello everyone my name is vaibhav\")\n",
    "    print(8/0)\n",
    "    print(\"hi\")"
   ]
  },
  {
   "cell_type": "code",
   "execution_count": 15,
   "id": "3181d10d-19c6-4ff6-b41a-ccc64314b482",
   "metadata": {},
   "outputs": [
    {
     "name": "stdout",
     "output_type": "stream",
     "text": [
      "hello everyone my name is vaibhav\n"
     ]
    },
    {
     "ename": "ZeroDivisionError",
     "evalue": "division by zero",
     "output_type": "error",
     "traceback": [
      "\u001b[31m---------------------------------------------------------------------------\u001b[39m",
      "\u001b[31mZeroDivisionError\u001b[39m                         Traceback (most recent call last)",
      "\u001b[36mCell\u001b[39m\u001b[36m \u001b[39m\u001b[32mIn[15]\u001b[39m\u001b[32m, line 1\u001b[39m\n\u001b[32m----> \u001b[39m\u001b[32m1\u001b[39m \u001b[43mgreeting\u001b[49m\u001b[43m(\u001b[49m\u001b[43m)\u001b[49m\n",
      "\u001b[36mCell\u001b[39m\u001b[36m \u001b[39m\u001b[32mIn[12]\u001b[39m\u001b[32m, line 3\u001b[39m, in \u001b[36mgreeting\u001b[39m\u001b[34m()\u001b[39m\n\u001b[32m      1\u001b[39m \u001b[38;5;28;01mdef\u001b[39;00m\u001b[38;5;250m \u001b[39m\u001b[34mgreeting\u001b[39m():\n\u001b[32m      2\u001b[39m     \u001b[38;5;28mprint\u001b[39m(\u001b[33m\"\u001b[39m\u001b[33mhello everyone my name is vaibhav\u001b[39m\u001b[33m\"\u001b[39m)\n\u001b[32m----> \u001b[39m\u001b[32m3\u001b[39m     \u001b[38;5;28mprint\u001b[39m(\u001b[32;43m8\u001b[39;49m\u001b[43m/\u001b[49m\u001b[32;43m0\u001b[39;49m)\n\u001b[32m      4\u001b[39m     \u001b[38;5;28mprint\u001b[39m(\u001b[33m\"\u001b[39m\u001b[33mhi\u001b[39m\u001b[33m\"\u001b[39m)\n",
      "\u001b[31mZeroDivisionError\u001b[39m: division by zero"
     ]
    }
   ],
   "source": [
    "greeting()"
   ]
  },
  {
   "cell_type": "markdown",
   "id": "06a43c6a-bfcf-45c8-b5e1-4c7da718a196",
   "metadata": {},
   "source": [
    "# user defined functions"
   ]
  },
  {
   "cell_type": "code",
   "execution_count": 16,
   "id": "e839a911-9878-4db4-a5f1-fb426832d555",
   "metadata": {},
   "outputs": [],
   "source": [
    "# simple function \n",
    "\n",
    "def greeting():\n",
    "    print(\"hello everyone nice to meet you\")"
   ]
  },
  {
   "cell_type": "code",
   "execution_count": 17,
   "id": "a61b94d1-16f2-4bab-85d6-0dd573984bce",
   "metadata": {},
   "outputs": [
    {
     "name": "stdout",
     "output_type": "stream",
     "text": [
      "hello everyone nice to meet you\n"
     ]
    }
   ],
   "source": [
    "greeting()"
   ]
  },
  {
   "cell_type": "code",
   "execution_count": 28,
   "id": "4e8d70a4-a6de-48e9-8c6c-a125528676d0",
   "metadata": {},
   "outputs": [],
   "source": [
    "# input function\n",
    "\n",
    "def greeting(name):\n",
    "    print(f\"hello {name}  nice to meet you\")"
   ]
  },
  {
   "cell_type": "code",
   "execution_count": 29,
   "id": "b980aa10-b243-41de-9ad9-3de00b5efa58",
   "metadata": {},
   "outputs": [
    {
     "name": "stdout",
     "output_type": "stream",
     "text": [
      "hello vaibhav  nice to meet you\n"
     ]
    }
   ],
   "source": [
    "greeting(\"vaibhav\")"
   ]
  },
  {
   "cell_type": "code",
   "execution_count": 31,
   "id": "9f4c3b1f-e6cf-409e-84e5-ee30499bddbf",
   "metadata": {},
   "outputs": [],
   "source": [
    "def area_of_circle(r):\n",
    "    print((22/7)*r*r)"
   ]
  },
  {
   "cell_type": "markdown",
   "id": "2d0419e0-0f30-405f-94f3-ec419f8fa671",
   "metadata": {},
   "source": [
    "area_of_circle(5)"
   ]
  },
  {
   "cell_type": "code",
   "execution_count": 34,
   "id": "dfbbb2ad-7116-4643-9a6f-ee19bb5c2064",
   "metadata": {},
   "outputs": [],
   "source": [
    "def area_of_rectangle(lenght, width):\n",
    "    print(lenght*width)"
   ]
  },
  {
   "cell_type": "code",
   "execution_count": 35,
   "id": "1bab5e90-c15d-40e9-9e78-3a9417ed1cbd",
   "metadata": {},
   "outputs": [
    {
     "name": "stdout",
     "output_type": "stream",
     "text": [
      "50\n"
     ]
    }
   ],
   "source": [
    "area_of_rectangle(5,10)"
   ]
  },
  {
   "cell_type": "markdown",
   "id": "43e1f878-2eaf-4fb5-ab17-d1e81abc8973",
   "metadata": {},
   "source": [
    "# scope"
   ]
  },
  {
   "cell_type": "code",
   "execution_count": 47,
   "id": "6db8b021-da6b-4939-9972-f11bc355f937",
   "metadata": {},
   "outputs": [],
   "source": [
    "def myprofile():\n",
    "    #loacl scope\n",
    "    name = \"vaibhav\"\n",
    "    age = \"19\"\n",
    "    education = \"b.tech\"\n",
    "    print(name, age, education)"
   ]
  },
  {
   "cell_type": "code",
   "execution_count": 55,
   "id": "72ada0b0-5337-42d1-beb4-2be681b86d20",
   "metadata": {},
   "outputs": [],
   "source": [
    "# global scope\n",
    "job = \"netmax\"\n",
    "def myprofile():\n",
    "    #loacl scope\n",
    "    name = \"vaibhav\"\n",
    "    age = \"19\"\n",
    "    education = \"b.tech\"\n",
    "    job = \"hunting\"\n",
    "    print(name, age, education, job)"
   ]
  },
  {
   "cell_type": "code",
   "execution_count": 56,
   "id": "ca062b36-5ac5-4305-bdcc-3b93c529304c",
   "metadata": {},
   "outputs": [
    {
     "name": "stdout",
     "output_type": "stream",
     "text": [
      "vaibhav 19 b.tech hunting\n"
     ]
    }
   ],
   "source": [
    "myprofile()"
   ]
  },
  {
   "cell_type": "code",
   "execution_count": 57,
   "id": "42c3e1b8-db47-4ddc-b730-58a1f0d63d9f",
   "metadata": {},
   "outputs": [
    {
     "ename": "NameError",
     "evalue": "name 'name' is not defined",
     "output_type": "error",
     "traceback": [
      "\u001b[31m---------------------------------------------------------------------------\u001b[39m",
      "\u001b[31mNameError\u001b[39m                                 Traceback (most recent call last)",
      "\u001b[36mCell\u001b[39m\u001b[36m \u001b[39m\u001b[32mIn[57]\u001b[39m\u001b[32m, line 1\u001b[39m\n\u001b[32m----> \u001b[39m\u001b[32m1\u001b[39m \u001b[43mname\u001b[49m\n",
      "\u001b[31mNameError\u001b[39m: name 'name' is not defined"
     ]
    }
   ],
   "source": [
    "name"
   ]
  },
  {
   "cell_type": "code",
   "execution_count": 58,
   "id": "5e729cf7-bb3e-4fd1-ac40-3cdcfbeb97b1",
   "metadata": {},
   "outputs": [],
   "source": [
    "# global scope\n",
    "job = \"netmax\"\n",
    "def myprofile():\n",
    "    #loacl scope\n",
    "    name = \"vaibhav\"\n",
    "    global age\n",
    "    age = \"19\"\n",
    "    education = \"b.tech\"\n",
    "    job = \"hunting\"\n",
    "    print(name, age, education, job)"
   ]
  },
  {
   "cell_type": "code",
   "execution_count": 59,
   "id": "a94780b5-34ea-4bf0-9490-5c23a40c64be",
   "metadata": {},
   "outputs": [
    {
     "name": "stdout",
     "output_type": "stream",
     "text": [
      "vaibhav 19 b.tech hunting\n"
     ]
    }
   ],
   "source": [
    "myprofile()"
   ]
  },
  {
   "cell_type": "code",
   "execution_count": 60,
   "id": "84612b35-7b1e-487d-9388-70a664026c48",
   "metadata": {},
   "outputs": [
    {
     "data": {
      "text/plain": [
       "'19'"
      ]
     },
     "execution_count": 60,
     "metadata": {},
     "output_type": "execute_result"
    }
   ],
   "source": [
    "age"
   ]
  },
  {
   "cell_type": "code",
   "execution_count": 62,
   "id": "91fec260-5677-4d00-a7bf-a7832448055f",
   "metadata": {},
   "outputs": [
    {
     "ename": "TypeError",
     "evalue": "greeting() missing 1 required positional argument: 'name'",
     "output_type": "error",
     "traceback": [
      "\u001b[31m---------------------------------------------------------------------------\u001b[39m",
      "\u001b[31mTypeError\u001b[39m                                 Traceback (most recent call last)",
      "\u001b[36mCell\u001b[39m\u001b[36m \u001b[39m\u001b[32mIn[62]\u001b[39m\u001b[32m, line 1\u001b[39m\n\u001b[32m----> \u001b[39m\u001b[32m1\u001b[39m \u001b[43mgreeting\u001b[49m\u001b[43m(\u001b[49m\u001b[43m)\u001b[49m\n",
      "\u001b[31mTypeError\u001b[39m: greeting() missing 1 required positional argument: 'name'"
     ]
    }
   ],
   "source": [
    "greeting()"
   ]
  },
  {
   "cell_type": "code",
   "execution_count": 61,
   "id": "ac8c807e-e4cc-4a3f-8e41-2659f1219d81",
   "metadata": {},
   "outputs": [
    {
     "name": "stdout",
     "output_type": "stream",
     "text": [
      "hello name  nice to meet you\n"
     ]
    }
   ],
   "source": [
    "greeting(\"name\")"
   ]
  },
  {
   "cell_type": "code",
   "execution_count": 66,
   "id": "72092f07-8e84-4da1-8113-fa7458f81771",
   "metadata": {},
   "outputs": [],
   "source": [
    "# default fuction \n",
    "def greeting(name = \"user\"):\n",
    "    print(f\"hello {name}, nice to meet you\")"
   ]
  },
  {
   "cell_type": "code",
   "execution_count": 67,
   "id": "65534033-15a1-46f2-b11d-51592deaae3c",
   "metadata": {},
   "outputs": [
    {
     "name": "stdout",
     "output_type": "stream",
     "text": [
      "hello user, nice to meet you\n"
     ]
    }
   ],
   "source": [
    "greeting()"
   ]
  },
  {
   "cell_type": "code",
   "execution_count": 75,
   "id": "791695f4-6575-4379-a457-eee7d9e9049f",
   "metadata": {},
   "outputs": [],
   "source": [
    "#return function\n",
    "def salary_structure(salary, tax_rate):\n",
    "    tax=salary* tax_rate\n",
    "    return tax"
   ]
  },
  {
   "cell_type": "code",
   "execution_count": 88,
   "id": "67c088be-3072-461e-9300-cd1c71c6b307",
   "metadata": {},
   "outputs": [],
   "source": [
    "tax = salary_structure(25000, 0.9)"
   ]
  },
  {
   "cell_type": "code",
   "execution_count": 89,
   "id": "1caf232a-2c9e-425a-b496-13f8e88a0c97",
   "metadata": {},
   "outputs": [
    {
     "data": {
      "text/plain": [
       "22500.0"
      ]
     },
     "execution_count": 89,
     "metadata": {},
     "output_type": "execute_result"
    }
   ],
   "source": [
    "tax"
   ]
  },
  {
   "cell_type": "code",
   "execution_count": 95,
   "id": "4959e35e-a5e5-4396-aa39-d7407a47ae45",
   "metadata": {},
   "outputs": [],
   "source": [
    "def volume_of_cuboid(lenght, width, hight):\n",
    "    \"\"\"\n",
    "    # this function calculates volume of cubiod it takes lenght, width, hight, as input and multiplies them\n",
    "    \"\"\"\n",
    "    \n",
    "    dimension = f\"\"\"\n",
    "    lenght: {lenght}\n",
    "    width: {width}\n",
    "    hight: {hight}\n",
    "    \"\"\"\n",
    "    print(dimension)\n",
    "    return lenght*width*hight"
   ]
  },
  {
   "cell_type": "code",
   "execution_count": 96,
   "id": "5cee31f5-98c0-4af7-8fba-aa9bc9b4bfad",
   "metadata": {},
   "outputs": [
    {
     "name": "stdout",
     "output_type": "stream",
     "text": [
      "\n",
      "    lenght: 90\n",
      "    width: 20\n",
      "    hight: 100\n",
      "    \n"
     ]
    },
    {
     "data": {
      "text/plain": [
       "180000"
      ]
     },
     "execution_count": 96,
     "metadata": {},
     "output_type": "execute_result"
    }
   ],
   "source": [
    "volume_of_cuboid(90, 20, 100)"
   ]
  },
  {
   "cell_type": "code",
   "execution_count": 99,
   "id": "1922a58e-b318-45f6-91c6-de0df01eacce",
   "metadata": {},
   "outputs": [
    {
     "name": "stdout",
     "output_type": "stream",
     "text": [
      "\n",
      "    lenght: 50\n",
      "    width: 80\n",
      "    hight: 100\n",
      "    \n"
     ]
    },
    {
     "data": {
      "text/plain": [
       "400000"
      ]
     },
     "execution_count": 99,
     "metadata": {},
     "output_type": "execute_result"
    }
   ],
   "source": [
    "volume_of_cuboid(lenght = 50, hight= 100, width = 80)"
   ]
  },
  {
   "cell_type": "code",
   "execution_count": 102,
   "id": "02526927-7f9e-4e08-9b7c-8c066cfc746c",
   "metadata": {},
   "outputs": [],
   "source": [
    "li = [2,3,4,5,6,787,5,4,3,6,8,6,3,5,8,2,7,9,5]"
   ]
  },
  {
   "cell_type": "code",
   "execution_count": 107,
   "id": "364e62e7-9f51-4e24-9a19-55cbdc530838",
   "metadata": {},
   "outputs": [],
   "source": [
    "def sorthalf(li : list):\n",
    "    lenght= len(li)\n",
    "    li.sort()\n",
    "    firsthalf = li[:lenght//2]\n",
    "    secondhalf = li[lenght//2:]\n",
    "    secondhalf.sort(reverse=True)\n",
    "\n",
    "    return firsthalf + secondhalf"
   ]
  },
  {
   "cell_type": "code",
   "execution_count": 108,
   "id": "a614925a-1a7e-42df-9049-325ce04a35a4",
   "metadata": {},
   "outputs": [
    {
     "data": {
      "text/plain": [
       "[2, 2, 3, 3, 3, 4, 4, 5, 5, 787, 9, 8, 8, 7, 6, 6, 6, 5, 5]"
      ]
     },
     "execution_count": 108,
     "metadata": {},
     "output_type": "execute_result"
    }
   ],
   "source": [
    "sorthalf(li)"
   ]
  },
  {
   "cell_type": "code",
   "execution_count": null,
   "id": "fccc8bc4-e388-4968-9ee6-c226f8a2d971",
   "metadata": {},
   "outputs": [],
   "source": [
    "try:\n",
    "    print(\"hi\")\n",
    "    print(int('vaibhav'))\n",
    "    print('hello')\n",
    "\n",
    "except ZeroDivisionError:\n",
    "    print('ZeroDivisionError aya h')\n",
    "except:\n",
    "    print('error h')\n",
    "else:\n",
    "    print('else work kr rha h')\n",
    "finally:\n",
    "    print('finally run hua')"
   ]
  }
 ],
 "metadata": {
  "kernelspec": {
   "display_name": "Python 3 (ipykernel)",
   "language": "python",
   "name": "python3"
  },
  "language_info": {
   "codemirror_mode": {
    "name": "ipython",
    "version": 3
   },
   "file_extension": ".py",
   "mimetype": "text/x-python",
   "name": "python",
   "nbconvert_exporter": "python",
   "pygments_lexer": "ipython3",
   "version": "3.13.5"
  }
 },
 "nbformat": 4,
 "nbformat_minor": 5
}
