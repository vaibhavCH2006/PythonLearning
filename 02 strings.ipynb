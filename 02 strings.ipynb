{
 "cells": [
  {
   "cell_type": "code",
   "execution_count": 3,
   "id": "3a946103-2f2d-4a6a-8590-fe5f2f767c42",
   "metadata": {},
   "outputs": [
    {
     "data": {
      "text/plain": [
       "'Shubham'"
      ]
     },
     "execution_count": 3,
     "metadata": {},
     "output_type": "execute_result"
    }
   ],
   "source": [
    "'Shubham'"
   ]
  },
  {
   "cell_type": "code",
   "execution_count": 4,
   "id": "987e12e2-6d38-490d-bc2a-6b997bbcbf0c",
   "metadata": {},
   "outputs": [
    {
     "data": {
      "text/plain": [
       "'shubham'"
      ]
     },
     "execution_count": 4,
     "metadata": {},
     "output_type": "execute_result"
    }
   ],
   "source": [
    "\"shubham\""
   ]
  },
  {
   "cell_type": "code",
   "execution_count": 5,
   "id": "cdf8e545-c5fc-44e3-902f-9ae2442717ba",
   "metadata": {},
   "outputs": [
    {
     "data": {
      "text/plain": [
       "'Shubham'"
      ]
     },
     "execution_count": 5,
     "metadata": {},
     "output_type": "execute_result"
    }
   ],
   "source": [
    "\"\"\"Shubham\"\"\""
   ]
  },
  {
   "cell_type": "code",
   "execution_count": 6,
   "id": "03ea352b-97a0-4a05-bff3-fb5a30b13793",
   "metadata": {},
   "outputs": [
    {
     "ename": "SyntaxError",
     "evalue": "unterminated string literal (detected at line 1) (1088974085.py, line 1)",
     "output_type": "error",
     "traceback": [
      "\u001b[1;36m  Cell \u001b[1;32mIn[6], line 1\u001b[1;36m\u001b[0m\n\u001b[1;33m    'that's mine'\u001b[0m\n\u001b[1;37m                ^\u001b[0m\n\u001b[1;31mSyntaxError\u001b[0m\u001b[1;31m:\u001b[0m unterminated string literal (detected at line 1)\n"
     ]
    }
   ],
   "source": [
    "'that's mine'"
   ]
  },
  {
   "cell_type": "code",
   "execution_count": 8,
   "id": "e7115a63-fba4-48b5-9d7a-5e2d25a9e643",
   "metadata": {},
   "outputs": [
    {
     "data": {
      "text/plain": [
       "\"that's mine\""
      ]
     },
     "execution_count": 8,
     "metadata": {},
     "output_type": "execute_result"
    }
   ],
   "source": [
    "\"that's mine\""
   ]
  },
  {
   "cell_type": "code",
   "execution_count": 9,
   "id": "a7d249de-ed5e-4be3-8593-a1e7c3b6c474",
   "metadata": {},
   "outputs": [
    {
     "ename": "SyntaxError",
     "evalue": "unterminated string literal (detected at line 1) (2987757063.py, line 1)",
     "output_type": "error",
     "traceback": [
      "\u001b[1;36m  Cell \u001b[1;32mIn[9], line 1\u001b[1;36m\u001b[0m\n\u001b[1;33m    \"hi nice to meet you\u001b[0m\n\u001b[1;37m    ^\u001b[0m\n\u001b[1;31mSyntaxError\u001b[0m\u001b[1;31m:\u001b[0m unterminated string literal (detected at line 1)\n"
     ]
    }
   ],
   "source": [
    "\"hi nice to meet you\n",
    "my name is shubham\""
   ]
  },
  {
   "cell_type": "code",
   "execution_count": 10,
   "id": "369c9919-8060-4b14-b10e-d35b384b31ef",
   "metadata": {},
   "outputs": [
    {
     "data": {
      "text/plain": [
       "'\\nhi nice to meet  you \\nmy name is shubham\\n'"
      ]
     },
     "execution_count": 10,
     "metadata": {},
     "output_type": "execute_result"
    }
   ],
   "source": [
    "\"\"\"\n",
    "hi nice to meet  you \n",
    "my name is shubham\n",
    "\"\"\""
   ]
  },
  {
   "cell_type": "code",
   "execution_count": 11,
   "id": "692367a0-82d9-4c3a-ab24-00e5d89149ba",
   "metadata": {},
   "outputs": [
    {
     "name": "stdout",
     "output_type": "stream",
     "text": [
      "\n",
      "hi nice to meet  you \n",
      "my name is shubham\n",
      "\n"
     ]
    }
   ],
   "source": [
    "print(\"\"\"\n",
    "hi nice to meet  you \n",
    "my name is shubham\n",
    "\"\"\")"
   ]
  },
  {
   "cell_type": "code",
   "execution_count": 12,
   "id": "1f4aee8a-1a62-489b-ba60-0c2a9cb74bdd",
   "metadata": {},
   "outputs": [
    {
     "data": {
      "text/plain": [
       "str"
      ]
     },
     "execution_count": 12,
     "metadata": {},
     "output_type": "execute_result"
    }
   ],
   "source": [
    "type(\"shubham\")"
   ]
  },
  {
   "cell_type": "code",
   "execution_count": 14,
   "id": "54afca94-5604-4b76-b399-f6ba2a33987f",
   "metadata": {},
   "outputs": [
    {
     "data": {
      "text/plain": [
       "'Shubham'"
      ]
     },
     "execution_count": 14,
     "metadata": {},
     "output_type": "execute_result"
    }
   ],
   "source": [
    "\"shubham\".capitalize()"
   ]
  },
  {
   "cell_type": "code",
   "execution_count": 15,
   "id": "9cdea83c-df8c-4348-8a3e-eceb14b210c6",
   "metadata": {},
   "outputs": [
    {
     "data": {
      "text/plain": [
       "'SHUBHAM'"
      ]
     },
     "execution_count": 15,
     "metadata": {},
     "output_type": "execute_result"
    }
   ],
   "source": [
    "\"shubham\".upper()"
   ]
  },
  {
   "cell_type": "code",
   "execution_count": 16,
   "id": "61112818-6dde-44d9-ba2e-0c0057a55687",
   "metadata": {},
   "outputs": [
    {
     "data": {
      "text/plain": [
       "'shubham'"
      ]
     },
     "execution_count": 16,
     "metadata": {},
     "output_type": "execute_result"
    }
   ],
   "source": [
    "\"sHuBham\".lower()"
   ]
  },
  {
   "cell_type": "code",
   "execution_count": 17,
   "id": "795be881-21a2-414e-9ed1-3074e83390d2",
   "metadata": {},
   "outputs": [
    {
     "data": {
      "text/plain": [
       "2"
      ]
     },
     "execution_count": 17,
     "metadata": {},
     "output_type": "execute_result"
    }
   ],
   "source": [
    "\"shubham\".count('h')"
   ]
  },
  {
   "cell_type": "code",
   "execution_count": 18,
   "id": "b0350459-bd1f-498f-9c8e-e6cb4ca163f4",
   "metadata": {},
   "outputs": [
    {
     "data": {
      "text/plain": [
       "3"
      ]
     },
     "execution_count": 18,
     "metadata": {},
     "output_type": "execute_result"
    }
   ],
   "source": [
    "\"shubham Singh\".count('h')"
   ]
  },
  {
   "cell_type": "code",
   "execution_count": 25,
   "id": "d9c4df48-b895-4e11-b9fb-6e59df57cb62",
   "metadata": {},
   "outputs": [],
   "source": [
    "name  = \"shubham SinGh\""
   ]
  },
  {
   "cell_type": "code",
   "execution_count": 26,
   "id": "b17e162a-5e32-4393-9b10-9e1bee70edcb",
   "metadata": {},
   "outputs": [
    {
     "data": {
      "text/plain": [
       "-1"
      ]
     },
     "execution_count": 26,
     "metadata": {},
     "output_type": "execute_result"
    }
   ],
   "source": [
    "name.find('g')"
   ]
  },
  {
   "cell_type": "code",
   "execution_count": 28,
   "id": "60e425f6-5d8a-4b69-855e-401859531c0e",
   "metadata": {},
   "outputs": [
    {
     "data": {
      "text/plain": [
       "13"
      ]
     },
     "execution_count": 28,
     "metadata": {},
     "output_type": "execute_result"
    }
   ],
   "source": [
    "len(name)"
   ]
  },
  {
   "cell_type": "code",
   "execution_count": 30,
   "id": "5223b2dd-7643-4450-b730-fed19a3a8518",
   "metadata": {},
   "outputs": [],
   "source": [
    "first_name = \"Shubham\""
   ]
  },
  {
   "cell_type": "code",
   "execution_count": 31,
   "id": "451c1633-246b-4783-bba8-0ffa7a38a6fc",
   "metadata": {},
   "outputs": [],
   "source": [
    "Last_name  = \"singh\""
   ]
  },
  {
   "cell_type": "code",
   "execution_count": 33,
   "id": "efdb771b-8e9d-440d-87c6-9ca2fffde904",
   "metadata": {},
   "outputs": [
    {
     "data": {
      "text/plain": [
       "'Shubham singh'"
      ]
     },
     "execution_count": 33,
     "metadata": {},
     "output_type": "execute_result"
    }
   ],
   "source": [
    "first_name + \" \"+  Last_name"
   ]
  },
  {
   "cell_type": "code",
   "execution_count": 34,
   "id": "baef3f03-b69c-49d0-b323-2531dee124fd",
   "metadata": {},
   "outputs": [
    {
     "data": {
      "text/plain": [
       "10"
      ]
     },
     "execution_count": 34,
     "metadata": {},
     "output_type": "execute_result"
    }
   ],
   "source": [
    "5+5"
   ]
  },
  {
   "cell_type": "code",
   "execution_count": 35,
   "id": "fae7ba03-5ecd-47f0-8a43-1aa6e8344017",
   "metadata": {},
   "outputs": [
    {
     "data": {
      "text/plain": [
       "'55'"
      ]
     },
     "execution_count": 35,
     "metadata": {},
     "output_type": "execute_result"
    }
   ],
   "source": [
    "\"5\" + \"5\""
   ]
  },
  {
   "cell_type": "code",
   "execution_count": 37,
   "id": "bcc223eb-ad51-4513-a305-e8724f4b6d45",
   "metadata": {},
   "outputs": [
    {
     "data": {
      "text/plain": [
       "str"
      ]
     },
     "execution_count": 37,
     "metadata": {},
     "output_type": "execute_result"
    }
   ],
   "source": [
    "type('55')"
   ]
  },
  {
   "cell_type": "code",
   "execution_count": 38,
   "id": "d7353838-d0bf-4ee6-8516-8fee0ae6705e",
   "metadata": {},
   "outputs": [
    {
     "data": {
      "text/plain": [
       "int"
      ]
     },
     "execution_count": 38,
     "metadata": {},
     "output_type": "execute_result"
    }
   ],
   "source": [
    "type(55)"
   ]
  },
  {
   "cell_type": "code",
   "execution_count": 40,
   "id": "a7e22416-c6d2-4578-81be-9d628f9cdb4a",
   "metadata": {},
   "outputs": [
    {
     "ename": "TypeError",
     "evalue": "can only concatenate str (not \"int\") to str",
     "output_type": "error",
     "traceback": [
      "\u001b[1;31m---------------------------------------------------------------------------\u001b[0m",
      "\u001b[1;31mTypeError\u001b[0m                                 Traceback (most recent call last)",
      "Cell \u001b[1;32mIn[40], line 1\u001b[0m\n\u001b[1;32m----> 1\u001b[0m \u001b[38;5;124m\"\u001b[39m\u001b[38;5;124m5\u001b[39m\u001b[38;5;124m\"\u001b[39m \u001b[38;5;241m+\u001b[39m \u001b[38;5;241m5\u001b[39m\n",
      "\u001b[1;31mTypeError\u001b[0m: can only concatenate str (not \"int\") to str"
     ]
    }
   ],
   "source": [
    "\"5\" + 5"
   ]
  },
  {
   "cell_type": "code",
   "execution_count": 39,
   "id": "181fb965-4b65-448c-932e-64676082a22f",
   "metadata": {},
   "outputs": [
    {
     "ename": "TypeError",
     "evalue": "unsupported operand type(s) for +: 'int' and 'str'",
     "output_type": "error",
     "traceback": [
      "\u001b[1;31m---------------------------------------------------------------------------\u001b[0m",
      "\u001b[1;31mTypeError\u001b[0m                                 Traceback (most recent call last)",
      "Cell \u001b[1;32mIn[39], line 1\u001b[0m\n\u001b[1;32m----> 1\u001b[0m \u001b[38;5;241m5\u001b[39m \u001b[38;5;241m+\u001b[39m \u001b[38;5;124m\"\u001b[39m\u001b[38;5;124m5\u001b[39m\u001b[38;5;124m\"\u001b[39m\n",
      "\u001b[1;31mTypeError\u001b[0m: unsupported operand type(s) for +: 'int' and 'str'"
     ]
    }
   ],
   "source": [
    "5 + \"5\""
   ]
  },
  {
   "cell_type": "code",
   "execution_count": 49,
   "id": "06853843-25f6-4fcd-a985-1c335e37ba90",
   "metadata": {},
   "outputs": [],
   "source": [
    "name= \"keshav\"\n",
    "salary = 80000"
   ]
  },
  {
   "cell_type": "code",
   "execution_count": 52,
   "id": "3cab0036-e91f-4058-b230-50038f9e3949",
   "metadata": {},
   "outputs": [
    {
     "ename": "TypeError",
     "evalue": "can only concatenate str (not \"int\") to str",
     "output_type": "error",
     "traceback": [
      "\u001b[1;31m---------------------------------------------------------------------------\u001b[0m",
      "\u001b[1;31mTypeError\u001b[0m                                 Traceback (most recent call last)",
      "Cell \u001b[1;32mIn[52], line 1\u001b[0m\n\u001b[1;32m----> 1\u001b[0m \u001b[38;5;124m\"\u001b[39m\u001b[38;5;124mhi my name is \u001b[39m\u001b[38;5;124m\"\u001b[39m \u001b[38;5;241m+\u001b[39m name \u001b[38;5;241m+\u001b[39m \u001b[38;5;124m\"\u001b[39m\u001b[38;5;124m and my salary is \u001b[39m\u001b[38;5;124m\"\u001b[39m \u001b[38;5;241m+\u001b[39m salary\n",
      "\u001b[1;31mTypeError\u001b[0m: can only concatenate str (not \"int\") to str"
     ]
    }
   ],
   "source": [
    "\"hi my name is \" + name + \" and my salary is \" + salary"
   ]
  },
  {
   "cell_type": "code",
   "execution_count": 59,
   "id": "51caafa4-f15f-470a-aafc-474a9c3db1b2",
   "metadata": {},
   "outputs": [
    {
     "data": {
      "text/plain": [
       "'hi my name is abhi jr and my salary is 80000. i am of abhi, and i live in delhi'"
      ]
     },
     "execution_count": 59,
     "metadata": {},
     "output_type": "execute_result"
    }
   ],
   "source": [
    "\"hi my name is {name} jr and my salary is {salary}. i am of {name}, and i live in {place}\".format(name = \"abhi\", salary =80000, place = \"delhi\")"
   ]
  },
  {
   "cell_type": "code",
   "execution_count": 60,
   "id": "fd533bbb-1bcc-47f2-b348-1e207fac872c",
   "metadata": {},
   "outputs": [],
   "source": [
    "name = \"abhi\"\n",
    "age = 50\n",
    "salary = 75000\n",
    "place = \"chd\""
   ]
  },
  {
   "cell_type": "code",
   "execution_count": 63,
   "id": "883f2a4d-4bda-445d-9455-2b9ef500de57",
   "metadata": {},
   "outputs": [
    {
     "data": {
      "text/plain": [
       "'hi my name is abhi, and my age is 50, and my salary is 75000, and i live in chd'"
      ]
     },
     "execution_count": 63,
     "metadata": {},
     "output_type": "execute_result"
    }
   ],
   "source": [
    "f'hi my name is {name}, and my age is {age}, and my salary is {salary}, and i live in {place}'"
   ]
  },
  {
   "cell_type": "code",
   "execution_count": 64,
   "id": "77d6dbdd-1173-43f0-869a-ea121537309e",
   "metadata": {},
   "outputs": [
    {
     "data": {
      "text/plain": [
       "'shubham singh'"
      ]
     },
     "execution_count": 64,
     "metadata": {},
     "output_type": "execute_result"
    }
   ],
   "source": [
    "\"Shubham Singh\".lower()"
   ]
  },
  {
   "cell_type": "code",
   "execution_count": 66,
   "id": "eb2b8434-dedf-4c77-aeef-1aa12062d244",
   "metadata": {},
   "outputs": [
    {
     "data": {
      "text/plain": [
       "['shubham', 'singh']"
      ]
     },
     "execution_count": 66,
     "metadata": {},
     "output_type": "execute_result"
    }
   ],
   "source": [
    "\"shubham singh\".split()"
   ]
  },
  {
   "cell_type": "code",
   "execution_count": 68,
   "id": "3128b83a-ec3d-4525-b7b1-3871dbd88c18",
   "metadata": {},
   "outputs": [
    {
     "data": {
      "text/plain": [
       "['tom', 'jerry', 'billi', 'kutta']"
      ]
     },
     "execution_count": 68,
     "metadata": {},
     "output_type": "execute_result"
    }
   ],
   "source": [
    "\"tom jerry billi kutta\".split()"
   ]
  },
  {
   "cell_type": "code",
   "execution_count": 75,
   "id": "eb3a517e-7025-41b0-8306-0d3032f06125",
   "metadata": {},
   "outputs": [
    {
     "data": {
      "text/plain": [
       "['tomjerryb', 'll', 'kutta']"
      ]
     },
     "execution_count": 75,
     "metadata": {},
     "output_type": "execute_result"
    }
   ],
   "source": [
    "\"tomjerrybillikutta\".split(\"i\")"
   ]
  },
  {
   "cell_type": "code",
   "execution_count": 78,
   "id": "9fdc668d-1f28-4aaf-bd83-5f571471fceb",
   "metadata": {},
   "outputs": [
    {
     "data": {
      "text/plain": [
       "['hi', 'my', 'name', 'is', 'shubham']"
      ]
     },
     "execution_count": 78,
     "metadata": {},
     "output_type": "execute_result"
    }
   ],
   "source": [
    "\"hi my name is shubham\".split()"
   ]
  },
  {
   "cell_type": "code",
   "execution_count": 79,
   "id": "6af1f1ec-cda1-4ebe-ad3c-e887372e6317",
   "metadata": {},
   "outputs": [
    {
     "data": {
      "text/plain": [
       "['2025', '07', '25']"
      ]
     },
     "execution_count": 79,
     "metadata": {},
     "output_type": "execute_result"
    }
   ],
   "source": [
    "\"2025-07-25\".split(\"-\")"
   ]
  },
  {
   "cell_type": "code",
   "execution_count": 80,
   "id": "aabf9a42-a90e-4c4d-ad89-65c8ba877610",
   "metadata": {},
   "outputs": [
    {
     "data": {
      "text/plain": [
       "'shubham'"
      ]
     },
     "execution_count": 80,
     "metadata": {},
     "output_type": "execute_result"
    }
   ],
   "source": [
    "\"  shubham   \".strip()"
   ]
  },
  {
   "cell_type": "code",
   "execution_count": 81,
   "id": "db2909ce-0ad1-431a-9cbe-f2321542a337",
   "metadata": {},
   "outputs": [
    {
     "name": "stdout",
     "output_type": "stream",
     "text": [
      "shubham\n",
      "shubham \n"
     ]
    }
   ],
   "source": [
    "print('shubham')\n",
    "print('shubham ')"
   ]
  },
  {
   "cell_type": "code",
   "execution_count": 82,
   "id": "ef8c79fd-1923-4f48-a32b-e7123c0db751",
   "metadata": {},
   "outputs": [
    {
     "data": {
      "text/plain": [
       "True"
      ]
     },
     "execution_count": 82,
     "metadata": {},
     "output_type": "execute_result"
    }
   ],
   "source": [
    "\"shubham\".islower()"
   ]
  },
  {
   "cell_type": "code",
   "execution_count": 83,
   "id": "a69f7f19-5b16-4311-bf96-318cfc9e228a",
   "metadata": {},
   "outputs": [
    {
     "data": {
      "text/plain": [
       "True"
      ]
     },
     "execution_count": 83,
     "metadata": {},
     "output_type": "execute_result"
    }
   ],
   "source": [
    "\"SHUBHAM\".isupper()"
   ]
  },
  {
   "cell_type": "code",
   "execution_count": 84,
   "id": "5772716d-43ed-411f-a2e4-f7079c779d3c",
   "metadata": {},
   "outputs": [
    {
     "data": {
      "text/plain": [
       "False"
      ]
     },
     "execution_count": 84,
     "metadata": {},
     "output_type": "execute_result"
    }
   ],
   "source": [
    "\"SHUBHAM\".islower()"
   ]
  },
  {
   "cell_type": "code",
   "execution_count": 86,
   "id": "97a65d51-6fea-49b2-a221-cdbe045427f1",
   "metadata": {},
   "outputs": [
    {
     "data": {
      "text/plain": [
       "False"
      ]
     },
     "execution_count": 86,
     "metadata": {},
     "output_type": "execute_result"
    }
   ],
   "source": [
    "\"Shubham\".isupper()"
   ]
  },
  {
   "cell_type": "code",
   "execution_count": 87,
   "id": "7776bacb-f4ed-4fd3-bfda-6814463eecb0",
   "metadata": {},
   "outputs": [
    {
     "data": {
      "text/plain": [
       "True"
      ]
     },
     "execution_count": 87,
     "metadata": {},
     "output_type": "execute_result"
    }
   ],
   "source": [
    "\"shubham\".isalpha()"
   ]
  },
  {
   "cell_type": "code",
   "execution_count": 88,
   "id": "cf37971a-9d1b-40b0-b251-a5e68cb4019c",
   "metadata": {},
   "outputs": [
    {
     "data": {
      "text/plain": [
       "True"
      ]
     },
     "execution_count": 88,
     "metadata": {},
     "output_type": "execute_result"
    }
   ],
   "source": [
    "\"8520\".isdigit()"
   ]
  },
  {
   "cell_type": "code",
   "execution_count": 89,
   "id": "8315f34c-7edb-4f2c-8a19-9cc0fe3ea074",
   "metadata": {},
   "outputs": [
    {
     "data": {
      "text/plain": [
       "False"
      ]
     },
     "execution_count": 89,
     "metadata": {},
     "output_type": "execute_result"
    }
   ],
   "source": [
    "\"shubham\".isdigit()"
   ]
  },
  {
   "cell_type": "code",
   "execution_count": 90,
   "id": "10f90eff-e9a3-4fb3-9963-22a6b75a5760",
   "metadata": {},
   "outputs": [
    {
     "data": {
      "text/plain": [
       "False"
      ]
     },
     "execution_count": 90,
     "metadata": {},
     "output_type": "execute_result"
    }
   ],
   "source": [
    "\"8520\".isalpha()"
   ]
  },
  {
   "cell_type": "code",
   "execution_count": 91,
   "id": "2d1537b5-b563-481a-8ea4-271e94e436bd",
   "metadata": {},
   "outputs": [
    {
     "data": {
      "text/plain": [
       "True"
      ]
     },
     "execution_count": 91,
     "metadata": {},
     "output_type": "execute_result"
    }
   ],
   "source": [
    "\"Shubham50\".isalnum()"
   ]
  },
  {
   "cell_type": "code",
   "execution_count": 92,
   "id": "d6ac5fc7-bf4c-46eb-b672-0e8016cf1969",
   "metadata": {},
   "outputs": [
    {
     "data": {
      "text/plain": [
       "False"
      ]
     },
     "execution_count": 92,
     "metadata": {},
     "output_type": "execute_result"
    }
   ],
   "source": [
    "\"shubham singh\".isalpha()"
   ]
  },
  {
   "cell_type": "code",
   "execution_count": 93,
   "id": "031ec7ae-83a8-4a01-901a-c33b70a7ce65",
   "metadata": {},
   "outputs": [
    {
     "data": {
      "text/plain": [
       "True"
      ]
     },
     "execution_count": 93,
     "metadata": {},
     "output_type": "execute_result"
    }
   ],
   "source": [
    "\" \".isspace()"
   ]
  },
  {
   "cell_type": "code",
   "execution_count": 95,
   "id": "01fe67bd-7540-4021-bf43-c5c94ef342c1",
   "metadata": {},
   "outputs": [
    {
     "name": "stdout",
     "output_type": "stream",
     "text": [
      "Help on built-in function replace:\n",
      "\n",
      "replace(old, new, count=-1, /) method of builtins.str instance\n",
      "    Return a copy with all occurrences of substring old replaced by new.\n",
      "\n",
      "      count\n",
      "        Maximum number of occurrences to replace.\n",
      "        -1 (the default value) means replace all occurrences.\n",
      "\n",
      "    If the optional argument count is given, only the first count occurrences are\n",
      "    replaced.\n",
      "\n"
     ]
    }
   ],
   "source": [
    "help(\"shubham singh\".replace)"
   ]
  },
  {
   "cell_type": "code",
   "execution_count": 99,
   "id": "ce0797d4-6120-41e6-ae40-0dffe588663a",
   "metadata": {},
   "outputs": [
    {
     "data": {
      "text/plain": [
       "'s8ub8am singh'"
      ]
     },
     "execution_count": 99,
     "metadata": {},
     "output_type": "execute_result"
    }
   ],
   "source": [
    "\"shubham singh\".replace(\"h\", \"8\", 2)"
   ]
  },
  {
   "cell_type": "code",
   "execution_count": 100,
   "id": "b6b849f4-dc37-446d-9122-107ce0fc0eba",
   "metadata": {},
   "outputs": [],
   "source": [
    "name = \"Shubham singh\""
   ]
  },
  {
   "cell_type": "code",
   "execution_count": 105,
   "id": "7bcbe433-d85a-4441-b1d0-0974a79a26a9",
   "metadata": {},
   "outputs": [
    {
     "data": {
      "text/plain": [
       "'Shubham singh'"
      ]
     },
     "execution_count": 105,
     "metadata": {},
     "output_type": "execute_result"
    }
   ],
   "source": [
    "name"
   ]
  },
  {
   "cell_type": "code",
   "execution_count": 122,
   "id": "59c74796-7df6-4638-8c0d-bcedf2dde29d",
   "metadata": {},
   "outputs": [
    {
     "data": {
      "text/plain": [
       "'h'"
      ]
     },
     "execution_count": 122,
     "metadata": {},
     "output_type": "execute_result"
    }
   ],
   "source": [
    "name[12]"
   ]
  },
  {
   "cell_type": "code",
   "execution_count": 124,
   "id": "09f94aaa-ba03-4924-89b7-617dd50352b5",
   "metadata": {},
   "outputs": [
    {
     "data": {
      "text/plain": [
       "13"
      ]
     },
     "execution_count": 124,
     "metadata": {},
     "output_type": "execute_result"
    }
   ],
   "source": [
    "len(name)"
   ]
  },
  {
   "cell_type": "code",
   "execution_count": 125,
   "id": "87bb594d-3508-444a-8639-1cc824a07ede",
   "metadata": {},
   "outputs": [
    {
     "data": {
      "text/plain": [
       "'Shubham singh'"
      ]
     },
     "execution_count": 125,
     "metadata": {},
     "output_type": "execute_result"
    }
   ],
   "source": [
    "name"
   ]
  },
  {
   "cell_type": "code",
   "execution_count": 113,
   "id": "bb6ef5ff-397f-494f-ad84-94e46b2ef25d",
   "metadata": {},
   "outputs": [
    {
     "data": {
      "text/plain": [
       "' '"
      ]
     },
     "execution_count": 113,
     "metadata": {},
     "output_type": "execute_result"
    }
   ],
   "source": [
    "name[-13]"
   ]
  },
  {
   "cell_type": "code",
   "execution_count": 7,
   "id": "b49d9d63-ecbe-40e3-ac2c-d5c0f17d79ca",
   "metadata": {},
   "outputs": [
    {
     "data": {
      "text/plain": [
       "'m'"
      ]
     },
     "execution_count": 7,
     "metadata": {},
     "output_type": "execute_result"
    }
   ],
   "source": [
    "\"shubham\"[6]"
   ]
  },
  {
   "cell_type": "code",
   "execution_count": 8,
   "id": "30874639-5c12-40f2-8ccb-9a3e8b292c67",
   "metadata": {},
   "outputs": [
    {
     "data": {
      "text/plain": [
       "7"
      ]
     },
     "execution_count": 8,
     "metadata": {},
     "output_type": "execute_result"
    }
   ],
   "source": [
    "len(\"Shubham\")"
   ]
  },
  {
   "cell_type": "code",
   "execution_count": 9,
   "id": "8390dc5b-c24b-4b68-a4ab-3097ab2c1f13",
   "metadata": {},
   "outputs": [
    {
     "data": {
      "text/plain": [
       "'a'"
      ]
     },
     "execution_count": 9,
     "metadata": {},
     "output_type": "execute_result"
    }
   ],
   "source": [
    "\"Shubham\"[-2]"
   ]
  },
  {
   "cell_type": "code",
   "execution_count": 10,
   "id": "541010d1-6342-4119-8420-928886bec126",
   "metadata": {},
   "outputs": [],
   "source": [
    "name = \"Shubham singh\""
   ]
  },
  {
   "cell_type": "code",
   "execution_count": 14,
   "id": "615a4758-67f9-48bf-8331-bfb3612e87c2",
   "metadata": {},
   "outputs": [
    {
     "data": {
      "text/plain": [
       "'Shubham singh'"
      ]
     },
     "execution_count": 14,
     "metadata": {},
     "output_type": "execute_result"
    }
   ],
   "source": [
    "name"
   ]
  },
  {
   "cell_type": "code",
   "execution_count": 15,
   "id": "f4184e12-3007-45a5-8121-6bdfabdb1728",
   "metadata": {},
   "outputs": [
    {
     "data": {
      "text/plain": [
       "'singh'"
      ]
     },
     "execution_count": 15,
     "metadata": {},
     "output_type": "execute_result"
    }
   ],
   "source": [
    "name[8:]"
   ]
  },
  {
   "cell_type": "code",
   "execution_count": 16,
   "id": "062c2054-d6ba-44f0-9bd1-a28c2e795ea3",
   "metadata": {},
   "outputs": [
    {
     "data": {
      "text/plain": [
       "'Shubham singh'"
      ]
     },
     "execution_count": 16,
     "metadata": {},
     "output_type": "execute_result"
    }
   ],
   "source": [
    "name"
   ]
  },
  {
   "cell_type": "code",
   "execution_count": 22,
   "id": "cd323037-a4db-4774-af24-9f05e68799b5",
   "metadata": {},
   "outputs": [
    {
     "data": {
      "text/plain": [
       "'Shubham'"
      ]
     },
     "execution_count": 22,
     "metadata": {},
     "output_type": "execute_result"
    }
   ],
   "source": [
    "name[:7]"
   ]
  },
  {
   "cell_type": "code",
   "execution_count": 23,
   "id": "41d85b58-e029-46d7-a8d6-eec881a476e1",
   "metadata": {},
   "outputs": [],
   "source": [
    "greet = \"Hello Shubham nice to meet you\""
   ]
  },
  {
   "cell_type": "code",
   "execution_count": 24,
   "id": "01e8510a-ad6c-4efb-9230-cd443026881a",
   "metadata": {},
   "outputs": [
    {
     "data": {
      "text/plain": [
       "'Hello Shubham nice to meet you'"
      ]
     },
     "execution_count": 24,
     "metadata": {},
     "output_type": "execute_result"
    }
   ],
   "source": [
    "greet"
   ]
  },
  {
   "cell_type": "code",
   "execution_count": 30,
   "id": "ae6bd4f3-51dc-41b7-afa3-6d809ee7c2b4",
   "metadata": {},
   "outputs": [
    {
     "data": {
      "text/plain": [
       "'Shubham'"
      ]
     },
     "execution_count": 30,
     "metadata": {},
     "output_type": "execute_result"
    }
   ],
   "source": [
    "greet[6:13]"
   ]
  },
  {
   "cell_type": "code",
   "execution_count": 31,
   "id": "87c8a7ec-d7c7-40b3-b0a6-62bd7e0bf1e3",
   "metadata": {},
   "outputs": [
    {
     "data": {
      "text/plain": [
       "'0123456789'"
      ]
     },
     "execution_count": 31,
     "metadata": {},
     "output_type": "execute_result"
    }
   ],
   "source": [
    "\"0123456789\""
   ]
  },
  {
   "cell_type": "code",
   "execution_count": 34,
   "id": "1baf3c38-11f3-43e2-8c79-e971b09a9764",
   "metadata": {},
   "outputs": [
    {
     "data": {
      "text/plain": [
       "'456'"
      ]
     },
     "execution_count": 34,
     "metadata": {},
     "output_type": "execute_result"
    }
   ],
   "source": [
    "\"0123456789\"[4:7]"
   ]
  },
  {
   "cell_type": "code",
   "execution_count": 36,
   "id": "8b2aeaa5-6c4c-412a-90a5-786df4727b9d",
   "metadata": {},
   "outputs": [],
   "source": [
    "s = \"the fox ran\""
   ]
  },
  {
   "cell_type": "code",
   "execution_count": 37,
   "id": "ef5454b7-fb77-4794-b2d2-2304db9a7b28",
   "metadata": {},
   "outputs": [
    {
     "data": {
      "text/plain": [
       "'the fox ran'"
      ]
     },
     "execution_count": 37,
     "metadata": {},
     "output_type": "execute_result"
    }
   ],
   "source": [
    "s"
   ]
  },
  {
   "cell_type": "code",
   "execution_count": 49,
   "id": "db4a0399-d6f9-474b-860c-541383931b82",
   "metadata": {},
   "outputs": [
    {
     "data": {
      "text/plain": [
       "'the'"
      ]
     },
     "execution_count": 49,
     "metadata": {},
     "output_type": "execute_result"
    }
   ],
   "source": [
    "s[:3]"
   ]
  },
  {
   "cell_type": "code",
   "execution_count": 50,
   "id": "360e7e4c-2368-4f78-bca6-bd0626485de6",
   "metadata": {},
   "outputs": [],
   "source": [
    "name = \"Dhyanender pratap singh\""
   ]
  },
  {
   "cell_type": "code",
   "execution_count": 60,
   "id": "27e10178-3357-4ba6-a9d7-6e67fe544aac",
   "metadata": {},
   "outputs": [
    {
     "data": {
      "text/plain": [
       "'Dhyanender pratap singh'"
      ]
     },
     "execution_count": 60,
     "metadata": {},
     "output_type": "execute_result"
    }
   ],
   "source": [
    "name"
   ]
  },
  {
   "cell_type": "code",
   "execution_count": 64,
   "id": "94d02866-72a7-43df-b566-e4c2578132c3",
   "metadata": {},
   "outputs": [
    {
     "data": {
      "text/plain": [
       "'Dynne'"
      ]
     },
     "execution_count": 64,
     "metadata": {},
     "output_type": "execute_result"
    }
   ],
   "source": [
    "name[0:10:2]"
   ]
  },
  {
   "cell_type": "code",
   "execution_count": 71,
   "id": "aa8280ee-348c-468a-a826-7d900aaa23ae",
   "metadata": {},
   "outputs": [
    {
     "data": {
      "text/plain": [
       "'ender pratap'"
      ]
     },
     "execution_count": 71,
     "metadata": {},
     "output_type": "execute_result"
    }
   ],
   "source": [
    "name[5:-6]"
   ]
  },
  {
   "cell_type": "code",
   "execution_count": 72,
   "id": "4fa3f33d-8add-4e66-ae14-a1e243fe89c1",
   "metadata": {},
   "outputs": [
    {
     "data": {
      "text/plain": [
       "'edrpaa'"
      ]
     },
     "execution_count": 72,
     "metadata": {},
     "output_type": "execute_result"
    }
   ],
   "source": [
    "name[5:-6:2]"
   ]
  },
  {
   "cell_type": "code",
   "execution_count": 78,
   "id": "732e92de-326a-4df6-b25e-714a5b339ab7",
   "metadata": {},
   "outputs": [
    {
     "data": {
      "text/plain": [
       "'tap'"
      ]
     },
     "execution_count": 78,
     "metadata": {},
     "output_type": "execute_result"
    }
   ],
   "source": [
    "name[5:-6][6:][3:]"
   ]
  },
  {
   "cell_type": "code",
   "execution_count": 81,
   "id": "266549e5-8092-43be-88ad-9e6652da62ea",
   "metadata": {},
   "outputs": [
    {
     "data": {
      "text/plain": [
       "'Dhyanender pratap singh'"
      ]
     },
     "execution_count": 81,
     "metadata": {},
     "output_type": "execute_result"
    }
   ],
   "source": [
    "name"
   ]
  },
  {
   "cell_type": "code",
   "execution_count": 80,
   "id": "49af0c85-e3ae-49f5-9aeb-0604ee65ec68",
   "metadata": {},
   "outputs": [
    {
     "data": {
      "text/plain": [
       "'hgnis patarp rednenayhD'"
      ]
     },
     "execution_count": 80,
     "metadata": {},
     "output_type": "execute_result"
    }
   ],
   "source": [
    "name[::-1]"
   ]
  },
  {
   "cell_type": "code",
   "execution_count": 87,
   "id": "ff243ca4-cc0d-45f9-8f72-b6997dd1ca08",
   "metadata": {},
   "outputs": [
    {
     "data": {
      "text/plain": [
       "'patarp'"
      ]
     },
     "execution_count": 87,
     "metadata": {},
     "output_type": "execute_result"
    }
   ],
   "source": [
    "name[11:17][::-1]"
   ]
  },
  {
   "cell_type": "code",
   "execution_count": 95,
   "id": "ec97ac26-40a1-486b-b4ef-b02de12a9f34",
   "metadata": {},
   "outputs": [
    {
     "data": {
      "text/plain": [
       "'patarp'"
      ]
     },
     "execution_count": 95,
     "metadata": {},
     "output_type": "execute_result"
    }
   ],
   "source": [
    "name[11:17][::-1]"
   ]
  },
  {
   "cell_type": "code",
   "execution_count": 96,
   "id": "4f327185-75bc-4a24-9664-443ad6dbe2e0",
   "metadata": {},
   "outputs": [
    {
     "data": {
      "text/plain": [
       "'Dhyanender pratap singh'"
      ]
     },
     "execution_count": 96,
     "metadata": {},
     "output_type": "execute_result"
    }
   ],
   "source": [
    "name"
   ]
  },
  {
   "cell_type": "code",
   "execution_count": 102,
   "id": "f03f73f5-e8fc-4c76-b848-f1abfdfbd9e0",
   "metadata": {},
   "outputs": [
    {
     "data": {
      "text/plain": [
       "'ednenayhD'"
      ]
     },
     "execution_count": 102,
     "metadata": {},
     "output_type": "execute_result"
    }
   ],
   "source": [
    "name[:9][::-1]"
   ]
  },
  {
   "cell_type": "code",
   "execution_count": 101,
   "id": "4dfee466-abae-4e5b-8fd8-8f084b4f13c6",
   "metadata": {},
   "outputs": [
    {
     "data": {
      "text/plain": [
       "'r pratap singh'"
      ]
     },
     "execution_count": 101,
     "metadata": {},
     "output_type": "execute_result"
    }
   ],
   "source": [
    "name[9:]"
   ]
  },
  {
   "cell_type": "code",
   "execution_count": 103,
   "id": "66e19c38-4dcf-498c-bd75-a6241d331601",
   "metadata": {},
   "outputs": [
    {
     "data": {
      "text/plain": [
       "'ednenayhDr pratap singh'"
      ]
     },
     "execution_count": 103,
     "metadata": {},
     "output_type": "execute_result"
    }
   ],
   "source": [
    "name[:9][::-1] + name[9:]"
   ]
  },
  {
   "cell_type": "code",
   "execution_count": 104,
   "id": "3200585e-c191-49ce-90b8-d1a951f7fdd4",
   "metadata": {},
   "outputs": [
    {
     "data": {
      "text/plain": [
       "'Dhyanender pratap singh'"
      ]
     },
     "execution_count": 104,
     "metadata": {},
     "output_type": "execute_result"
    }
   ],
   "source": [
    "name"
   ]
  },
  {
   "cell_type": "code",
   "execution_count": 108,
   "id": "9d51bed2-8ab1-4fab-b1d8-95b7b0824b1b",
   "metadata": {},
   "outputs": [],
   "source": [
    "a = len(name)//2"
   ]
  },
  {
   "cell_type": "code",
   "execution_count": 112,
   "id": "dd468203-73b8-445d-9107-7cd1bc1f92e1",
   "metadata": {},
   "outputs": [
    {
     "data": {
      "text/plain": [
       "' rednenayhDpratap singh'"
      ]
     },
     "execution_count": 112,
     "metadata": {},
     "output_type": "execute_result"
    }
   ],
   "source": [
    "name[:a][::-1] + name[a:]"
   ]
  },
  {
   "cell_type": "code",
   "execution_count": 118,
   "id": "0f94ba9d-a936-46ff-a845-4e04180f57c6",
   "metadata": {},
   "outputs": [
    {
     "data": {
      "text/plain": [
       "'shubham'"
      ]
     },
     "execution_count": 118,
     "metadata": {},
     "output_type": "execute_result"
    }
   ],
   "source": [
    "\" shubham    \".strip()"
   ]
  },
  {
   "cell_type": "code",
   "execution_count": null,
   "id": "c3e78efa-3f1c-478f-955d-2f5b95666386",
   "metadata": {},
   "outputs": [],
   "source": []
  }
 ],
 "metadata": {
  "kernelspec": {
   "display_name": "Python 3 (ipykernel)",
   "language": "python",
   "name": "python3"
  },
  "language_info": {
   "codemirror_mode": {
    "name": "ipython",
    "version": 3
   },
   "file_extension": ".py",
   "mimetype": "text/x-python",
   "name": "python",
   "nbconvert_exporter": "python",
   "pygments_lexer": "ipython3",
   "version": "3.13.5"
  }
 },
 "nbformat": 4,
 "nbformat_minor": 5
}
