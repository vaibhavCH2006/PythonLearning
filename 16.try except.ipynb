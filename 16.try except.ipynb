{
 "cells": [
  {
   "cell_type": "code",
   "execution_count": 1,
   "id": "169b210f-8cb6-4751-a28c-d621554abb69",
   "metadata": {},
   "outputs": [
    {
     "name": "stdout",
     "output_type": "stream",
     "text": [
      "hi\n"
     ]
    },
    {
     "ename": "ZeroDivisionError",
     "evalue": "division by zero",
     "output_type": "error",
     "traceback": [
      "\u001b[31m---------------------------------------------------------------------------\u001b[39m",
      "\u001b[31mZeroDivisionError\u001b[39m                         Traceback (most recent call last)",
      "\u001b[36mCell\u001b[39m\u001b[36m \u001b[39m\u001b[32mIn[1]\u001b[39m\u001b[32m, line 2\u001b[39m\n\u001b[32m      1\u001b[39m \u001b[38;5;28mprint\u001b[39m(\u001b[33m'\u001b[39m\u001b[33mhi\u001b[39m\u001b[33m'\u001b[39m)\n\u001b[32m----> \u001b[39m\u001b[32m2\u001b[39m \u001b[38;5;28mprint\u001b[39m(\u001b[32;43m5\u001b[39;49m\u001b[43m/\u001b[49m\u001b[32;43m0\u001b[39;49m)\n\u001b[32m      3\u001b[39m \u001b[38;5;28mprint\u001b[39m(\u001b[33m'\u001b[39m\u001b[33mhello\u001b[39m\u001b[33m'\u001b[39m)\n",
      "\u001b[31mZeroDivisionError\u001b[39m: division by zero"
     ]
    }
   ],
   "source": [
    "print('hi')\n",
    "print(5/0)\n",
    "print('hello')\n"
   ]
  },
  {
   "cell_type": "code",
   "execution_count": 2,
   "id": "d8fbf24b-9bcc-4d26-b430-be25f014c2d5",
   "metadata": {},
   "outputs": [
    {
     "name": "stdout",
     "output_type": "stream",
     "text": [
      "hi\n",
      "nhi chala code\n"
     ]
    }
   ],
   "source": [
    "try:\n",
    "    print(\"hi\")\n",
    "    print(5/0)\n",
    "    print('hello')\n",
    "\n",
    "except:\n",
    "    print('nhi chala code')"
   ]
  },
  {
   "cell_type": "code",
   "execution_count": 3,
   "id": "5afa6bcd-94ba-4a3f-9ccc-f1a07df1caf3",
   "metadata": {},
   "outputs": [
    {
     "name": "stdout",
     "output_type": "stream",
     "text": [
      "hi\n",
      "nhi chala code\n"
     ]
    }
   ],
   "source": [
    "try:\n",
    "    print(\"hi\")\n",
    "    print(5/0)\n",
    "    print('hello')\n",
    "\n",
    "except:\n",
    "    print('nhi chala code')\n",
    "else:\n",
    "    print('hello')"
   ]
  },
  {
   "cell_type": "code",
   "execution_count": 4,
   "id": "5244a9a3-2e27-4cc6-a53e-b2eba788c542",
   "metadata": {},
   "outputs": [
    {
     "name": "stdout",
     "output_type": "stream",
     "text": [
      "hi\n",
      "nhi chala code\n"
     ]
    }
   ],
   "source": [
    "try:\n",
    "    print(\"hi\")\n",
    "    print(5/0)\n",
    "    print('hello')\n",
    "\n",
    "except:\n",
    "    print('nhi chala code')\n",
    "else:\n",
    "    print('else work kr rha h ')"
   ]
  },
  {
   "cell_type": "code",
   "execution_count": 5,
   "id": "66a517b6-96b2-4a26-9b1b-1917b3dc5e44",
   "metadata": {},
   "outputs": [
    {
     "name": "stdout",
     "output_type": "stream",
     "text": [
      "hi\n",
      "nhi chala code\n",
      "finnaly run hua\n"
     ]
    }
   ],
   "source": [
    "try:\n",
    "    print(\"hi\")\n",
    "    print(5/0)\n",
    "    print('hello')\n",
    "\n",
    "except:\n",
    "    print('nhi chala code')\n",
    "else:\n",
    "    print('else work kr rha h ')\n",
    "finally:\n",
    "    print('finnaly run hua')"
   ]
  },
  {
   "cell_type": "code",
   "execution_count": 6,
   "id": "ace92c0f-b193-46e5-a415-f2275e597f1a",
   "metadata": {},
   "outputs": [
    {
     "name": "stdout",
     "output_type": "stream",
     "text": [
      "hi\n",
      "ZeroDivisionError aya h \n",
      "finnaly run hua\n"
     ]
    }
   ],
   "source": [
    "try:\n",
    "    print(\"hi\")\n",
    "    print(5/0)\n",
    "    print('hello')\n",
    "\n",
    "except ZeroDivisionError:\n",
    "    print(\"ZeroDivisionError aya h \")\n",
    "except:\n",
    "    print('error h ')\n",
    "else:\n",
    "    print('else work kr rha h ')\n",
    "finally:\n",
    "    print('finnaly run hua')"
   ]
  },
  {
   "cell_type": "code",
   "execution_count": 7,
   "id": "bfc63c1e-e541-4e7f-84ec-40be314ea678",
   "metadata": {},
   "outputs": [
    {
     "name": "stdout",
     "output_type": "stream",
     "text": [
      "hi\n",
      "error h \n",
      "finnaly run hua\n"
     ]
    }
   ],
   "source": [
    "try:\n",
    "    print(\"hi\")\n",
    "    print(int(\"Shubham\"))\n",
    "    print('hello')\n",
    "\n",
    "except ZeroDivisionError:\n",
    "    print(\"ZeroDivisionError aya h \")\n",
    "except:\n",
    "    print('error h ')\n",
    "else:\n",
    "    print('else work kr rha h ')\n",
    "finally:\n",
    "    print('finnaly run hua')"
   ]
  },
  {
   "cell_type": "code",
   "execution_count": 8,
   "id": "b6f07b05-b662-4845-9fa6-a5eb87838939",
   "metadata": {},
   "outputs": [
    {
     "name": "stdout",
     "output_type": "stream",
     "text": [
      "hi\n",
      "error h \n",
      "finnaly run hua\n"
     ]
    }
   ],
   "source": [
    "try:\n",
    "    print(\"hi\")\n",
    "    print(int(\"Shubham\"))\n",
    "    print('hello')\n",
    "\n",
    "except ZeroDivisionError as e:\n",
    "    print(e)\n",
    "except:\n",
    "    print('error h ')\n",
    "else:\n",
    "    print('else work kr rha h ')\n",
    "finally:\n",
    "    print('finnaly run hua')"
   ]
  },
  {
   "cell_type": "code",
   "execution_count": 9,
   "id": "0ab65d5a-27c7-4645-901a-1f15632d0a02",
   "metadata": {},
   "outputs": [
    {
     "ename": "ZeroDivisionError",
     "evalue": "division by zero",
     "output_type": "error",
     "traceback": [
      "\u001b[31m---------------------------------------------------------------------------\u001b[39m",
      "\u001b[31mZeroDivisionError\u001b[39m                         Traceback (most recent call last)",
      "\u001b[36mCell\u001b[39m\u001b[36m \u001b[39m\u001b[32mIn[9]\u001b[39m\u001b[32m, line 1\u001b[39m\n\u001b[32m----> \u001b[39m\u001b[32m1\u001b[39m \u001b[32;43m5\u001b[39;49m\u001b[43m/\u001b[49m\u001b[32;43m0\u001b[39;49m\n",
      "\u001b[31mZeroDivisionError\u001b[39m: division by zero"
     ]
    }
   ],
   "source": [
    "5/0"
   ]
  },
  {
   "cell_type": "code",
   "execution_count": 10,
   "id": "73cc9a7f-a73d-465b-92e7-46c66f603db0",
   "metadata": {},
   "outputs": [
    {
     "name": "stdin",
     "output_type": "stream",
     "text": [
      " division by zero\n"
     ]
    },
    {
     "name": "stdout",
     "output_type": "stream",
     "text": [
      "invalid literal for int() with base 10: 'division by zero'\n",
      "close connection\n"
     ]
    }
   ],
   "source": [
    "try:\n",
    "    a = 500\n",
    "    b = int(input())\n",
    "    c = a/b\n",
    "    print(c)\n",
    "except ValueError as v:\n",
    "    print(v)\n",
    "except ZeroDivisionError as z:\n",
    "    print(z)\n",
    "except :\n",
    "    print(\"check something\")\n",
    "else:\n",
    "    print('everything worked fine')\n",
    "finally:\n",
    "    print(\"close connection\")"
   ]
  },
  {
   "cell_type": "code",
   "execution_count": 11,
   "id": "9a0009f4-22ab-4d5c-97b9-90dd360b3fdf",
   "metadata": {},
   "outputs": [
    {
     "ename": "ValueError",
     "evalue": "invalid literal for int() with base 10: 'shubham'",
     "output_type": "error",
     "traceback": [
      "\u001b[31m---------------------------------------------------------------------------\u001b[39m",
      "\u001b[31mValueError\u001b[39m                                Traceback (most recent call last)",
      "\u001b[36mCell\u001b[39m\u001b[36m \u001b[39m\u001b[32mIn[11]\u001b[39m\u001b[32m, line 1\u001b[39m\n\u001b[32m----> \u001b[39m\u001b[32m1\u001b[39m \u001b[38;5;28;43mint\u001b[39;49m\u001b[43m(\u001b[49m\u001b[33;43m\"\u001b[39;49m\u001b[33;43mshubham\u001b[39;49m\u001b[33;43m\"\u001b[39;49m\u001b[43m)\u001b[49m\n",
      "\u001b[31mValueError\u001b[39m: invalid literal for int() with base 10: 'shubham'"
     ]
    }
   ],
   "source": [
    "int(\"shubham\")"
   ]
  },
  {
   "cell_type": "code",
   "execution_count": null,
   "id": "8a39593e-ddc8-44d3-867d-6e39072ac4f5",
   "metadata": {},
   "outputs": [],
   "source": []
  }
 ],
 "metadata": {
  "kernelspec": {
   "display_name": "Python 3 (ipykernel)",
   "language": "python",
   "name": "python3"
  },
  "language_info": {
   "codemirror_mode": {
    "name": "ipython",
    "version": 3
   },
   "file_extension": ".py",
   "mimetype": "text/x-python",
   "name": "python",
   "nbconvert_exporter": "python",
   "pygments_lexer": "ipython3",
   "version": "3.13.5"
  }
 },
 "nbformat": 4,
 "nbformat_minor": 5
}
