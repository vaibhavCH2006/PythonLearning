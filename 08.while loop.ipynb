{
 "cells": [
  {
   "cell_type": "markdown",
   "id": "bfed5899-ad97-4e1e-9f77-eedae8e063d3",
   "metadata": {},
   "source": [
    " # repeating a task again and again until criteria is sertified"
   ]
  },
  {
   "cell_type": "code",
   "execution_count": 5,
   "id": "86e2219b-10ee-4a89-92f7-3eb938c201d9",
   "metadata": {},
   "outputs": [
    {
     "name": "stdout",
     "output_type": "stream",
     "text": [
      "hi\n",
      "hello\n",
      "vaibhav\n"
     ]
    }
   ],
   "source": [
    "#while True:\n",
    "     print(\"hi\")\n",
    "     print(\"hello\")\n",
    "     break\n",
    "     print(\"bye\")\n",
    "\n",
    "     \n",
    " print(\"vaibhav\")"
   ]
  },
  {
   "cell_type": "code",
   "execution_count": 4,
   "id": "7fe4ee81-e316-4856-be45-2fbc3d1b1388",
   "metadata": {},
   "outputs": [
    {
     "name": "stdout",
     "output_type": "stream",
     "text": [
      "0\n",
      "1\n",
      "2\n",
      "3\n",
      "4\n"
     ]
    }
   ],
   "source": [
    "i = 0\n",
    "while i < 5:\n",
    "    print(i)\n",
    "    i += 1"
   ]
  },
  {
   "cell_type": "code",
   "execution_count": 3,
   "id": "10e4110d-781b-4b02-8199-b3a6f282a66e",
   "metadata": {},
   "outputs": [
    {
     "name": "stdout",
     "output_type": "stream",
     "text": [
      "0\n",
      "1\n",
      "2\n"
     ]
    }
   ],
   "source": [
    "i = 0\n",
    "while i < 3:\n",
    "    print(i)\n",
    "    i += 1"
   ]
  },
  {
   "cell_type": "code",
   "execution_count": 5,
   "id": "44b72839-7ca4-4f17-bbb6-cd50a9053382",
   "metadata": {},
   "outputs": [
    {
     "name": "stdout",
     "output_type": "stream",
     "text": [
      "0\n",
      "1\n",
      "2\n"
     ]
    }
   ],
   "source": [
    "#important\n",
    "i = 0\n",
    "n = 3\n",
    "while i < n:\n",
    "    print(i)\n",
    "    i += 1"
   ]
  },
  {
   "cell_type": "code",
   "execution_count": 15,
   "id": "b47efc98-4d62-4208-9eee-adfc9bc75552",
   "metadata": {},
   "outputs": [
    {
     "name": "stdout",
     "output_type": "stream",
     "text": [
      "0\n",
      "1\n",
      "2\n",
      "3\n",
      "4\n",
      "5\n",
      "6\n",
      "7\n",
      "8\n",
      "9\n"
     ]
    }
   ],
   "source": [
    "i = 0\n",
    "n = 10\n",
    "while i < n:\n",
    "    print(i)\n",
    "    i += 1"
   ]
  },
  {
   "cell_type": "code",
   "execution_count": 16,
   "id": "a50fd378-7d1a-43d1-9f25-95381572d684",
   "metadata": {},
   "outputs": [
    {
     "name": "stdout",
     "output_type": "stream",
     "text": [
      "0\n",
      "1\n",
      "2\n",
      "3\n",
      "4\n",
      "5\n",
      "6\n",
      "7\n",
      "8\n",
      "9\n",
      "10\n",
      "11\n"
     ]
    }
   ],
   "source": [
    "i = 0\n",
    "n = 12\n",
    "while i < n :\n",
    "    print(i)\n",
    "    i += 1"
   ]
  },
  {
   "cell_type": "code",
   "execution_count": 17,
   "id": "80ca40c9-572b-4678-9d68-d2f1391e10c7",
   "metadata": {},
   "outputs": [
    {
     "name": "stdout",
     "output_type": "stream",
     "text": [
      "7 X 1 = 7\n",
      "7 X 2 = 14\n",
      "7 X 3 = 21\n",
      "7 X 4 = 28\n",
      "7 X 5 = 35\n",
      "7 X 6 = 42\n",
      "7 X 7 = 49\n",
      "7 X 8 = 56\n",
      "7 X 9 = 63\n",
      "7 X 10 = 70\n"
     ]
    }
   ],
   "source": [
    "i = 1\n",
    "n = 11\n",
    "while i < n :\n",
    "    print(7, \"X\", i, \"=\", i*7)\n",
    "    i += 1"
   ]
  },
  {
   "cell_type": "code",
   "execution_count": 20,
   "id": "4d2171f2-a4f8-411e-81b4-201d9fec3f8b",
   "metadata": {},
   "outputs": [
    {
     "name": "stdout",
     "output_type": "stream",
     "text": [
      "12 X 1 = 12\n",
      "12 X 2 = 24\n",
      "12 X 3 = 36\n",
      "12 X 4 = 48\n",
      "12 X 5 = 60\n",
      "12 X 6 = 72\n",
      "12 X 7 = 84\n",
      "12 X 8 = 96\n",
      "12 X 9 = 108\n",
      "12 X 10 = 120\n",
      "12 X 11 = 132\n",
      "12 X 12 = 144\n",
      "12 X 13 = 156\n",
      "12 X 14 = 168\n",
      "12 X 15 = 180\n",
      "12 X 16 = 192\n",
      "12 X 17 = 204\n",
      "12 X 18 = 216\n",
      "12 X 19 = 228\n",
      "12 X 20 = 240\n"
     ]
    }
   ],
   "source": [
    "i = 1\n",
    "n = 21\n",
    "while i < n :\n",
    "    print(12, \"X\", i, \"=\", i*12)\n",
    "    i += 1"
   ]
  },
  {
   "cell_type": "code",
   "execution_count": 22,
   "id": "3869b3a6-84ff-49d2-ab66-7604d7b83d3c",
   "metadata": {},
   "outputs": [
    {
     "name": "stdout",
     "output_type": "stream",
     "text": [
      "0\n",
      "1\n",
      "2\n",
      "3\n",
      "4\n"
     ]
    }
   ],
   "source": [
    "i = 0 \n",
    "n = 4 \n",
    "while i <= n:\n",
    "    print(i)\n",
    "    i += 1"
   ]
  },
  {
   "cell_type": "code",
   "execution_count": 24,
   "id": "6ba4fa90-41da-4ce9-916c-9ae64643675d",
   "metadata": {},
   "outputs": [
    {
     "name": "stdout",
     "output_type": "stream",
     "text": [
      "0\n",
      "1\n",
      "2\n",
      "3\n",
      "4\n",
      "5\n",
      "6\n",
      "7\n",
      "8\n",
      "9\n",
      "10\n",
      "11\n"
     ]
    }
   ],
   "source": [
    "i = 0\n",
    "n = 11\n",
    "while i <= n:\n",
    "    print (i)\n",
    "    i += 1"
   ]
  },
  {
   "cell_type": "code",
   "execution_count": 31,
   "id": "9c2a990f-6e60-47fd-a59e-7b90090d8ccc",
   "metadata": {},
   "outputs": [
    {
     "name": "stdout",
     "output_type": "stream",
     "text": [
      "0 0\n",
      "1 1\n",
      "2 3\n",
      "3 6\n",
      "4 10\n",
      "5 15\n",
      "6 21\n",
      "21\n"
     ]
    }
   ],
   "source": [
    "i = 0 \n",
    "n = 7\n",
    "a = 0\n",
    "while i < n:\n",
    "    a += i\n",
    "    print(i,a)\n",
    "    i += 1\n",
    "print (a)    "
   ]
  },
  {
   "cell_type": "code",
   "execution_count": 34,
   "id": "7badd859-f83d-4ff5-aaed-7a3cab10013d",
   "metadata": {},
   "outputs": [
    {
     "name": "stdout",
     "output_type": "stream",
     "text": [
      "0 0\n",
      "1 1\n",
      "2 3\n",
      "3 6\n",
      "4 10\n",
      "hello\n"
     ]
    }
   ],
   "source": [
    "# sum of natural number in a range\n",
    "a = 0 \n",
    "i = 0\n",
    "n = 5\n",
    "while i < n:\n",
    "    a += i\n",
    "    print(i , a)\n",
    "    i += 1\n",
    "\n",
    "print(\"hello\")"
   ]
  },
  {
   "cell_type": "code",
   "execution_count": 37,
   "id": "d5c42d22-8a2a-47f4-a8a9-a669fbcad1a9",
   "metadata": {},
   "outputs": [
    {
     "name": "stdout",
     "output_type": "stream",
     "text": [
      "0 0\n",
      "1 1\n",
      "2 3\n",
      "3 6\n",
      "4 10\n",
      "hello\n"
     ]
    }
   ],
   "source": [
    "# sum of numbers in a range\n",
    "a = 0\n",
    "i = 0\n",
    "n = 5\n",
    "while i < n:\n",
    "    a += i\n",
    "    print(i , a)\n",
    "    i += 1\n",
    "\n",
    "print(\"hello\")"
   ]
  },
  {
   "cell_type": "code",
   "execution_count": 38,
   "id": "90d49a8f-755a-4586-8b91-63b88ba74496",
   "metadata": {},
   "outputs": [],
   "source": [
    "name = \"vaibhav\""
   ]
  },
  {
   "cell_type": "code",
   "execution_count": 39,
   "id": "5372f5f7-d813-43d4-ac03-28e0eef8b4b4",
   "metadata": {},
   "outputs": [
    {
     "name": "stdout",
     "output_type": "stream",
     "text": [
      "0\n",
      "1\n",
      "2\n",
      "3\n",
      "4\n"
     ]
    }
   ],
   "source": [
    "i = 0 \n",
    "n = 5\n",
    "while i < n:\n",
    "    print(i)\n",
    "    i += 1"
   ]
  },
  {
   "cell_type": "code",
   "execution_count": 44,
   "id": "6827d8f7-6fb1-42c4-a510-cc5b0e7243ef",
   "metadata": {},
   "outputs": [
    {
     "data": {
      "text/plain": [
       "6"
      ]
     },
     "execution_count": 44,
     "metadata": {},
     "output_type": "execute_result"
    }
   ],
   "source": [
    "name = (\"vaihav\")\n",
    "len(name)"
   ]
  },
  {
   "cell_type": "code",
   "execution_count": 45,
   "id": "91a38b8d-8ab2-4df8-bbd0-caf04e663db9",
   "metadata": {},
   "outputs": [
    {
     "name": "stdout",
     "output_type": "stream",
     "text": [
      "0\n",
      "1\n",
      "2\n",
      "3\n",
      "4\n",
      "5\n"
     ]
    }
   ],
   "source": [
    "i = 0 \n",
    "n = len(name)\n",
    "while i < n:\n",
    "    print(i)\n",
    "    i += 1"
   ]
  },
  {
   "cell_type": "code",
   "execution_count": 47,
   "id": "12de9cf5-b560-4d21-86b6-20225e93482c",
   "metadata": {},
   "outputs": [
    {
     "name": "stdout",
     "output_type": "stream",
     "text": [
      "v\n",
      "a\n",
      "i\n",
      "b\n",
      "h\n",
      "a\n",
      "v\n"
     ]
    }
   ],
   "source": [
    "name = \"vaibhav\"\n",
    "i  = 0\n",
    "n = len(name)\n",
    "while i < n:\n",
    "    print(name[i])\n",
    "    i += 1"
   ]
  },
  {
   "cell_type": "code",
   "execution_count": 49,
   "id": "f746482b-869a-4f28-bb9c-db8ba7aa263a",
   "metadata": {},
   "outputs": [
    {
     "name": "stdout",
     "output_type": "stream",
     "text": [
      "7 vaibhav 0 v\n",
      "7 vaibhav 1 a\n",
      "7 vaibhav 2 i\n",
      "7 vaibhav 3 b\n",
      "7 vaibhav 4 h\n",
      "7 vaibhav 5 a\n",
      "7 vaibhav 6 v\n"
     ]
    }
   ],
   "source": [
    "name = \"vaibhav\"\n",
    "i  = 0\n",
    "n = len(name)\n",
    "while i < n:\n",
    "    print(n, name, i, name[i])\n",
    "    i += 1"
   ]
  },
  {
   "cell_type": "code",
   "execution_count": 50,
   "id": "823ec953-a341-4973-8c64-b1eafad10e78",
   "metadata": {},
   "outputs": [],
   "source": [
    "li = [8,5,4,3,2,8,9,2,3,1,]\n",
    "i = 0\n",
    "n = len(name)\n",
    "total = 0\n",
    "while i < n:\n",
    "    total += li[i]\n",
    "    i += 1\n",
    "    print(total)"
   ]
  },
  {
   "cell_type": "code",
   "execution_count": null,
   "id": "22bef672-ffed-4d97-8e4c-666dcdc2b4de",
   "metadata": {},
   "outputs": [],
   "source": []
  }
 ],
 "metadata": {
  "kernelspec": {
   "display_name": "Python 3 (ipykernel)",
   "language": "python",
   "name": "python3"
  },
  "language_info": {
   "codemirror_mode": {
    "name": "ipython",
    "version": 3
   },
   "file_extension": ".py",
   "mimetype": "text/x-python",
   "name": "python",
   "nbconvert_exporter": "python",
   "pygments_lexer": "ipython3",
   "version": "3.13.5"
  }
 },
 "nbformat": 4,
 "nbformat_minor": 5
}
