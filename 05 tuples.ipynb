{
 "cells": [
  {
   "cell_type": "markdown",
   "id": "4af51aa7-fa90-4064-957c-e025b0f97cc5",
   "metadata": {},
   "source": [
    "# Tuples"
   ]
  },
  {
   "cell_type": "code",
   "execution_count": 1,
   "id": "ce09268b-06d2-408d-bb2f-2209d13e2134",
   "metadata": {},
   "outputs": [],
   "source": [
    "dogs = (\"tom\", \"kutta\", \"doggy\")"
   ]
  },
  {
   "cell_type": "code",
   "execution_count": 2,
   "id": "3b57a19d-c2cd-4206-9c51-03912fd1ab2f",
   "metadata": {},
   "outputs": [
    {
     "data": {
      "text/plain": [
       "('tom', 'kutta', 'doggy')"
      ]
     },
     "execution_count": 2,
     "metadata": {},
     "output_type": "execute_result"
    }
   ],
   "source": [
    "dogs"
   ]
  },
  {
   "cell_type": "code",
   "execution_count": 3,
   "id": "e8816dc6-adf1-42bc-af97-466fab9948ee",
   "metadata": {},
   "outputs": [
    {
     "data": {
      "text/plain": [
       "(2, 8, 3)"
      ]
     },
     "execution_count": 3,
     "metadata": {},
     "output_type": "execute_result"
    }
   ],
   "source": [
    "2, 8, 3"
   ]
  },
  {
   "cell_type": "code",
   "execution_count": 4,
   "id": "df68585b-044c-42d1-8f89-1f34b8fca7f5",
   "metadata": {},
   "outputs": [
    {
     "data": {
      "text/plain": [
       "(('tom', 'kutta', 'doggy'), 8, 10)"
      ]
     },
     "execution_count": 4,
     "metadata": {},
     "output_type": "execute_result"
    }
   ],
   "source": [
    "dogs, 8, 10"
   ]
  },
  {
   "cell_type": "markdown",
   "id": "bb490f52-1d93-496b-8fb8-10519360aa1d",
   "metadata": {},
   "source": [
    "## Tuple unpacking"
   ]
  },
  {
   "cell_type": "code",
   "execution_count": 12,
   "id": "2b7afc27-9ffe-4bce-bceb-24ae58b8bab8",
   "metadata": {},
   "outputs": [],
   "source": [
    "# tuple unpacking\n",
    "a, b = 5, 8"
   ]
  },
  {
   "cell_type": "code",
   "execution_count": 13,
   "id": "cf221fe5-3d3b-4c55-88b3-63cc0be77907",
   "metadata": {},
   "outputs": [
    {
     "data": {
      "text/plain": [
       "5"
      ]
     },
     "execution_count": 13,
     "metadata": {},
     "output_type": "execute_result"
    }
   ],
   "source": [
    "a"
   ]
  },
  {
   "cell_type": "code",
   "execution_count": 14,
   "id": "fa5d8499-6c4f-40f7-a968-1a79ee43e78c",
   "metadata": {},
   "outputs": [
    {
     "data": {
      "text/plain": [
       "8"
      ]
     },
     "execution_count": 14,
     "metadata": {},
     "output_type": "execute_result"
    }
   ],
   "source": [
    "b"
   ]
  },
  {
   "cell_type": "code",
   "execution_count": 15,
   "id": "4003e195-7b50-4bd6-94f6-f123683bbe3f",
   "metadata": {},
   "outputs": [],
   "source": [
    "a,b = b, a"
   ]
  },
  {
   "cell_type": "code",
   "execution_count": 16,
   "id": "e203b7aa-3b77-47de-8281-1f5038af1a7a",
   "metadata": {},
   "outputs": [
    {
     "data": {
      "text/plain": [
       "8"
      ]
     },
     "execution_count": 16,
     "metadata": {},
     "output_type": "execute_result"
    }
   ],
   "source": [
    "a"
   ]
  },
  {
   "cell_type": "code",
   "execution_count": 17,
   "id": "48d94c7c-db37-4d5c-aaac-320cbcc23d0c",
   "metadata": {},
   "outputs": [
    {
     "data": {
      "text/plain": [
       "5"
      ]
     },
     "execution_count": 17,
     "metadata": {},
     "output_type": "execute_result"
    }
   ],
   "source": [
    "b"
   ]
  },
  {
   "cell_type": "markdown",
   "id": "c811bcd5-71f5-4a17-9b01-c4ea0fd6ab1e",
   "metadata": {},
   "source": [
    "## Tuple understanding\n",
    "\n",
    "### Tuples are Ordered Squence"
   ]
  },
  {
   "cell_type": "code",
   "execution_count": 19,
   "id": "4e0a5cb4-6230-4658-bf34-aa8c38975319",
   "metadata": {},
   "outputs": [
    {
     "data": {
      "text/plain": [
       "('tom', 'kutta', 'doggy')"
      ]
     },
     "execution_count": 19,
     "metadata": {},
     "output_type": "execute_result"
    }
   ],
   "source": [
    "dogs"
   ]
  },
  {
   "cell_type": "code",
   "execution_count": 23,
   "id": "ecb576b2-12dc-49f6-8dd6-1b34e43fa363",
   "metadata": {},
   "outputs": [
    {
     "data": {
      "text/plain": [
       "'doggy'"
      ]
     },
     "execution_count": 23,
     "metadata": {},
     "output_type": "execute_result"
    }
   ],
   "source": [
    "dogs[2]"
   ]
  },
  {
   "cell_type": "code",
   "execution_count": 28,
   "id": "9f44c146-0cf7-41d1-bae5-3de4b5383803",
   "metadata": {},
   "outputs": [
    {
     "data": {
      "text/plain": [
       "'kutta'"
      ]
     },
     "execution_count": 28,
     "metadata": {},
     "output_type": "execute_result"
    }
   ],
   "source": [
    "dogs[1][:]"
   ]
  },
  {
   "cell_type": "code",
   "execution_count": 31,
   "id": "7b3ee91d-082e-4933-9ab0-12187af38e2c",
   "metadata": {},
   "outputs": [
    {
     "ename": "TypeError",
     "evalue": "'tuple' object does not support item assignment",
     "output_type": "error",
     "traceback": [
      "\u001b[1;31m---------------------------------------------------------------------------\u001b[0m",
      "\u001b[1;31mTypeError\u001b[0m                                 Traceback (most recent call last)",
      "Cell \u001b[1;32mIn[31], line 1\u001b[0m\n\u001b[1;32m----> 1\u001b[0m dogs[\u001b[38;5;241m0\u001b[39m] \u001b[38;5;241m=\u001b[39m \u001b[38;5;124m\"\u001b[39m\u001b[38;5;124mBilli\u001b[39m\u001b[38;5;124m\"\u001b[39m\n",
      "\u001b[1;31mTypeError\u001b[0m: 'tuple' object does not support item assignment"
     ]
    }
   ],
   "source": [
    "dogs[0] = \"Billi\""
   ]
  },
  {
   "cell_type": "code",
   "execution_count": 33,
   "id": "81c34cab-508d-4e16-94a0-32d56ddd3de7",
   "metadata": {},
   "outputs": [
    {
     "ename": "TypeError",
     "evalue": "'str' object does not support item assignment",
     "output_type": "error",
     "traceback": [
      "\u001b[1;31m---------------------------------------------------------------------------\u001b[0m",
      "\u001b[1;31mTypeError\u001b[0m                                 Traceback (most recent call last)",
      "Cell \u001b[1;32mIn[33], line 1\u001b[0m\n\u001b[1;32m----> 1\u001b[0m \u001b[38;5;124m\"\u001b[39m\u001b[38;5;124mshubham\u001b[39m\u001b[38;5;124m\"\u001b[39m[\u001b[38;5;241m0\u001b[39m] \u001b[38;5;241m=\u001b[39m \u001b[38;5;124m\"\u001b[39m\u001b[38;5;124ma\u001b[39m\u001b[38;5;124m\"\u001b[39m\n",
      "\u001b[1;31mTypeError\u001b[0m: 'str' object does not support item assignment"
     ]
    }
   ],
   "source": [
    "\"shubham\"[0] = \"a\""
   ]
  },
  {
   "cell_type": "code",
   "execution_count": 36,
   "id": "399f7558-a109-47cd-aa4c-1557b3646208",
   "metadata": {},
   "outputs": [],
   "source": [
    "li = [1,2,3]"
   ]
  },
  {
   "cell_type": "code",
   "execution_count": 39,
   "id": "e8c8d336-52a2-4892-8d71-2701233874c0",
   "metadata": {},
   "outputs": [],
   "source": [
    "li[0]= 100"
   ]
  },
  {
   "cell_type": "code",
   "execution_count": 40,
   "id": "e5e25d39-e3f3-4c6a-9f0a-454ce125e3b6",
   "metadata": {},
   "outputs": [
    {
     "data": {
      "text/plain": [
       "[100, 2, 3]"
      ]
     },
     "execution_count": 40,
     "metadata": {},
     "output_type": "execute_result"
    }
   ],
   "source": [
    "li"
   ]
  },
  {
   "cell_type": "code",
   "execution_count": 41,
   "id": "e436dacf-7c69-44b4-afa8-f780333dd508",
   "metadata": {},
   "outputs": [
    {
     "data": {
      "text/plain": [
       "('tom', 'kutta', 'doggy')"
      ]
     },
     "execution_count": 41,
     "metadata": {},
     "output_type": "execute_result"
    }
   ],
   "source": [
    "dogs"
   ]
  },
  {
   "cell_type": "code",
   "execution_count": 42,
   "id": "714e542a-7b3b-4868-9708-3273eebd8a33",
   "metadata": {},
   "outputs": [
    {
     "data": {
      "text/plain": [
       "1"
      ]
     },
     "execution_count": 42,
     "metadata": {},
     "output_type": "execute_result"
    }
   ],
   "source": [
    "dogs.count(\"tom\")"
   ]
  },
  {
   "cell_type": "code",
   "execution_count": 72,
   "id": "259206e5-beec-4fe1-8783-c441160eddd1",
   "metadata": {},
   "outputs": [],
   "source": [
    "tu = (1,1,2,2,4,4,4,4,4,4,5,5,5,6)"
   ]
  },
  {
   "cell_type": "markdown",
   "id": "301c3040-ddbf-4de7-af9d-b16fbc56370a",
   "metadata": {},
   "source": [
    "# tuple methods"
   ]
  },
  {
   "cell_type": "code",
   "execution_count": 73,
   "id": "83f53535-5a66-426f-88c9-41985cfc851f",
   "metadata": {},
   "outputs": [
    {
     "data": {
      "text/plain": [
       "1"
      ]
     },
     "execution_count": 73,
     "metadata": {},
     "output_type": "execute_result"
    }
   ],
   "source": [
    "tu.count(6)"
   ]
  },
  {
   "cell_type": "code",
   "execution_count": 74,
   "id": "c00ec9cb-5881-436a-85a7-fe266012d2ba",
   "metadata": {},
   "outputs": [
    {
     "data": {
      "text/plain": [
       "10"
      ]
     },
     "execution_count": 74,
     "metadata": {},
     "output_type": "execute_result"
    }
   ],
   "source": [
    "tu.index(5)"
   ]
  },
  {
   "cell_type": "markdown",
   "id": "5a2f7eaa-3bc4-4584-868f-8e449b7a6aec",
   "metadata": {},
   "source": [
    "# indexing slicing"
   ]
  },
  {
   "cell_type": "code",
   "execution_count": 76,
   "id": "e86a4979-4262-4034-a183-b6120666b1db",
   "metadata": {},
   "outputs": [
    {
     "data": {
      "text/plain": [
       "(4, 4, 4, 4, 4, 4, 5)"
      ]
     },
     "execution_count": 76,
     "metadata": {},
     "output_type": "execute_result"
    }
   ],
   "source": [
    "tu[4:11]"
   ]
  },
  {
   "cell_type": "code",
   "execution_count": 55,
   "id": "242fd16b-cfe1-4721-a9e1-835f47e0b155",
   "metadata": {},
   "outputs": [
    {
     "data": {
      "text/plain": [
       "(4, 4, 4, 4)"
      ]
     },
     "execution_count": 55,
     "metadata": {},
     "output_type": "execute_result"
    }
   ],
   "source": [
    "tu[4:8]"
   ]
  },
  {
   "cell_type": "code",
   "execution_count": 57,
   "id": "19943dd2-5818-43c5-b03a-033bf305124a",
   "metadata": {},
   "outputs": [],
   "source": [
    "tu = tu[4:8]"
   ]
  },
  {
   "cell_type": "code",
   "execution_count": 58,
   "id": "40775dbe-d46a-40f2-85b4-f9a4e25c2fb1",
   "metadata": {},
   "outputs": [
    {
     "data": {
      "text/plain": [
       "(4, 4, 4, 4)"
      ]
     },
     "execution_count": 58,
     "metadata": {},
     "output_type": "execute_result"
    }
   ],
   "source": [
    "tu"
   ]
  },
  {
   "cell_type": "code",
   "execution_count": 59,
   "id": "311396b8-1b7a-4198-a1f3-bbd526291383",
   "metadata": {},
   "outputs": [],
   "source": [
    "dice = (1,2,3,4,5,6)"
   ]
  },
  {
   "cell_type": "code",
   "execution_count": 60,
   "id": "e6ebc6a6-c797-489e-b7ba-5f43f648d80c",
   "metadata": {},
   "outputs": [
    {
     "data": {
      "text/plain": [
       "(4, 4, 4, 4)"
      ]
     },
     "execution_count": 60,
     "metadata": {},
     "output_type": "execute_result"
    }
   ],
   "source": [
    "tu"
   ]
  },
  {
   "cell_type": "code",
   "execution_count": 64,
   "id": "9d0e273f-a67e-430f-92bd-f116af05d8ef",
   "metadata": {},
   "outputs": [
    {
     "data": {
      "text/plain": [
       "'utt'"
      ]
     },
     "execution_count": 64,
     "metadata": {},
     "output_type": "execute_result"
    }
   ],
   "source": [
    "dogs[1][1:4]"
   ]
  },
  {
   "cell_type": "code",
   "execution_count": 69,
   "id": "cec6f8b8-3096-4e3b-ae0b-7a7c0d65f59a",
   "metadata": {},
   "outputs": [
    {
     "data": {
      "text/plain": [
       "('kutta',)"
      ]
     },
     "execution_count": 69,
     "metadata": {},
     "output_type": "execute_result"
    }
   ],
   "source": [
    "dogs[1:2]"
   ]
  },
  {
   "cell_type": "code",
   "execution_count": 71,
   "id": "fe323f6e-6bbc-41f2-a78c-7944c17ca4cc",
   "metadata": {},
   "outputs": [
    {
     "data": {
      "text/plain": [
       "'kutta'"
      ]
     },
     "execution_count": 71,
     "metadata": {},
     "output_type": "execute_result"
    }
   ],
   "source": [
    "dogs[1]"
   ]
  },
  {
   "cell_type": "code",
   "execution_count": null,
   "id": "57fdb76e-479d-4342-9d46-c5dbfa0d1d58",
   "metadata": {},
   "outputs": [],
   "source": []
  }
 ],
 "metadata": {
  "kernelspec": {
   "display_name": "Python 3 (ipykernel)",
   "language": "python",
   "name": "python3"
  },
  "language_info": {
   "codemirror_mode": {
    "name": "ipython",
    "version": 3
   },
   "file_extension": ".py",
   "mimetype": "text/x-python",
   "name": "python",
   "nbconvert_exporter": "python",
   "pygments_lexer": "ipython3",
   "version": "3.13.5"
  }
 },
 "nbformat": 4,
 "nbformat_minor": 5
}
