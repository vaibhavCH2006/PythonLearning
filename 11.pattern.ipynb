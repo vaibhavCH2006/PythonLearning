{
 "cells": [
  {
   "cell_type": "code",
   "execution_count": 1,
   "id": "7392841b-49c1-4cc7-8332-5c123e4f493d",
   "metadata": {},
   "outputs": [],
   "source": [
    "l = [\"Shubham\", \"abhi\", \"akash\"]"
   ]
  },
  {
   "cell_type": "code",
   "execution_count": 2,
   "id": "cdd34ca7-9f5b-4435-b511-7fc9fa178935",
   "metadata": {},
   "outputs": [
    {
     "name": "stdout",
     "output_type": "stream",
     "text": [
      "S h u b h a m \n",
      "a b h i \n",
      "a k a s h \n"
     ]
    }
   ],
   "source": [
    "i = 0\n",
    "n = len(l)\n",
    "\n",
    "while i < n:\n",
    "    #print(l[i])\n",
    "    j = 0\n",
    "    m = len(l[i])\n",
    "    while j< m:\n",
    "        print(l[i][j], end=\" \")\n",
    "        j += 1\n",
    "\n",
    "    print()\n",
    "    i += 1"
   ]
  },
  {
   "cell_type": "code",
   "execution_count": 3,
   "id": "8f6526c2-6f68-4dda-8c0f-5a14842e55f5",
   "metadata": {},
   "outputs": [
    {
     "name": "stdout",
     "output_type": "stream",
     "text": [
      "01234\n",
      "01234\n",
      "01234\n",
      "01234\n",
      "01234\n"
     ]
    }
   ],
   "source": [
    "i = 0\n",
    "n = 5\n",
    "\n",
    "while i < n:\n",
    "    j = 0\n",
    "    while j < n:\n",
    "        print(j, end=\"\")\n",
    "        j += 1\n",
    "    \n",
    "    print()\n",
    "    i += 1\n"
   ]
  },
  {
   "cell_type": "code",
   "execution_count": 4,
   "id": "fcbe5892-9587-4063-a3c3-ec2708a28de4",
   "metadata": {},
   "outputs": [
    {
     "name": "stdout",
     "output_type": "stream",
     "text": [
      "0\n",
      "11\n",
      "222\n",
      "3333\n",
      "44444\n"
     ]
    }
   ],
   "source": [
    "i = 0\n",
    "n = 5\n",
    "\n",
    "while i < n:\n",
    "    j = 0\n",
    "    while j < i+1:\n",
    "        print(i, end=\"\")\n",
    "        j += 1\n",
    "    \n",
    "    print()\n",
    "    i += 1"
   ]
  },
  {
   "cell_type": "code",
   "execution_count": 5,
   "id": "d3ebd0af-44d7-4180-a8da-72e536f3e88b",
   "metadata": {},
   "outputs": [
    {
     "name": "stdout",
     "output_type": "stream",
     "text": [
      "*****\n",
      "****\n",
      "***\n",
      "**\n",
      "*\n"
     ]
    }
   ],
   "source": [
    "i = 0\n",
    "n = 5\n",
    "\n",
    "while i < n:\n",
    "    j = 0\n",
    "    while j < n-i:\n",
    "        print(\"*\", end=\"\")\n",
    "        j += 1\n",
    "    \n",
    "    print()\n",
    "    i += 1"
   ]
  },
  {
   "cell_type": "code",
   "execution_count": 6,
   "id": "a3542306-e80e-43d2-8ffa-82c9b1db9264",
   "metadata": {},
   "outputs": [
    {
     "name": "stdout",
     "output_type": "stream",
     "text": [
      "*****\n",
      "*   *\n",
      "*   *\n",
      "*   *\n",
      "*****\n"
     ]
    }
   ],
   "source": [
    "i = 0\n",
    "n = 5\n",
    "while i < n:\n",
    "    j = 0\n",
    "    while j < n:\n",
    "        if i ==0 or i == n-1 or j == 0 or j == n-1:\n",
    "            print(\"*\", end=\"\")\n",
    "        else:\n",
    "            print(\" \", end=\"\")\n",
    "        j += 1\n",
    "    print()\n",
    "    i += 1"
   ]
  },
  {
   "cell_type": "code",
   "execution_count": 7,
   "id": "407b8a68-0bd5-4bad-96c5-55a6f9d958f8",
   "metadata": {},
   "outputs": [
    {
     "name": "stdout",
     "output_type": "stream",
     "text": [
      "     *****\n",
      "    *****\n",
      "   *****\n",
      "  *****\n",
      " *****\n"
     ]
    }
   ],
   "source": [
    "i = 0\n",
    "n = 5\n",
    "\n",
    "while i < n:\n",
    "    k = 0\n",
    "    while k < n-i:\n",
    "        print(\" \", end=\"\")\n",
    "        k += 1\n",
    "        \n",
    "    j = 0\n",
    "    while j < n:\n",
    "        \n",
    "        print(\"*\", end=\"\")\n",
    "        j += 1\n",
    "    \n",
    "    print()\n",
    "    i += 1"
   ]
  },
  {
   "cell_type": "code",
   "execution_count": 8,
   "id": "52be6f36-b78f-4830-bdf7-ddf690f6ea9a",
   "metadata": {},
   "outputs": [
    {
     "name": "stdout",
     "output_type": "stream",
     "text": [
      "     \n",
      "    *\n",
      "   ***\n",
      "  *****\n",
      " *******\n"
     ]
    }
   ],
   "source": [
    "i = 0\n",
    "n = 5\n",
    "\n",
    "while i < n:\n",
    "    k = 0\n",
    "    while k < n-i:\n",
    "        print(\" \", end=\"\")\n",
    "        k += 1\n",
    "    \n",
    "    \n",
    "    j = 0\n",
    "    while j < (i)*2-1:\n",
    "        print(\"*\", end=\"\")\n",
    "        j += 1\n",
    "    \n",
    "    print()\n",
    "    i += 1"
   ]
  },
  {
   "cell_type": "code",
   "execution_count": 9,
   "id": "e221ee16-f42b-44cd-bfa2-a45cf1edfdd4",
   "metadata": {},
   "outputs": [
    {
     "name": "stdout",
     "output_type": "stream",
     "text": [
      "    *\n",
      "   ***\n",
      "  *****\n",
      " *******\n",
      "*********\n",
      " *******\n",
      "  *****\n",
      "   ***\n",
      "    *\n"
     ]
    }
   ],
   "source": [
    "i = 0\n",
    "n = 5\n",
    "while i < n:\n",
    "    j = 0\n",
    "    while j < n-i-1:\n",
    "        print(\" \", end=\"\")\n",
    "        j += 1    \n",
    "    k = 0\n",
    "    while k <((i+1)*2)-1:\n",
    "        print(\"*\", end=\"\")\n",
    "        k += 1\n",
    "    print()\n",
    "    i += 1\n",
    "i = 0\n",
    "n = 4\n",
    "while i < n:\n",
    "    j = 0\n",
    "    while j < i+1:\n",
    "        print(\" \", end=\"\")\n",
    "        j += 1\n",
    "    k = 0\n",
    "    while k < (n-i)*2-1:\n",
    "        print(\"*\", end=\"\")\n",
    "        k += 1    \n",
    "    print()\n",
    "    i += 1"
   ]
  },
  {
   "cell_type": "code",
   "execution_count": null,
   "id": "9cb55364-5325-4603-b7d2-7161331cfbf0",
   "metadata": {},
   "outputs": [],
   "source": []
  }
 ],
 "metadata": {
  "kernelspec": {
   "display_name": "Python 3 (ipykernel)",
   "language": "python",
   "name": "python3"
  },
  "language_info": {
   "codemirror_mode": {
    "name": "ipython",
    "version": 3
   },
   "file_extension": ".py",
   "mimetype": "text/x-python",
   "name": "python",
   "nbconvert_exporter": "python",
   "pygments_lexer": "ipython3",
   "version": "3.13.5"
  }
 },
 "nbformat": 4,
 "nbformat_minor": 5
}
