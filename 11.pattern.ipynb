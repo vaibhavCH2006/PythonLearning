{
 "cells": [
  {
   "cell_type": "code",
   "execution_count": 7,
   "id": "d4e607e2-82a1-4c73-84b6-eaf88f6cffd0",
   "metadata": {},
   "outputs": [
    {
     "name": "stdout",
     "output_type": "stream",
     "text": [
      "    *\n",
      "   ***\n",
      "  *****\n",
      " *******\n",
      "*********\n",
      " *******\n",
      "  *****\n",
      "   ***\n",
      "    *\n"
     ]
    }
   ],
   "source": [
    "i = 0\n",
    "n = 5\n",
    "while i < n:\n",
    "    j = 0\n",
    "    while j < n - i - 1:\n",
    "        print(\" \", end=\"\")\n",
    "        j += 1\n",
    "    \n",
    "    k = 0\n",
    "    while k < (i + 1) * 2 - 1:\n",
    "        print(\"*\", end=\"\")\n",
    "        k += 1\n",
    "    \n",
    "    print()\n",
    "    i += 1\n",
    "\n",
    "i = 1   # start from 1 to avoid repeating the middle row\n",
    "while i < n:\n",
    "    j = 0\n",
    "    while j < i:\n",
    "        print(\" \", end=\"\")\n",
    "        j += 1\n",
    "    \n",
    "    k = 0\n",
    "    while k < (n - i) * 2 - 1:\n",
    "        print(\"*\", end=\"\")\n",
    "        k += 1\n",
    "    \n",
    "    print()\n",
    "    i += 1"
   ]
  },
  {
   "cell_type": "code",
   "execution_count": null,
   "id": "aebc8cd3-56b5-465e-822a-1ce31bbfbab3",
   "metadata": {},
   "outputs": [],
   "source": []
  }
 ],
 "metadata": {
  "kernelspec": {
   "display_name": "Python 3 (ipykernel)",
   "language": "python",
   "name": "python3"
  },
  "language_info": {
   "codemirror_mode": {
    "name": "ipython",
    "version": 3
   },
   "file_extension": ".py",
   "mimetype": "text/x-python",
   "name": "python",
   "nbconvert_exporter": "python",
   "pygments_lexer": "ipython3",
   "version": "3.13.5"
  }
 },
 "nbformat": 4,
 "nbformat_minor": 5
}
