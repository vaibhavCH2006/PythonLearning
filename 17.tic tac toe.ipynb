{
 "cells": [
  {
   "cell_type": "code",
   "execution_count": 1,
   "id": "d5170727-964e-4b08-846c-6a81b47ed861",
   "metadata": {},
   "outputs": [],
   "source": [
    "from IPython.display import clear_output"
   ]
  },
  {
   "cell_type": "code",
   "execution_count": 2,
   "id": "b2201c79-4fef-440d-aa3d-705311ebdce1",
   "metadata": {},
   "outputs": [],
   "source": [
    "import random"
   ]
  },
  {
   "cell_type": "code",
   "execution_count": 3,
   "id": "3a2e447b-2a6d-4fbd-af7b-2982afd4211f",
   "metadata": {},
   "outputs": [
    {
     "name": "stdout",
     "output_type": "stream",
     "text": [
      "player 2\n"
     ]
    }
   ],
   "source": [
    "if random.randint(0,1):\n",
    "    print('player 1')\n",
    "else:\n",
    "    print(\"player 2\")"
   ]
  },
  {
   "cell_type": "code",
   "execution_count": 4,
   "id": "4286ad5a-254d-45de-9a84-f69763b57dea",
   "metadata": {},
   "outputs": [],
   "source": [
    "li = [\" \"]*10"
   ]
  },
  {
   "cell_type": "code",
   "execution_count": 5,
   "id": "a383f774-3165-4943-b12e-723f275785fd",
   "metadata": {},
   "outputs": [
    {
     "data": {
      "text/plain": [
       "[' ', ' ', ' ', ' ', ' ', ' ', ' ', ' ', ' ', ' ']"
      ]
     },
     "execution_count": 5,
     "metadata": {},
     "output_type": "execute_result"
    }
   ],
   "source": [
    "li"
   ]
  },
  {
   "cell_type": "code",
   "execution_count": 6,
   "id": "806f036f-e95f-4152-a8b5-2d77cef247a5",
   "metadata": {},
   "outputs": [],
   "source": [
    "li[5] = \"X\""
   ]
  },
  {
   "cell_type": "code",
   "execution_count": 7,
   "id": "c4441e89-f8fe-48c4-867b-527123d3a600",
   "metadata": {},
   "outputs": [],
   "source": [
    "def display():\n",
    "    print(li[7], \" | \", li[8], \" | \", li[9])\n",
    "    print(\"-\"*14)\n",
    "    print(li[4], \" | \", li[5], \" | \", li[6])\n",
    "    print(\"-\"*14)\n",
    "    print(li[1], \" | \", li[2], \" | \", li[3])"
   ]
  },
  {
   "cell_type": "code",
   "execution_count": 9,
   "id": "5650ec72-ca96-44a0-aa05-88f702b344b0",
   "metadata": {},
   "outputs": [],
   "source": [
    "def take_position():\n",
    "    position = None\n",
    "    available = empty_positions()\n",
    "    while position is None:\n",
    "        try:\n",
    "            position = int(input(f'please chose among {available}'))\n",
    "        except ValueError:\n",
    "            print(f\"please provide a number among {available}\")\n",
    "        else:\n",
    "            if position in available:\n",
    "                return position\n",
    "            else:\n",
    "                print(f\"please provide a number among {available}\")\n",
    "                position = None"
   ]
  },
  {
   "cell_type": "code",
   "execution_count": 10,
   "id": "9de50c91-7174-4a69-95b4-829ad5aef144",
   "metadata": {},
   "outputs": [],
   "source": [
    "def put_marker(position, marker):\n",
    "    li[position] = marker"
   ]
  },
  {
   "cell_type": "code",
   "execution_count": 11,
   "id": "04a1f843-3aa7-4cbf-89ec-fbac118582dd",
   "metadata": {},
   "outputs": [
    {
     "ename": "NameError",
     "evalue": "name 'empty_positions' is not defined",
     "output_type": "error",
     "traceback": [
      "\u001b[31m---------------------------------------------------------------------------\u001b[39m",
      "\u001b[31mNameError\u001b[39m                                 Traceback (most recent call last)",
      "\u001b[36mCell\u001b[39m\u001b[36m \u001b[39m\u001b[32mIn[11]\u001b[39m\u001b[32m, line 1\u001b[39m\n\u001b[32m----> \u001b[39m\u001b[32m1\u001b[39m \u001b[43mempty_positions\u001b[49m()\n",
      "\u001b[31mNameError\u001b[39m: name 'empty_positions' is not defined"
     ]
    }
   ],
   "source": [
    "empty_positions()"
   ]
  },
  {
   "cell_type": "code",
   "execution_count": 12,
   "id": "9364ae92-a9a4-4c67-b47c-7844272b00df",
   "metadata": {},
   "outputs": [],
   "source": [
    "li[6]  = \"O\""
   ]
  },
  {
   "cell_type": "code",
   "execution_count": 13,
   "id": "0b371515-bca0-496e-8472-198b67e47bc8",
   "metadata": {},
   "outputs": [],
   "source": [
    "def board_full():\n",
    "    if len(empty_positions())==0:\n",
    "        return True\n",
    "    else:\n",
    "        return False"
   ]
  },
  {
   "cell_type": "code",
   "execution_count": 14,
   "id": "99a6c6c7-9841-4803-9874-81caaef94c71",
   "metadata": {},
   "outputs": [],
   "source": [
    "def change_marker(marker):\n",
    "    if marker == \"O\":\n",
    "        return \"X\"        \n",
    "    else:\n",
    "        return \"O\"\n"
   ]
  },
  {
   "cell_type": "code",
   "execution_count": 15,
   "id": "a0f514b1-479b-40c5-94ec-bbbe2458ebfb",
   "metadata": {},
   "outputs": [
    {
     "ename": "IndentationError",
     "evalue": "unexpected indent (2238181904.py, line 28)",
     "output_type": "error",
     "traceback": [
      "  \u001b[36mCell\u001b[39m\u001b[36m \u001b[39m\u001b[32mIn[15]\u001b[39m\u001b[32m, line 28\u001b[39m\n\u001b[31m    \u001b[39m\u001b[31mbreak\u001b[39m\n    ^\n\u001b[31mIndentationError\u001b[39m\u001b[31m:\u001b[39m unexpected indent\n"
     ]
    }
   ],
   "source": [
    "li = [\" \"]*10\n",
    "game = True\n",
    "marker = \"O\"\n",
    "display()\n",
    "while game:\n",
    "    position = take_position()\n",
    "    put_marker(position, marker)\n",
    "    clear_output()\n",
    "    display()\n",
    "    if check_win():\n",
    "        print(f\"congratulations {marker} won the game\")\n",
    "        game = False\n",
    "        break\n",
    "    elif board_full():\n",
    "        print(f'board full, game draw, do you want to play again')\n",
    "        playAgain = input('do you want to play again, yes, no?')\n",
    "        try:\n",
    "            if playAgain[0] in ('y', \"Y\"):\n",
    "                li = [\" \"]*10\n",
    "                print(\"new game\")\n",
    "                display()\n",
    "                game = True\n",
    "            else:\n",
    "                game = False\n",
    "                break\n",
    "        except:\n",
    "            game = False\n",
    "                break\n",
    "    else:\n",
    "        marker = change_marker(marker)"
   ]
  },
  {
   "cell_type": "code",
   "execution_count": 16,
   "id": "606aff9d-c75b-4353-8453-10447f371b88",
   "metadata": {},
   "outputs": [],
   "source": [
    "from IPython.display import clear_output"
   ]
  },
  {
   "cell_type": "code",
   "execution_count": 17,
   "id": "f352c9a5-abcc-4c1d-b9b8-3a4671405273",
   "metadata": {},
   "outputs": [
    {
     "ename": "KeyboardInterrupt",
     "evalue": "Interrupted by user",
     "output_type": "error",
     "traceback": [
      "\u001b[31m---------------------------------------------------------------------------\u001b[39m",
      "\u001b[31mKeyboardInterrupt\u001b[39m                         Traceback (most recent call last)",
      "\u001b[36mCell\u001b[39m\u001b[36m \u001b[39m\u001b[32mIn[17]\u001b[39m\u001b[32m, line 1\u001b[39m\n\u001b[32m----> \u001b[39m\u001b[32m1\u001b[39m \u001b[38;5;28;43minput\u001b[39;49m\u001b[43m(\u001b[49m\u001b[43m)\u001b[49m\n",
      "\u001b[36mFile \u001b[39m\u001b[32m~\\AppData\\Local\\Programs\\Python\\Python313\\Lib\\site-packages\\ipykernel\\kernelbase.py:1260\u001b[39m, in \u001b[36mKernel.raw_input\u001b[39m\u001b[34m(self, prompt)\u001b[39m\n\u001b[32m   1258\u001b[39m     msg = \u001b[33m\"\u001b[39m\u001b[33mraw_input was called, but this frontend does not support input requests.\u001b[39m\u001b[33m\"\u001b[39m\n\u001b[32m   1259\u001b[39m     \u001b[38;5;28;01mraise\u001b[39;00m StdinNotImplementedError(msg)\n\u001b[32m-> \u001b[39m\u001b[32m1260\u001b[39m \u001b[38;5;28;01mreturn\u001b[39;00m \u001b[38;5;28;43mself\u001b[39;49m\u001b[43m.\u001b[49m\u001b[43m_input_request\u001b[49m\u001b[43m(\u001b[49m\n\u001b[32m   1261\u001b[39m \u001b[43m    \u001b[49m\u001b[38;5;28;43mstr\u001b[39;49m\u001b[43m(\u001b[49m\u001b[43mprompt\u001b[49m\u001b[43m)\u001b[49m\u001b[43m,\u001b[49m\n\u001b[32m   1262\u001b[39m \u001b[43m    \u001b[49m\u001b[38;5;28;43mself\u001b[39;49m\u001b[43m.\u001b[49m\u001b[43m_parent_ident\u001b[49m\u001b[43m[\u001b[49m\u001b[33;43m\"\u001b[39;49m\u001b[33;43mshell\u001b[39;49m\u001b[33;43m\"\u001b[39;49m\u001b[43m]\u001b[49m\u001b[43m,\u001b[49m\n\u001b[32m   1263\u001b[39m \u001b[43m    \u001b[49m\u001b[38;5;28;43mself\u001b[39;49m\u001b[43m.\u001b[49m\u001b[43mget_parent\u001b[49m\u001b[43m(\u001b[49m\u001b[33;43m\"\u001b[39;49m\u001b[33;43mshell\u001b[39;49m\u001b[33;43m\"\u001b[39;49m\u001b[43m)\u001b[49m\u001b[43m,\u001b[49m\n\u001b[32m   1264\u001b[39m \u001b[43m    \u001b[49m\u001b[43mpassword\u001b[49m\u001b[43m=\u001b[49m\u001b[38;5;28;43;01mFalse\u001b[39;49;00m\u001b[43m,\u001b[49m\n\u001b[32m   1265\u001b[39m \u001b[43m\u001b[49m\u001b[43m)\u001b[49m\n",
      "\u001b[36mFile \u001b[39m\u001b[32m~\\AppData\\Local\\Programs\\Python\\Python313\\Lib\\site-packages\\ipykernel\\kernelbase.py:1305\u001b[39m, in \u001b[36mKernel._input_request\u001b[39m\u001b[34m(self, prompt, ident, parent, password)\u001b[39m\n\u001b[32m   1302\u001b[39m \u001b[38;5;28;01mexcept\u001b[39;00m \u001b[38;5;167;01mKeyboardInterrupt\u001b[39;00m:\n\u001b[32m   1303\u001b[39m     \u001b[38;5;66;03m# re-raise KeyboardInterrupt, to truncate traceback\u001b[39;00m\n\u001b[32m   1304\u001b[39m     msg = \u001b[33m\"\u001b[39m\u001b[33mInterrupted by user\u001b[39m\u001b[33m\"\u001b[39m\n\u001b[32m-> \u001b[39m\u001b[32m1305\u001b[39m     \u001b[38;5;28;01mraise\u001b[39;00m \u001b[38;5;167;01mKeyboardInterrupt\u001b[39;00m(msg) \u001b[38;5;28;01mfrom\u001b[39;00m\u001b[38;5;250m \u001b[39m\u001b[38;5;28;01mNone\u001b[39;00m\n\u001b[32m   1306\u001b[39m \u001b[38;5;28;01mexcept\u001b[39;00m \u001b[38;5;167;01mException\u001b[39;00m:\n\u001b[32m   1307\u001b[39m     \u001b[38;5;28mself\u001b[39m.log.warning(\u001b[33m\"\u001b[39m\u001b[33mInvalid Message:\u001b[39m\u001b[33m\"\u001b[39m, exc_info=\u001b[38;5;28;01mTrue\u001b[39;00m)\n",
      "\u001b[31mKeyboardInterrupt\u001b[39m: Interrupted by user"
     ]
    },
    {
     "name": "stdin",
     "output_type": "stream",
     "text": [
      " 5\\\n"
     ]
    }
   ],
   "source": [
    "input()"
   ]
  },
  {
   "cell_type": "code",
   "execution_count": null,
   "id": "9c0ad029-f639-43ea-9925-040393bb857e",
   "metadata": {},
   "outputs": [],
   "source": []
  }
 ],
 "metadata": {
  "kernelspec": {
   "display_name": "Python 3 (ipykernel)",
   "language": "python",
   "name": "python3"
  },
  "language_info": {
   "codemirror_mode": {
    "name": "ipython",
    "version": 3
   },
   "file_extension": ".py",
   "mimetype": "text/x-python",
   "name": "python",
   "nbconvert_exporter": "python",
   "pygments_lexer": "ipython3",
   "version": "3.13.5"
  }
 },
 "nbformat": 4,
 "nbformat_minor": 5
}
