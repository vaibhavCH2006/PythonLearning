{
 "cells": [
  {
   "cell_type": "code",
   "execution_count": 1,
   "id": "6c7b069c-07fb-438a-b494-4251e35e434b",
   "metadata": {},
   "outputs": [
    {
     "data": {
      "text/plain": [
       "7"
      ]
     },
     "execution_count": 1,
     "metadata": {},
     "output_type": "execute_result"
    }
   ],
   "source": [
    "len(\"Shubham\")"
   ]
  },
  {
   "cell_type": "code",
   "execution_count": 2,
   "id": "39b0c5e3-37da-4367-b9a2-2c0648e723dd",
   "metadata": {},
   "outputs": [
    {
     "name": "stdout",
     "output_type": "stream",
     "text": [
      "5\n"
     ]
    }
   ],
   "source": [
    "print(5)"
   ]
  },
  {
   "cell_type": "code",
   "execution_count": 3,
   "id": "765c9195-2cd6-4d43-82f9-804bac76fa42",
   "metadata": {},
   "outputs": [
    {
     "name": "stdout",
     "output_type": "stream",
     "text": [
      "Shubham\n"
     ]
    }
   ],
   "source": [
    "print(\"Shubham\")"
   ]
  },
  {
   "cell_type": "code",
   "execution_count": 4,
   "id": "5018bf5a-a61d-40d9-a2ff-9d6668656bb5",
   "metadata": {},
   "outputs": [
    {
     "data": {
      "text/plain": [
       "'Shubham'"
      ]
     },
     "execution_count": 4,
     "metadata": {},
     "output_type": "execute_result"
    }
   ],
   "source": [
    "\"Shubham\""
   ]
  },
  {
   "cell_type": "code",
   "execution_count": 5,
   "id": "3939e0ce-c602-4fea-aa87-07ad7801babe",
   "metadata": {},
   "outputs": [],
   "source": [
    "a = 5\n",
    "b = 6"
   ]
  },
  {
   "cell_type": "code",
   "execution_count": 6,
   "id": "777246bd-01d5-4a20-a28a-1914d1ab1d97",
   "metadata": {},
   "outputs": [
    {
     "data": {
      "text/plain": [
       "5"
      ]
     },
     "execution_count": 6,
     "metadata": {},
     "output_type": "execute_result"
    }
   ],
   "source": [
    "a"
   ]
  },
  {
   "cell_type": "code",
   "execution_count": 7,
   "id": "89aedf67-9c5a-412f-9889-15df961ba87e",
   "metadata": {},
   "outputs": [
    {
     "data": {
      "text/plain": [
       "6"
      ]
     },
     "execution_count": 7,
     "metadata": {},
     "output_type": "execute_result"
    }
   ],
   "source": [
    "b"
   ]
  },
  {
   "cell_type": "code",
   "execution_count": 9,
   "id": "7047a32c-cc88-4c47-b51e-2df61e229d51",
   "metadata": {},
   "outputs": [
    {
     "name": "stdout",
     "output_type": "stream",
     "text": [
      "5\n",
      "6\n"
     ]
    }
   ],
   "source": [
    "print(a)\n",
    "print(b)"
   ]
  },
  {
   "cell_type": "code",
   "execution_count": 12,
   "id": "475f6c4e-d61d-48ac-ab82-aa59e71ac440",
   "metadata": {
    "scrolled": true
   },
   "outputs": [],
   "source": [
    "a = 5"
   ]
  },
  {
   "cell_type": "code",
   "execution_count": 13,
   "id": "1e008741-f607-4e3d-8b07-5f8c1fd7a9cd",
   "metadata": {},
   "outputs": [
    {
     "data": {
      "text/plain": [
       "5"
      ]
     },
     "execution_count": 13,
     "metadata": {},
     "output_type": "execute_result"
    }
   ],
   "source": [
    "a"
   ]
  },
  {
   "cell_type": "code",
   "execution_count": 19,
   "id": "c000e664-b257-482c-baf4-33850194f4fe",
   "metadata": {
    "scrolled": true
   },
   "outputs": [
    {
     "name": "stdout",
     "output_type": "stream",
     "text": [
      "5\n"
     ]
    }
   ],
   "source": [
    "a = print(5)\n"
   ]
  },
  {
   "cell_type": "code",
   "execution_count": 21,
   "id": "b0bf942f-fd4d-4158-ba2f-755a7cb00d5e",
   "metadata": {},
   "outputs": [],
   "source": [
    "a"
   ]
  },
  {
   "cell_type": "code",
   "execution_count": 22,
   "id": "0d01a434-7add-48fc-945d-596e801789f2",
   "metadata": {},
   "outputs": [
    {
     "name": "stdout",
     "output_type": "stream",
     "text": [
      "None\n"
     ]
    }
   ],
   "source": [
    "print(a)"
   ]
  },
  {
   "cell_type": "code",
   "execution_count": 23,
   "id": "ed83869b-a1b8-4554-9df7-63db5e6767ad",
   "metadata": {},
   "outputs": [
    {
     "data": {
      "text/plain": [
       "NoneType"
      ]
     },
     "execution_count": 23,
     "metadata": {},
     "output_type": "execute_result"
    }
   ],
   "source": [
    "type(a)"
   ]
  },
  {
   "cell_type": "code",
   "execution_count": 24,
   "id": "408f05d3-a0c4-4818-b7e5-9386ed60b4dd",
   "metadata": {},
   "outputs": [
    {
     "name": "stdout",
     "output_type": "stream",
     "text": [
      "5\n"
     ]
    }
   ],
   "source": [
    "print(5)"
   ]
  },
  {
   "cell_type": "code",
   "execution_count": 25,
   "id": "37a0c759-8f6e-41b2-837e-1cabc50eba5b",
   "metadata": {},
   "outputs": [
    {
     "data": {
      "text/plain": [
       "int"
      ]
     },
     "execution_count": 25,
     "metadata": {},
     "output_type": "execute_result"
    }
   ],
   "source": [
    "type(5)"
   ]
  },
  {
   "cell_type": "markdown",
   "id": "05358966-117c-4b5c-a7b5-34aa141974cb",
   "metadata": {},
   "source": [
    "# input"
   ]
  },
  {
   "cell_type": "code",
   "execution_count": 26,
   "id": "65218fa8-e340-40f2-919b-dfcb5e53a353",
   "metadata": {},
   "outputs": [
    {
     "data": {
      "text/plain": [
       "7"
      ]
     },
     "execution_count": 26,
     "metadata": {},
     "output_type": "execute_result"
    }
   ],
   "source": [
    "len(\"shubham\")"
   ]
  },
  {
   "cell_type": "code",
   "execution_count": 33,
   "id": "f1b93dc9-de6a-4879-808e-fe7d479c9999",
   "metadata": {},
   "outputs": [
    {
     "name": "stdin",
     "output_type": "stream",
     "text": [
      "enter your name shubham\n"
     ]
    }
   ],
   "source": [
    "name = input(\"enter your name\")"
   ]
  },
  {
   "cell_type": "code",
   "execution_count": 32,
   "id": "c26b35fd-6601-4005-915f-a37e3bb8995f",
   "metadata": {},
   "outputs": [
    {
     "data": {
      "text/plain": [
       "'shubham'"
      ]
     },
     "execution_count": 32,
     "metadata": {},
     "output_type": "execute_result"
    }
   ],
   "source": [
    "name"
   ]
  },
  {
   "cell_type": "code",
   "execution_count": 36,
   "id": "e3981e79-b3c7-43e1-865a-dabe99b5b5f1",
   "metadata": {},
   "outputs": [
    {
     "name": "stdin",
     "output_type": "stream",
     "text": [
      "enter your age 15\n"
     ]
    }
   ],
   "source": [
    "age = input('enter your age')"
   ]
  },
  {
   "cell_type": "code",
   "execution_count": 37,
   "id": "4a087f49-ff7f-4e0a-89c8-64300aae828d",
   "metadata": {},
   "outputs": [
    {
     "data": {
      "text/plain": [
       "'15'"
      ]
     },
     "execution_count": 37,
     "metadata": {},
     "output_type": "execute_result"
    }
   ],
   "source": [
    "age"
   ]
  },
  {
   "cell_type": "code",
   "execution_count": 38,
   "id": "8700b8d1-1b0f-4727-b20a-526a93ec8b86",
   "metadata": {},
   "outputs": [
    {
     "data": {
      "text/plain": [
       "str"
      ]
     },
     "execution_count": 38,
     "metadata": {},
     "output_type": "execute_result"
    }
   ],
   "source": [
    "type(age)"
   ]
  },
  {
   "cell_type": "code",
   "execution_count": 39,
   "id": "ca6c9b98-b2e2-4029-a58c-ea48d70cc75f",
   "metadata": {},
   "outputs": [
    {
     "data": {
      "text/plain": [
       "15"
      ]
     },
     "execution_count": 39,
     "metadata": {},
     "output_type": "execute_result"
    }
   ],
   "source": [
    "int(age)"
   ]
  },
  {
   "cell_type": "code",
   "execution_count": 40,
   "id": "9daa638b-b215-4726-bf55-b8a05b329ed9",
   "metadata": {},
   "outputs": [
    {
     "data": {
      "text/plain": [
       "'15'"
      ]
     },
     "execution_count": 40,
     "metadata": {},
     "output_type": "execute_result"
    }
   ],
   "source": [
    "age"
   ]
  },
  {
   "cell_type": "code",
   "execution_count": 41,
   "id": "cd90312f-0d89-436d-844d-a663599ddb0e",
   "metadata": {},
   "outputs": [],
   "source": [
    "age = int(age)"
   ]
  },
  {
   "cell_type": "code",
   "execution_count": 48,
   "id": "515f1466-ca90-4c79-9c81-186b266df41a",
   "metadata": {},
   "outputs": [
    {
     "data": {
      "text/plain": [
       "''"
      ]
     },
     "execution_count": 48,
     "metadata": {},
     "output_type": "execute_result"
    }
   ],
   "source": [
    "age"
   ]
  },
  {
   "cell_type": "code",
   "execution_count": null,
   "id": "45321d92-710b-4d5e-87e1-0c51ccbe908a",
   "metadata": {},
   "outputs": [],
   "source": [
    "input()"
   ]
  },
  {
   "cell_type": "code",
   "execution_count": 1,
   "id": "7e7c1608-524b-4ec8-85fa-05004c49f819",
   "metadata": {},
   "outputs": [
    {
     "ename": "NameError",
     "evalue": "name 'name' is not defined",
     "output_type": "error",
     "traceback": [
      "\u001b[1;31m---------------------------------------------------------------------------\u001b[0m",
      "\u001b[1;31mNameError\u001b[0m                                 Traceback (most recent call last)",
      "Cell \u001b[1;32mIn[1], line 1\u001b[0m\n\u001b[1;32m----> 1\u001b[0m name\n",
      "\u001b[1;31mNameError\u001b[0m: name 'name' is not defined"
     ]
    }
   ],
   "source": [
    "name"
   ]
  },
  {
   "cell_type": "code",
   "execution_count": 6,
   "id": "0c28aef5-56d3-4537-8b7f-3c38851e4d2b",
   "metadata": {},
   "outputs": [
    {
     "name": "stdin",
     "output_type": "stream",
     "text": [
      " 5\n"
     ]
    }
   ],
   "source": [
    "name = input()\n",
    "L = len(name)//2\n",
    "new = name[:l] + name[l:][::-1]"
   ]
  },
  {
   "cell_type": "code",
   "execution_count": 5,
   "id": "f888cdd6-236d-486c-9c8a-f35dcffb7212",
   "metadata": {},
   "outputs": [
    {
     "data": {
      "text/plain": [
       "'shubhahgnis m'"
      ]
     },
     "execution_count": 5,
     "metadata": {},
     "output_type": "execute_result"
    }
   ],
   "source": [
    "new"
   ]
  },
  {
   "cell_type": "markdown",
   "id": "7dfad2cc-ca89-4b55-9758-c699de656ce2",
   "metadata": {},
   "source": [
    "# type Casting"
   ]
  },
  {
   "cell_type": "code",
   "execution_count": 1,
   "id": "058a3c0b-946e-48d6-932d-3d53ae3e8f79",
   "metadata": {},
   "outputs": [
    {
     "data": {
      "text/plain": [
       "'50.6'"
      ]
     },
     "execution_count": 1,
     "metadata": {},
     "output_type": "execute_result"
    }
   ],
   "source": [
    "str(50.6)"
   ]
  },
  {
   "cell_type": "code",
   "execution_count": 2,
   "id": "0bb58f95-5c2d-45af-b9c0-dbeaf2bf5148",
   "metadata": {},
   "outputs": [
    {
     "data": {
      "text/plain": [
       "50"
      ]
     },
     "execution_count": 2,
     "metadata": {},
     "output_type": "execute_result"
    }
   ],
   "source": [
    "int(50.6)"
   ]
  },
  {
   "cell_type": "code",
   "execution_count": 5,
   "id": "5949bd14-9d07-43e5-842e-43ad69a8196f",
   "metadata": {},
   "outputs": [
    {
     "data": {
      "text/plain": [
       "50"
      ]
     },
     "execution_count": 5,
     "metadata": {},
     "output_type": "execute_result"
    }
   ],
   "source": [
    "int(float(\"50.6\"))"
   ]
  },
  {
   "cell_type": "code",
   "execution_count": 7,
   "id": "2e139260-acce-4b8a-ac06-fcfff399e15e",
   "metadata": {},
   "outputs": [
    {
     "data": {
      "text/plain": [
       "50"
      ]
     },
     "execution_count": 7,
     "metadata": {},
     "output_type": "execute_result"
    }
   ],
   "source": [
    "50"
   ]
  },
  {
   "cell_type": "markdown",
   "id": "1aa9af47-7fa3-496b-8d1d-0cc4776047f9",
   "metadata": {},
   "source": [
    "# Print"
   ]
  },
  {
   "cell_type": "code",
   "execution_count": 8,
   "id": "87c0f1d4-7256-44e6-9aa0-c4e7ceafeb43",
   "metadata": {},
   "outputs": [
    {
     "name": "stdout",
     "output_type": "stream",
     "text": [
      "5\n"
     ]
    }
   ],
   "source": [
    "print(5)"
   ]
  },
  {
   "cell_type": "code",
   "execution_count": 9,
   "id": "5a643d50-8b34-4afd-aec1-ee74a492123f",
   "metadata": {},
   "outputs": [
    {
     "name": "stdout",
     "output_type": "stream",
     "text": [
      "5\n"
     ]
    }
   ],
   "source": [
    "a = print(5)"
   ]
  },
  {
   "cell_type": "code",
   "execution_count": 10,
   "id": "38865e53-dbee-4b4e-bff7-ca9ce9e06142",
   "metadata": {},
   "outputs": [],
   "source": [
    "a"
   ]
  },
  {
   "cell_type": "code",
   "execution_count": 11,
   "id": "c5181bad-c631-4871-9181-bca336754adf",
   "metadata": {},
   "outputs": [
    {
     "data": {
      "text/plain": [
       "NoneType"
      ]
     },
     "execution_count": 11,
     "metadata": {},
     "output_type": "execute_result"
    }
   ],
   "source": [
    "type(a)"
   ]
  },
  {
   "cell_type": "code",
   "execution_count": 12,
   "id": "da863ae1-e3c1-43b5-a32b-2033b9005ae1",
   "metadata": {},
   "outputs": [
    {
     "name": "stdout",
     "output_type": "stream",
     "text": [
      "None\n"
     ]
    }
   ],
   "source": [
    "print(a)"
   ]
  },
  {
   "cell_type": "code",
   "execution_count": 13,
   "id": "e675e631-685b-47c3-8cf8-1c634d387ae0",
   "metadata": {},
   "outputs": [],
   "source": [
    "None"
   ]
  },
  {
   "cell_type": "code",
   "execution_count": 14,
   "id": "2c196bc7-0ca8-4e5a-b8c4-2745b3f37c6b",
   "metadata": {},
   "outputs": [],
   "source": [
    "a = None"
   ]
  },
  {
   "cell_type": "code",
   "execution_count": 15,
   "id": "be8b67e9-2b37-4c99-91c2-1d49595bf9e5",
   "metadata": {},
   "outputs": [],
   "source": [
    "a"
   ]
  },
  {
   "cell_type": "code",
   "execution_count": 16,
   "id": "49ba3f43-b438-4313-aebc-8018a3f74083",
   "metadata": {},
   "outputs": [
    {
     "name": "stdout",
     "output_type": "stream",
     "text": [
      "5 3 Shubham Singh\n"
     ]
    }
   ],
   "source": [
    "print(5, 3, \"Shubham\", \"Singh\")"
   ]
  },
  {
   "cell_type": "code",
   "execution_count": 17,
   "id": "00dde2f4-2157-44a5-b586-ea4d228dc62d",
   "metadata": {},
   "outputs": [
    {
     "name": "stdout",
     "output_type": "stream",
     "text": [
      "5 3 Shubham Singh\n"
     ]
    }
   ],
   "source": [
    "print(5, 3, \"Shubham\", \"Singh\", sep=\" \")"
   ]
  },
  {
   "cell_type": "code",
   "execution_count": 19,
   "id": "79bdf4d2-3d7d-4709-8ce5-c1aae3a7e313",
   "metadata": {},
   "outputs": [
    {
     "name": "stdout",
     "output_type": "stream",
     "text": [
      "5 * 3 * Shubham * Singh\n"
     ]
    }
   ],
   "source": [
    "print(5, 3, \"Shubham\", \"Singh\", sep=\" * \")"
   ]
  },
  {
   "cell_type": "code",
   "execution_count": 28,
   "id": "8b09298b-96ff-4476-bfd3-a3e0a245841b",
   "metadata": {},
   "outputs": [
    {
     "name": "stdout",
     "output_type": "stream",
     "text": [
      "50 60 70 80 * 30 - 40\n"
     ]
    }
   ],
   "source": [
    "print(50, 60, 70, 80, end=\" * \")\n",
    "print(30 , end=\" - \")\n",
    "print(40)"
   ]
  },
  {
   "cell_type": "code",
   "execution_count": 29,
   "id": "cdc89add-dbb1-4d5f-a838-dd669e70d7c5",
   "metadata": {},
   "outputs": [
    {
     "ename": "TypeError",
     "evalue": "can only concatenate str (not \"int\") to str",
     "output_type": "error",
     "traceback": [
      "\u001b[1;31m---------------------------------------------------------------------------\u001b[0m",
      "\u001b[1;31mTypeError\u001b[0m                                 Traceback (most recent call last)",
      "Cell \u001b[1;32mIn[29], line 1\u001b[0m\n\u001b[1;32m----> 1\u001b[0m \u001b[38;5;124m\"\u001b[39m\u001b[38;5;124mshubham\u001b[39m\u001b[38;5;124m\"\u001b[39m \u001b[38;5;241m+\u001b[39m \u001b[38;5;241m5000\u001b[39m\n",
      "\u001b[1;31mTypeError\u001b[0m: can only concatenate str (not \"int\") to str"
     ]
    }
   ],
   "source": [
    "\"shubham\" + 5000"
   ]
  },
  {
   "cell_type": "code",
   "execution_count": 30,
   "id": "d0821fbd-9ef8-4edb-b2b9-94cee80744eb",
   "metadata": {},
   "outputs": [
    {
     "name": "stdout",
     "output_type": "stream",
     "text": [
      "Shubham 5000\n"
     ]
    }
   ],
   "source": [
    "print(\"Shubham\", 5000)"
   ]
  },
  {
   "cell_type": "code",
   "execution_count": 31,
   "id": "f9f4218b-f324-428f-9c57-f37a6d1c2a5d",
   "metadata": {},
   "outputs": [],
   "source": [
    "name = \"Shubham\""
   ]
  },
  {
   "cell_type": "code",
   "execution_count": 32,
   "id": "6834255d-1cb6-41dd-ab44-48b305ad7fb8",
   "metadata": {},
   "outputs": [],
   "source": [
    "age = 80"
   ]
  },
  {
   "cell_type": "code",
   "execution_count": 35,
   "id": "8b8475ea-9787-4578-8533-22fd3994e828",
   "metadata": {},
   "outputs": [
    {
     "name": "stdout",
     "output_type": "stream",
     "text": [
      "Shubham       80\n"
     ]
    }
   ],
   "source": [
    "print(f'{name}       {age}')"
   ]
  },
  {
   "cell_type": "code",
   "execution_count": 38,
   "id": "be40b0cf-3f96-4147-b80d-b5b8c0ec7d3d",
   "metadata": {},
   "outputs": [
    {
     "name": "stdout",
     "output_type": "stream",
     "text": [
      "Shubham      80\n"
     ]
    }
   ],
   "source": [
    "print(name, age, sep=\"      \")"
   ]
  },
  {
   "cell_type": "code",
   "execution_count": 40,
   "id": "8a513c4f-97da-4ca1-94eb-6d9b9edf27b5",
   "metadata": {},
   "outputs": [
    {
     "data": {
      "text/plain": [
       "'zzzzzzzzzz'"
      ]
     },
     "execution_count": 40,
     "metadata": {},
     "output_type": "execute_result"
    }
   ],
   "source": [
    "\"z\"*10"
   ]
  },
  {
   "cell_type": "code",
   "execution_count": 41,
   "id": "d5e90531-dd44-453f-86ec-1312ea6e5a04",
   "metadata": {},
   "outputs": [
    {
     "data": {
      "text/plain": [
       "'Shubham'"
      ]
     },
     "execution_count": 41,
     "metadata": {},
     "output_type": "execute_result"
    }
   ],
   "source": [
    "'Shubham'"
   ]
  },
  {
   "cell_type": "code",
   "execution_count": 42,
   "id": "bdc4fc3c-ebf1-4d11-893a-ec9b07240ca9",
   "metadata": {},
   "outputs": [
    {
     "data": {
      "text/plain": [
       "'shubahm singh'"
      ]
     },
     "execution_count": 42,
     "metadata": {},
     "output_type": "execute_result"
    }
   ],
   "source": [
    "\"shubahm singh\""
   ]
  },
  {
   "cell_type": "code",
   "execution_count": 44,
   "id": "01ea0146-8941-4581-bd91-9ba940923715",
   "metadata": {},
   "outputs": [],
   "source": [
    "a = \"\"\"hello \n",
    "everyone\"\"\""
   ]
  },
  {
   "cell_type": "code",
   "execution_count": 46,
   "id": "94c30d95-67d7-41d6-950f-ba39be911883",
   "metadata": {},
   "outputs": [
    {
     "name": "stdout",
     "output_type": "stream",
     "text": [
      "hello \n",
      "everyone\n"
     ]
    }
   ],
   "source": [
    "print(a)"
   ]
  },
  {
   "cell_type": "code",
   "execution_count": 49,
   "id": "423f7662-3c71-4d2b-b2af-5ab002a3fda2",
   "metadata": {},
   "outputs": [],
   "source": [
    "a = \"hello shub\\tham\""
   ]
  },
  {
   "cell_type": "code",
   "execution_count": 50,
   "id": "92d96783-d93e-4f9a-a08c-30aeabde1186",
   "metadata": {},
   "outputs": [
    {
     "name": "stdout",
     "output_type": "stream",
     "text": [
      "hello shub\tham\n"
     ]
    }
   ],
   "source": [
    "print(a)"
   ]
  },
  {
   "cell_type": "code",
   "execution_count": 56,
   "id": "16db4299-0120-48f9-9161-e7347ec2628f",
   "metadata": {},
   "outputs": [
    {
     "name": "stdout",
     "output_type": "stream",
     "text": [
      "a\\ t b\n"
     ]
    }
   ],
   "source": [
    "print('a\\\\ t b')"
   ]
  },
  {
   "cell_type": "code",
   "execution_count": 58,
   "id": "22451030-9933-4711-ae8b-4ac20ad8f21e",
   "metadata": {},
   "outputs": [],
   "source": [
    "age= 20"
   ]
  },
  {
   "cell_type": "code",
   "execution_count": 59,
   "id": "d15cd093-dbde-4669-bfe2-cb5b35f8cad8",
   "metadata": {},
   "outputs": [
    {
     "name": "stdout",
     "output_type": "stream",
     "text": [
      " shubham\n"
     ]
    }
   ],
   "source": [
    "print(\"age\\r shubham\")"
   ]
  },
  {
   "cell_type": "code",
   "execution_count": 60,
   "id": "e4c47e44-b151-45a6-bad4-543a3d6ef324",
   "metadata": {},
   "outputs": [
    {
     "name": "stdout",
     "output_type": "stream",
     "text": [
      "C:\\Program Files\n"
     ]
    }
   ],
   "source": [
    "print(\"C:\\\\Program Files\")"
   ]
  },
  {
   "cell_type": "code",
   "execution_count": 61,
   "id": "178ee01f-24fc-4259-90d8-ab200d9c9de2",
   "metadata": {},
   "outputs": [
    {
     "name": "stdout",
     "output_type": "stream",
     "text": [
      "Help on built-in function print in module builtins:\n",
      "\n",
      "print(*args, sep=' ', end='\\n', file=None, flush=False)\n",
      "    Prints the values to a stream, or to sys.stdout by default.\n",
      "\n",
      "    sep\n",
      "      string inserted between values, default a space.\n",
      "    end\n",
      "      string appended after the last value, default a newline.\n",
      "    file\n",
      "      a file-like object (stream); defaults to the current sys.stdout.\n",
      "    flush\n",
      "      whether to forcibly flush the stream.\n",
      "\n"
     ]
    }
   ],
   "source": [
    "help(print)"
   ]
  },
  {
   "cell_type": "code",
   "execution_count": 63,
   "id": "a19bf4b1-95ec-474a-9fcd-e13178a359ab",
   "metadata": {},
   "outputs": [],
   "source": [
    "age = 25"
   ]
  },
  {
   "cell_type": "code",
   "execution_count": 64,
   "id": "e940b452-69cd-4086-a660-a8eb04d012d4",
   "metadata": {},
   "outputs": [
    {
     "name": "stdout",
     "output_type": "stream",
     "text": [
      "age\n"
     ]
    }
   ],
   "source": [
    "print(\"123\\rage\")"
   ]
  },
  {
   "cell_type": "code",
   "execution_count": 65,
   "id": "64c414c6-0555-4132-bcfd-54015330ee7f",
   "metadata": {},
   "outputs": [
    {
     "name": "stdout",
     "output_type": "stream",
     "text": [
      "😀\n"
     ]
    }
   ],
   "source": [
    "print(\"\\U0001f600\")"
   ]
  },
  {
   "cell_type": "code",
   "execution_count": 66,
   "id": "408d306d-4ad8-4c9a-8e6d-5533b4d0389a",
   "metadata": {},
   "outputs": [
    {
     "name": "stdout",
     "output_type": "stream",
     "text": [
      "🤣\n"
     ]
    }
   ],
   "source": [
    "print(\"\\U0001F923\")"
   ]
  },
  {
   "cell_type": "code",
   "execution_count": 67,
   "id": "bf22ab78-c1f2-4645-b990-be87e2c87b88",
   "metadata": {},
   "outputs": [
    {
     "data": {
      "text/plain": [
       "140714875497016"
      ]
     },
     "execution_count": 67,
     "metadata": {},
     "output_type": "execute_result"
    }
   ],
   "source": [
    "id(5)"
   ]
  },
  {
   "cell_type": "code",
   "execution_count": 68,
   "id": "3e7f2070-8065-42a4-8969-6284109490e5",
   "metadata": {},
   "outputs": [
    {
     "data": {
      "text/plain": [
       "140714875497048"
      ]
     },
     "execution_count": 68,
     "metadata": {},
     "output_type": "execute_result"
    }
   ],
   "source": [
    "id(6)"
   ]
  },
  {
   "cell_type": "code",
   "execution_count": 73,
   "id": "0bc0b903-f817-4154-9b0c-035a70bd4794",
   "metadata": {},
   "outputs": [
    {
     "data": {
      "text/plain": [
       "0"
      ]
     },
     "execution_count": 73,
     "metadata": {},
     "output_type": "execute_result"
    }
   ],
   "source": [
    "# 1 bit\n",
    "0"
   ]
  },
  {
   "cell_type": "code",
   "execution_count": 74,
   "id": "03f94b27-0630-49e0-aa0b-9f9c1c533107",
   "metadata": {},
   "outputs": [
    {
     "data": {
      "text/plain": [
       "10010010"
      ]
     },
     "execution_count": 74,
     "metadata": {},
     "output_type": "execute_result"
    }
   ],
   "source": [
    "# byte - 8 bit\n",
    "10010010"
   ]
  },
  {
   "cell_type": "code",
   "execution_count": 80,
   "id": "9add9fd2-8436-4930-9277-bafefbc893fb",
   "metadata": {},
   "outputs": [
    {
     "ename": "SyntaxError",
     "evalue": "invalid syntax (1894557466.py, line 3)",
     "output_type": "error",
     "traceback": [
      "\u001b[1;36m  Cell \u001b[1;32mIn[80], line 3\u001b[1;36m\u001b[0m\n\u001b[1;33m    1 kb = 1024 bytes\u001b[0m\n\u001b[1;37m      ^\u001b[0m\n\u001b[1;31mSyntaxError\u001b[0m\u001b[1;31m:\u001b[0m invalid syntax\n"
     ]
    }
   ],
   "source": [
    "# kb - killo byte\n",
    "\n",
    "1 kb = 1024 bytes"
   ]
  },
  {
   "cell_type": "code",
   "execution_count": 81,
   "id": "ddfb57aa-46f3-49e9-87e0-6e9e73fd056d",
   "metadata": {},
   "outputs": [
    {
     "ename": "SyntaxError",
     "evalue": "invalid decimal literal (1521388222.py, line 1)",
     "output_type": "error",
     "traceback": [
      "\u001b[1;36m  Cell \u001b[1;32mIn[81], line 1\u001b[1;36m\u001b[0m\n\u001b[1;33m    1Mb = 1024 KB\u001b[0m\n\u001b[1;37m    ^\u001b[0m\n\u001b[1;31mSyntaxError\u001b[0m\u001b[1;31m:\u001b[0m invalid decimal literal\n"
     ]
    }
   ],
   "source": [
    "1Mb = 1024 KB"
   ]
  },
  {
   "cell_type": "markdown",
   "id": "6dee888c-ab55-4813-828d-b7ae0678c34c",
   "metadata": {},
   "source": [
    "# 0 or 1 - bit\n",
    "# 8 bit = 1 byte\n",
    "# 1024 byte = 1 killobtye\n",
    "# 1024 kb = 1 Megabyte\n",
    "# 1024 Mb = 1 Gegabyte\n",
    "# 1024 GB = 1 TeraByte\n",
    "# 1024 TB = 1 PetaByte"
   ]
  },
  {
   "cell_type": "code",
   "execution_count": 86,
   "id": "d838936c-4800-460f-a515-c453e158f87b",
   "metadata": {},
   "outputs": [
    {
     "name": "stdout",
     "output_type": "stream",
     "text": [
      "🤣\n"
     ]
    }
   ],
   "source": [
    "print(\"\\U0001F923\")"
   ]
  },
  {
   "cell_type": "code",
   "execution_count": 88,
   "id": "b59b0b08-bcdb-48f7-88f5-f03f625bdc68",
   "metadata": {},
   "outputs": [
    {
     "data": {
      "text/plain": [
       "129315"
      ]
     },
     "execution_count": 88,
     "metadata": {},
     "output_type": "execute_result"
    }
   ],
   "source": [
    "ord('🤣')"
   ]
  },
  {
   "cell_type": "code",
   "execution_count": 90,
   "id": "7665a2dc-23b8-44e2-8e16-188b3e898f8b",
   "metadata": {},
   "outputs": [
    {
     "data": {
      "text/plain": [
       "2147032047232"
      ]
     },
     "execution_count": 90,
     "metadata": {},
     "output_type": "execute_result"
    }
   ],
   "source": [
    "id('🤣')"
   ]
  },
  {
   "cell_type": "code",
   "execution_count": 92,
   "id": "597b571e-3858-4d59-8d5e-03bb2e94cfd2",
   "metadata": {},
   "outputs": [
    {
     "data": {
      "text/plain": [
       "49"
      ]
     },
     "execution_count": 92,
     "metadata": {},
     "output_type": "execute_result"
    }
   ],
   "source": [
    "ord('1')"
   ]
  },
  {
   "cell_type": "code",
   "execution_count": 93,
   "id": "92dbf5ad-b8cd-4ae0-a0ad-1d50dd7944bd",
   "metadata": {},
   "outputs": [
    {
     "data": {
      "text/plain": [
       "50"
      ]
     },
     "execution_count": 93,
     "metadata": {},
     "output_type": "execute_result"
    }
   ],
   "source": [
    "ord('2')"
   ]
  },
  {
   "cell_type": "code",
   "execution_count": 94,
   "id": "4f8e0fe9-5217-438b-b290-31ecffcc036d",
   "metadata": {},
   "outputs": [
    {
     "data": {
      "text/plain": [
       "97"
      ]
     },
     "execution_count": 94,
     "metadata": {},
     "output_type": "execute_result"
    }
   ],
   "source": [
    "ord('a')"
   ]
  },
  {
   "cell_type": "code",
   "execution_count": 95,
   "id": "a895ea66-f976-4fae-a029-aa06007f6e0f",
   "metadata": {},
   "outputs": [
    {
     "data": {
      "text/plain": [
       "98"
      ]
     },
     "execution_count": 95,
     "metadata": {},
     "output_type": "execute_result"
    }
   ],
   "source": [
    "ord('b')"
   ]
  },
  {
   "cell_type": "code",
   "execution_count": 97,
   "id": "b3c53b79-b447-4750-9960-abadff841ca1",
   "metadata": {},
   "outputs": [
    {
     "data": {
      "text/plain": [
       "65"
      ]
     },
     "execution_count": 97,
     "metadata": {},
     "output_type": "execute_result"
    }
   ],
   "source": [
    "ord(\"A\")"
   ]
  },
  {
   "cell_type": "code",
   "execution_count": null,
   "id": "235609d7-f3e2-4659-9601-829dcf13f103",
   "metadata": {},
   "outputs": [],
   "source": []
  }
 ],
 "metadata": {
  "kernelspec": {
   "display_name": "Python 3 (ipykernel)",
   "language": "python",
   "name": "python3"
  },
  "language_info": {
   "codemirror_mode": {
    "name": "ipython",
    "version": 3
   },
   "file_extension": ".py",
   "mimetype": "text/x-python",
   "name": "python",
   "nbconvert_exporter": "python",
   "pygments_lexer": "ipython3",
   "version": "3.12.7"
  }
 },
 "nbformat": 4,
 "nbformat_minor": 5
}
