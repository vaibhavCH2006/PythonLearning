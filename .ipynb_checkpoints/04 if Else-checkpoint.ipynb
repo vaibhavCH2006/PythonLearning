{
 "cells": [
  {
   "cell_type": "markdown",
   "id": "0c949cd6-0950-499d-8235-0d5f366a5be9",
   "metadata": {},
   "source": [
    "# booleans"
   ]
  },
  {
   "cell_type": "code",
   "execution_count": 1,
   "id": "882374e8-9133-4741-bb39-41fa70659c5b",
   "metadata": {},
   "outputs": [
    {
     "data": {
      "text/plain": [
       "1"
      ]
     },
     "execution_count": 1,
     "metadata": {},
     "output_type": "execute_result"
    }
   ],
   "source": [
    "0 or 1"
   ]
  },
  {
   "cell_type": "code",
   "execution_count": 2,
   "id": "b9e1391d-fdc5-4b28-af0c-92c5877032a3",
   "metadata": {},
   "outputs": [
    {
     "data": {
      "text/plain": [
       "True"
      ]
     },
     "execution_count": 2,
     "metadata": {},
     "output_type": "execute_result"
    }
   ],
   "source": [
    "True"
   ]
  },
  {
   "cell_type": "code",
   "execution_count": 3,
   "id": "9a4613d1-8534-479d-9aeb-5d8c31f44b10",
   "metadata": {},
   "outputs": [
    {
     "data": {
      "text/plain": [
       "False"
      ]
     },
     "execution_count": 3,
     "metadata": {},
     "output_type": "execute_result"
    }
   ],
   "source": [
    "False"
   ]
  },
  {
   "cell_type": "code",
   "execution_count": 4,
   "id": "308610f2-2ede-4200-9153-f4435f2e4fe6",
   "metadata": {},
   "outputs": [
    {
     "data": {
      "text/plain": [
       "1"
      ]
     },
     "execution_count": 4,
     "metadata": {},
     "output_type": "execute_result"
    }
   ],
   "source": [
    "int(True)"
   ]
  },
  {
   "cell_type": "code",
   "execution_count": 5,
   "id": "b7be17cf-8e61-4626-8ef0-e5dfeb0e34c5",
   "metadata": {},
   "outputs": [
    {
     "data": {
      "text/plain": [
       "0"
      ]
     },
     "execution_count": 5,
     "metadata": {},
     "output_type": "execute_result"
    }
   ],
   "source": [
    "int(False)"
   ]
  },
  {
   "cell_type": "code",
   "execution_count": 6,
   "id": "59c39a8f-1d43-48bd-8598-6322e44aa5f0",
   "metadata": {},
   "outputs": [
    {
     "data": {
      "text/plain": [
       "True"
      ]
     },
     "execution_count": 6,
     "metadata": {},
     "output_type": "execute_result"
    }
   ],
   "source": [
    "bool(5)"
   ]
  },
  {
   "cell_type": "code",
   "execution_count": 7,
   "id": "6e6ed1c9-62dc-4b1e-bd5f-51b787f17279",
   "metadata": {},
   "outputs": [
    {
     "data": {
      "text/plain": [
       "True"
      ]
     },
     "execution_count": 7,
     "metadata": {},
     "output_type": "execute_result"
    }
   ],
   "source": [
    "bool(-8)"
   ]
  },
  {
   "cell_type": "code",
   "execution_count": 8,
   "id": "03b4fb2c-f8a0-4a33-85d4-4afc677f5d9d",
   "metadata": {},
   "outputs": [
    {
     "data": {
      "text/plain": [
       "False"
      ]
     },
     "execution_count": 8,
     "metadata": {},
     "output_type": "execute_result"
    }
   ],
   "source": [
    "bool(0)"
   ]
  },
  {
   "cell_type": "code",
   "execution_count": 9,
   "id": "4e843a65-21a3-47da-8488-a5f8c2047d48",
   "metadata": {},
   "outputs": [
    {
     "data": {
      "text/plain": [
       "bool"
      ]
     },
     "execution_count": 9,
     "metadata": {},
     "output_type": "execute_result"
    }
   ],
   "source": [
    "type(True)"
   ]
  },
  {
   "cell_type": "code",
   "execution_count": 10,
   "id": "ca5ad8e9-7a9f-4ce5-a0c9-92ed867b15ef",
   "metadata": {},
   "outputs": [
    {
     "data": {
      "text/plain": [
       "bool"
      ]
     },
     "execution_count": 10,
     "metadata": {},
     "output_type": "execute_result"
    }
   ],
   "source": [
    "type(False)"
   ]
  },
  {
   "cell_type": "code",
   "execution_count": 11,
   "id": "c4936729-d930-451b-aa86-a70fae29ab00",
   "metadata": {},
   "outputs": [
    {
     "data": {
      "text/plain": [
       "False"
      ]
     },
     "execution_count": 11,
     "metadata": {},
     "output_type": "execute_result"
    }
   ],
   "source": [
    "bool(0)"
   ]
  },
  {
   "cell_type": "code",
   "execution_count": 12,
   "id": "5c3f765c-ad10-44e9-b9e0-38d09d8e9bb8",
   "metadata": {},
   "outputs": [
    {
     "data": {
      "text/plain": [
       "True"
      ]
     },
     "execution_count": 12,
     "metadata": {},
     "output_type": "execute_result"
    }
   ],
   "source": [
    "bool(8)"
   ]
  },
  {
   "cell_type": "code",
   "execution_count": 13,
   "id": "d4f419f8-60d5-4d04-9a02-dc7de0cd62d9",
   "metadata": {},
   "outputs": [
    {
     "data": {
      "text/plain": [
       "True"
      ]
     },
     "execution_count": 13,
     "metadata": {},
     "output_type": "execute_result"
    }
   ],
   "source": [
    "bool(-8)"
   ]
  },
  {
   "cell_type": "code",
   "execution_count": 14,
   "id": "0a52b519-49b0-400d-bdd1-59da7814f043",
   "metadata": {},
   "outputs": [
    {
     "data": {
      "text/plain": [
       "False"
      ]
     },
     "execution_count": 14,
     "metadata": {},
     "output_type": "execute_result"
    }
   ],
   "source": [
    "bool(\"\")"
   ]
  },
  {
   "cell_type": "code",
   "execution_count": 16,
   "id": "ae159f1b-5aaf-483b-8b0d-90b629caf0f2",
   "metadata": {},
   "outputs": [
    {
     "data": {
      "text/plain": [
       "True"
      ]
     },
     "execution_count": 16,
     "metadata": {},
     "output_type": "execute_result"
    }
   ],
   "source": [
    "bool(\" \")"
   ]
  },
  {
   "cell_type": "code",
   "execution_count": 17,
   "id": "df39e8cf-2183-412b-9f85-13d3e6fd87c2",
   "metadata": {},
   "outputs": [
    {
     "data": {
      "text/plain": [
       "False"
      ]
     },
     "execution_count": 17,
     "metadata": {},
     "output_type": "execute_result"
    }
   ],
   "source": [
    "bool([])"
   ]
  },
  {
   "cell_type": "code",
   "execution_count": 18,
   "id": "0f0799af-a7ae-48b4-a8ac-24cc07c3162d",
   "metadata": {},
   "outputs": [
    {
     "data": {
      "text/plain": [
       "True"
      ]
     },
     "execution_count": 18,
     "metadata": {},
     "output_type": "execute_result"
    }
   ],
   "source": [
    "bool([5])"
   ]
  },
  {
   "cell_type": "code",
   "execution_count": 19,
   "id": "b789901c-8953-46f4-ab6c-5e70f14922ab",
   "metadata": {},
   "outputs": [
    {
     "data": {
      "text/plain": [
       "False"
      ]
     },
     "execution_count": 19,
     "metadata": {},
     "output_type": "execute_result"
    }
   ],
   "source": [
    "bool(())"
   ]
  },
  {
   "cell_type": "code",
   "execution_count": 20,
   "id": "713b870a-22ba-41c5-98ab-2d864a9c858b",
   "metadata": {},
   "outputs": [
    {
     "data": {
      "text/plain": [
       "True"
      ]
     },
     "execution_count": 20,
     "metadata": {},
     "output_type": "execute_result"
    }
   ],
   "source": [
    "bool((5))"
   ]
  },
  {
   "cell_type": "code",
   "execution_count": 21,
   "id": "3ae71d2c-2230-48ac-9d70-5f24b09761ee",
   "metadata": {},
   "outputs": [
    {
     "data": {
      "text/plain": [
       "False"
      ]
     },
     "execution_count": 21,
     "metadata": {},
     "output_type": "execute_result"
    }
   ],
   "source": [
    "bool({})"
   ]
  },
  {
   "cell_type": "markdown",
   "id": "56ab8870-e256-424a-8ea1-551c5d92043a",
   "metadata": {},
   "source": [
    "# comparison operators"
   ]
  },
  {
   "cell_type": "code",
   "execution_count": 26,
   "id": "e7f456a6-0716-4884-8ae6-7e429556e930",
   "metadata": {},
   "outputs": [
    {
     "data": {
      "text/plain": [
       "False"
      ]
     },
     "execution_count": 26,
     "metadata": {},
     "output_type": "execute_result"
    }
   ],
   "source": [
    "5 > 10"
   ]
  },
  {
   "cell_type": "code",
   "execution_count": 27,
   "id": "6d34392f-458e-4964-8199-7e9007fbb568",
   "metadata": {},
   "outputs": [
    {
     "data": {
      "text/plain": [
       "True"
      ]
     },
     "execution_count": 27,
     "metadata": {},
     "output_type": "execute_result"
    }
   ],
   "source": [
    "10 > 5"
   ]
  },
  {
   "cell_type": "code",
   "execution_count": 28,
   "id": "8e83c1e4-1ef1-4de8-a5c9-deb948387dfd",
   "metadata": {},
   "outputs": [
    {
     "data": {
      "text/plain": [
       "False"
      ]
     },
     "execution_count": 28,
     "metadata": {},
     "output_type": "execute_result"
    }
   ],
   "source": [
    "5 > 5"
   ]
  },
  {
   "cell_type": "code",
   "execution_count": 40,
   "id": "b2e20e9f-7675-4775-85a1-871f633dcfe8",
   "metadata": {},
   "outputs": [
    {
     "data": {
      "text/plain": [
       "True"
      ]
     },
     "execution_count": 40,
     "metadata": {},
     "output_type": "execute_result"
    }
   ],
   "source": [
    "5 == 5"
   ]
  },
  {
   "cell_type": "code",
   "execution_count": null,
   "id": "84d9b352-3c3c-4793-9300-18b0d2189034",
   "metadata": {},
   "outputs": [],
   "source": []
  },
  {
   "cell_type": "code",
   "execution_count": 41,
   "id": "773516b0-17ac-461c-bf61-ac032214d7d5",
   "metadata": {},
   "outputs": [
    {
     "data": {
      "text/plain": [
       "False"
      ]
     },
     "execution_count": 41,
     "metadata": {},
     "output_type": "execute_result"
    }
   ],
   "source": [
    "5 > 10"
   ]
  },
  {
   "cell_type": "code",
   "execution_count": 42,
   "id": "0f45e872-8906-482e-83f1-c4063bee0e05",
   "metadata": {},
   "outputs": [
    {
     "data": {
      "text/plain": [
       "True"
      ]
     },
     "execution_count": 42,
     "metadata": {},
     "output_type": "execute_result"
    }
   ],
   "source": [
    "5 > 2"
   ]
  },
  {
   "cell_type": "code",
   "execution_count": 43,
   "id": "4a107d36-a0ad-488a-b216-d5dbc450c3fa",
   "metadata": {},
   "outputs": [
    {
     "data": {
      "text/plain": [
       "False"
      ]
     },
     "execution_count": 43,
     "metadata": {},
     "output_type": "execute_result"
    }
   ],
   "source": [
    "5 > 5"
   ]
  },
  {
   "cell_type": "code",
   "execution_count": 44,
   "id": "a31dcb72-0876-4c18-816b-fb8c9e8157a4",
   "metadata": {},
   "outputs": [
    {
     "data": {
      "text/plain": [
       "False"
      ]
     },
     "execution_count": 44,
     "metadata": {},
     "output_type": "execute_result"
    }
   ],
   "source": [
    "10 < 5"
   ]
  },
  {
   "cell_type": "code",
   "execution_count": 45,
   "id": "3e794985-ea50-44c7-a24a-803dd88368d9",
   "metadata": {},
   "outputs": [
    {
     "data": {
      "text/plain": [
       "True"
      ]
     },
     "execution_count": 45,
     "metadata": {},
     "output_type": "execute_result"
    }
   ],
   "source": [
    "5 < 10"
   ]
  },
  {
   "cell_type": "code",
   "execution_count": 46,
   "id": "9f954880-f654-4cf7-b23b-e439ff1b9cbc",
   "metadata": {},
   "outputs": [
    {
     "data": {
      "text/plain": [
       "False"
      ]
     },
     "execution_count": 46,
     "metadata": {},
     "output_type": "execute_result"
    }
   ],
   "source": [
    "10 < 10"
   ]
  },
  {
   "cell_type": "code",
   "execution_count": 47,
   "id": "c7634757-da47-4c4e-ae8b-631d2d4b77bc",
   "metadata": {},
   "outputs": [
    {
     "data": {
      "text/plain": [
       "True"
      ]
     },
     "execution_count": 47,
     "metadata": {},
     "output_type": "execute_result"
    }
   ],
   "source": [
    "10 == 10"
   ]
  },
  {
   "cell_type": "code",
   "execution_count": 48,
   "id": "33555861-14de-4bcd-9127-a62f307f0b5e",
   "metadata": {},
   "outputs": [
    {
     "data": {
      "text/plain": [
       "False"
      ]
     },
     "execution_count": 48,
     "metadata": {},
     "output_type": "execute_result"
    }
   ],
   "source": [
    "10 == 11"
   ]
  },
  {
   "cell_type": "code",
   "execution_count": 57,
   "id": "21ceca71-f942-4650-8fdf-57012364cdad",
   "metadata": {},
   "outputs": [],
   "source": [
    "age = 17"
   ]
  },
  {
   "cell_type": "code",
   "execution_count": 58,
   "id": "46d18c64-4677-4815-a336-a1d90c3d2219",
   "metadata": {},
   "outputs": [
    {
     "data": {
      "text/plain": [
       "False"
      ]
     },
     "execution_count": 58,
     "metadata": {},
     "output_type": "execute_result"
    }
   ],
   "source": [
    "age >= 18"
   ]
  },
  {
   "cell_type": "code",
   "execution_count": 67,
   "id": "ab032a85-f9d4-4a09-b415-ac751c8245e7",
   "metadata": {},
   "outputs": [],
   "source": [
    "age = 19"
   ]
  },
  {
   "cell_type": "code",
   "execution_count": 68,
   "id": "35cd0522-e1a7-4825-a30d-1113468b514e",
   "metadata": {},
   "outputs": [
    {
     "data": {
      "text/plain": [
       "False"
      ]
     },
     "execution_count": 68,
     "metadata": {},
     "output_type": "execute_result"
    }
   ],
   "source": [
    "age <= 18"
   ]
  },
  {
   "cell_type": "code",
   "execution_count": 69,
   "id": "1239c151-7ece-4528-bc33-38d1c0fccdd6",
   "metadata": {},
   "outputs": [
    {
     "data": {
      "text/plain": [
       "19"
      ]
     },
     "execution_count": 69,
     "metadata": {},
     "output_type": "execute_result"
    }
   ],
   "source": [
    "age"
   ]
  },
  {
   "cell_type": "code",
   "execution_count": 71,
   "id": "9a67183f-c66e-4685-b1fd-171767d79c9a",
   "metadata": {},
   "outputs": [
    {
     "data": {
      "text/plain": [
       "False"
      ]
     },
     "execution_count": 71,
     "metadata": {},
     "output_type": "execute_result"
    }
   ],
   "source": [
    "age  != 19"
   ]
  },
  {
   "cell_type": "code",
   "execution_count": 72,
   "id": "a77b551a-1e41-44cb-afd5-2c7906617aab",
   "metadata": {},
   "outputs": [
    {
     "data": {
      "text/plain": [
       "19"
      ]
     },
     "execution_count": 72,
     "metadata": {},
     "output_type": "execute_result"
    }
   ],
   "source": [
    "age "
   ]
  },
  {
   "cell_type": "code",
   "execution_count": 73,
   "id": "067b050b-bae3-4b85-8124-c8779bc64416",
   "metadata": {},
   "outputs": [
    {
     "data": {
      "text/plain": [
       "True"
      ]
     },
     "execution_count": 73,
     "metadata": {},
     "output_type": "execute_result"
    }
   ],
   "source": [
    "age != 18"
   ]
  },
  {
   "cell_type": "code",
   "execution_count": 76,
   "id": "3ff0be7d-3f74-48b7-8d40-a2e9234096d9",
   "metadata": {},
   "outputs": [],
   "source": [
    "age =  20"
   ]
  },
  {
   "cell_type": "code",
   "execution_count": 78,
   "id": "522f9d6b-de82-4625-a708-155fe9c06f7f",
   "metadata": {},
   "outputs": [
    {
     "data": {
      "text/plain": [
       "True"
      ]
     },
     "execution_count": 78,
     "metadata": {},
     "output_type": "execute_result"
    }
   ],
   "source": [
    "age > 18"
   ]
  },
  {
   "cell_type": "code",
   "execution_count": 77,
   "id": "6f00cf0b-6f33-4382-9cad-9dfef9c15511",
   "metadata": {},
   "outputs": [
    {
     "name": "stdout",
     "output_type": "stream",
     "text": [
      "welcome\n"
     ]
    }
   ],
   "source": [
    "if age > 18:\n",
    "    print('welcome')"
   ]
  },
  {
   "cell_type": "code",
   "execution_count": 79,
   "id": "7cada722-78b7-4d04-8ccd-182b5f40146a",
   "metadata": {},
   "outputs": [
    {
     "name": "stdout",
     "output_type": "stream",
     "text": [
      "welcome\n"
     ]
    }
   ],
   "source": [
    "if True:\n",
    "    print('welcome')"
   ]
  },
  {
   "cell_type": "code",
   "execution_count": 100,
   "id": "6ad23a88-1880-4f06-b59d-990c9ec2f7e3",
   "metadata": {},
   "outputs": [],
   "source": [
    "marks = 40"
   ]
  },
  {
   "cell_type": "code",
   "execution_count": 101,
   "id": "9b00092b-6520-494f-9876-9a67f2924d45",
   "metadata": {},
   "outputs": [
    {
     "name": "stdout",
     "output_type": "stream",
     "text": [
      "D\n"
     ]
    }
   ],
   "source": [
    "if marks >= 90:\n",
    "    print(\"A\")\n",
    "elif marks >= 75:\n",
    "    print(\"B\")\n",
    "elif marks >= 60:\n",
    "    print(\"C\")\n",
    "elif marks >= 40:\n",
    "    print(\"D\")\n",
    "else:\n",
    "    print(\"Fail\")"
   ]
  },
  {
   "cell_type": "code",
   "execution_count": 112,
   "id": "72ba85ca-bd96-4b10-9d4f-08d9a9283265",
   "metadata": {},
   "outputs": [
    {
     "name": "stdout",
     "output_type": "stream",
     "text": [
      "bye\n"
     ]
    }
   ],
   "source": [
    "if False:\n",
    "    print('hello')\n",
    "elif False:\n",
    "    print('hi')\n",
    "elif False:\n",
    "    print(\"hola\")\n",
    "else:\n",
    "    print('bye')"
   ]
  },
  {
   "cell_type": "code",
   "execution_count": 1,
   "id": "5835a0cd-bacf-4045-a225-5c46f79ad07e",
   "metadata": {},
   "outputs": [],
   "source": [
    "# 2, 3, 5"
   ]
  },
  {
   "cell_type": "code",
   "execution_count": 3,
   "id": "18a595fb-7787-4698-b36f-f151e27dd20c",
   "metadata": {},
   "outputs": [],
   "source": [
    "# positive number or negetive"
   ]
  },
  {
   "cell_type": "markdown",
   "id": "33d06cb8-4214-40eb-a3f6-f713d1fb8d07",
   "metadata": {},
   "source": [
    "# Nested if else"
   ]
  },
  {
   "cell_type": "code",
   "execution_count": 7,
   "id": "3a3807f9-a3c4-4b43-b13b-3f269e6c5264",
   "metadata": {},
   "outputs": [
    {
     "name": "stdout",
     "output_type": "stream",
     "text": [
      "zero\n"
     ]
    }
   ],
   "source": [
    "n = 0\n",
    "\n",
    "if n > 0:\n",
    "    print(\"positive\")\n",
    "elif n < 0:\n",
    "    print(\"negetive\")\n",
    "else:\n",
    "    print(\"zero\")"
   ]
  },
  {
   "cell_type": "code",
   "execution_count": 19,
   "id": "a08d8303-e99d-40de-915f-53da399cdc8e",
   "metadata": {},
   "outputs": [
    {
     "name": "stdout",
     "output_type": "stream",
     "text": [
      "hi\n"
     ]
    }
   ],
   "source": [
    "n = 10\n",
    "m = 5\n",
    "\n",
    "if m > n:\n",
    "    print(\"hello\")\n",
    "print(\"hi\")"
   ]
  },
  {
   "cell_type": "code",
   "execution_count": 20,
   "id": "e5e29a5c-c9e2-45f4-be8b-85d397494089",
   "metadata": {},
   "outputs": [
    {
     "name": "stdout",
     "output_type": "stream",
     "text": [
      "bye\n",
      "hi\n"
     ]
    }
   ],
   "source": [
    "n = 10\n",
    "m = 5\n",
    "\n",
    "if m > n:\n",
    "    print(\"hello\")\n",
    "else:\n",
    "    print(\"bye\")\n",
    "print(\"hi\")"
   ]
  },
  {
   "cell_type": "code",
   "execution_count": 21,
   "id": "9e2bf316-ceab-42ea-a429-5517b29a8d74",
   "metadata": {},
   "outputs": [
    {
     "ename": "SyntaxError",
     "evalue": "invalid syntax (3307546129.py, line 7)",
     "output_type": "error",
     "traceback": [
      "\u001b[1;36m  Cell \u001b[1;32mIn[21], line 7\u001b[1;36m\u001b[0m\n\u001b[1;33m    else:\u001b[0m\n\u001b[1;37m    ^\u001b[0m\n\u001b[1;31mSyntaxError\u001b[0m\u001b[1;31m:\u001b[0m invalid syntax\n"
     ]
    }
   ],
   "source": [
    "n = 10\n",
    "m = 5\n",
    "\n",
    "if m > n:\n",
    "    print(\"hello\")\n",
    "print(\"hi\")\n",
    "else:\n",
    "    print(\"bye\")"
   ]
  },
  {
   "cell_type": "code",
   "execution_count": 26,
   "id": "6f4ceda0-580a-4fae-aeda-bda9f05d28bd",
   "metadata": {},
   "outputs": [
    {
     "name": "stdout",
     "output_type": "stream",
     "text": [
      "hello\n"
     ]
    }
   ],
   "source": [
    "m = 10\n",
    "n = 20\n",
    "o = 15\n",
    "\n",
    "if o > n:\n",
    "    print(\"hi\")\n",
    "elif o > m:\n",
    "    print(\"hello\")\n"
   ]
  },
  {
   "cell_type": "code",
   "execution_count": 31,
   "id": "89cb6889-3e41-4356-bc0d-09a2427da688",
   "metadata": {},
   "outputs": [],
   "source": [
    "m = 10\n",
    "n = 20\n",
    "o = 10\n",
    "\n",
    "if o > n:\n",
    "    print(\"hi\")\n",
    "if o > m:\n",
    "    print(\"hello\")\n"
   ]
  },
  {
   "cell_type": "code",
   "execution_count": 34,
   "id": "cbada1bb-87e6-428b-9b9c-b7543dd08c07",
   "metadata": {},
   "outputs": [
    {
     "data": {
      "text/plain": [
       "0"
      ]
     },
     "execution_count": 34,
     "metadata": {},
     "output_type": "execute_result"
    }
   ],
   "source": [
    "25 % 5"
   ]
  },
  {
   "cell_type": "code",
   "execution_count": 44,
   "id": "466f0d8d-c7e8-4407-aa18-9698e8cfd86c",
   "metadata": {},
   "outputs": [
    {
     "data": {
      "text/plain": [
       "0"
      ]
     },
     "execution_count": 44,
     "metadata": {},
     "output_type": "execute_result"
    }
   ],
   "source": [
    "28 % 7"
   ]
  },
  {
   "cell_type": "code",
   "execution_count": 46,
   "id": "4546a4d0-4b22-4f26-9730-271e43ea415c",
   "metadata": {},
   "outputs": [],
   "source": [
    "if 25 % 7 == 0:\n",
    "    print(\"division\")"
   ]
  },
  {
   "cell_type": "code",
   "execution_count": 50,
   "id": "0439104e-dfb2-4939-9a07-b839c36d4ade",
   "metadata": {},
   "outputs": [
    {
     "name": "stdout",
     "output_type": "stream",
     "text": [
      "even\n"
     ]
    }
   ],
   "source": [
    "if 22 % 2 == 0:\n",
    "    print('even')"
   ]
  },
  {
   "cell_type": "code",
   "execution_count": 57,
   "id": "2d0a2ab5-ee01-4a38-b63d-1dcec935114a",
   "metadata": {},
   "outputs": [
    {
     "name": "stdin",
     "output_type": "stream",
     "text": [
      " 21\n"
     ]
    },
    {
     "name": "stdout",
     "output_type": "stream",
     "text": [
      "odd\n"
     ]
    }
   ],
   "source": [
    "n = int(input())\n",
    "if n % 2 == 0:\n",
    "    print(\"even\")\n",
    "else:\n",
    "    print(\"odd\")"
   ]
  },
  {
   "cell_type": "code",
   "execution_count": 58,
   "id": "bc69bef8-8971-4555-809e-bb6e744bef89",
   "metadata": {},
   "outputs": [
    {
     "data": {
      "text/plain": [
       "0"
      ]
     },
     "execution_count": 58,
     "metadata": {},
     "output_type": "execute_result"
    }
   ],
   "source": [
    "0"
   ]
  },
  {
   "cell_type": "code",
   "execution_count": 59,
   "id": "94727bf6-7809-4d97-9c54-00495a58f97f",
   "metadata": {},
   "outputs": [
    {
     "data": {
      "text/plain": [
       "21"
      ]
     },
     "execution_count": 59,
     "metadata": {},
     "output_type": "execute_result"
    }
   ],
   "source": [
    "n"
   ]
  },
  {
   "cell_type": "code",
   "execution_count": 61,
   "id": "c751df29-6c39-4bc1-ab5d-3377935883fb",
   "metadata": {},
   "outputs": [
    {
     "name": "stdout",
     "output_type": "stream",
     "text": [
      "hello\n"
     ]
    }
   ],
   "source": [
    "if 0:\n",
    "    print('hi')\n",
    "else:\n",
    "    print(\"hello\")"
   ]
  },
  {
   "cell_type": "code",
   "execution_count": null,
   "id": "06d4b622-5c78-41ef-b85b-63f5c90abf39",
   "metadata": {},
   "outputs": [],
   "source": [
    "0 , 1"
   ]
  },
  {
   "cell_type": "code",
   "execution_count": 62,
   "id": "4ce15b0a-2e9c-4543-b1d8-769bd21c0c1c",
   "metadata": {},
   "outputs": [
    {
     "data": {
      "text/plain": [
       "21"
      ]
     },
     "execution_count": 62,
     "metadata": {},
     "output_type": "execute_result"
    }
   ],
   "source": [
    "n"
   ]
  },
  {
   "cell_type": "code",
   "execution_count": 63,
   "id": "5e10d358-b854-4692-8298-07db659d6c82",
   "metadata": {},
   "outputs": [
    {
     "name": "stdout",
     "output_type": "stream",
     "text": [
      "odd\n"
     ]
    }
   ],
   "source": [
    "if n % 2:\n",
    "    print(\"odd\")\n",
    "else:\n",
    "    print('even')"
   ]
  },
  {
   "cell_type": "code",
   "execution_count": 71,
   "id": "ed228088-02b7-4bf4-81c7-1001078391a4",
   "metadata": {},
   "outputs": [],
   "source": [
    "n = 19"
   ]
  },
  {
   "cell_type": "code",
   "execution_count": 72,
   "id": "54ad73eb-bb6e-4068-bfe5-19011cd1c5aa",
   "metadata": {},
   "outputs": [],
   "source": [
    "m = 20"
   ]
  },
  {
   "cell_type": "code",
   "execution_count": 73,
   "id": "2fc985af-f5e9-4b82-b310-d742df83af21",
   "metadata": {},
   "outputs": [],
   "source": [
    "o = 21"
   ]
  },
  {
   "cell_type": "code",
   "execution_count": 74,
   "id": "dd9a1f7d-7072-4479-b1a3-eb8123c29b71",
   "metadata": {},
   "outputs": [
    {
     "data": {
      "text/plain": [
       "1"
      ]
     },
     "execution_count": 74,
     "metadata": {},
     "output_type": "execute_result"
    }
   ],
   "source": [
    "n % 3"
   ]
  },
  {
   "cell_type": "code",
   "execution_count": 75,
   "id": "1288c3a5-4f98-4dcc-aec9-19a72fc12d9a",
   "metadata": {},
   "outputs": [
    {
     "data": {
      "text/plain": [
       "2"
      ]
     },
     "execution_count": 75,
     "metadata": {},
     "output_type": "execute_result"
    }
   ],
   "source": [
    "m % 3"
   ]
  },
  {
   "cell_type": "code",
   "execution_count": 76,
   "id": "4ba21680-9f6e-46da-884f-29c507d00683",
   "metadata": {},
   "outputs": [
    {
     "data": {
      "text/plain": [
       "0"
      ]
     },
     "execution_count": 76,
     "metadata": {},
     "output_type": "execute_result"
    }
   ],
   "source": [
    "o % 3"
   ]
  },
  {
   "cell_type": "code",
   "execution_count": 87,
   "id": "be7fd667-7fd7-49af-9717-cda016a80220",
   "metadata": {},
   "outputs": [
    {
     "data": {
      "text/plain": [
       "21"
      ]
     },
     "execution_count": 87,
     "metadata": {},
     "output_type": "execute_result"
    }
   ],
   "source": [
    "o"
   ]
  },
  {
   "cell_type": "code",
   "execution_count": 88,
   "id": "260eb219-d578-4209-86e9-e9df223440a2",
   "metadata": {},
   "outputs": [
    {
     "data": {
      "text/plain": [
       "0"
      ]
     },
     "execution_count": 88,
     "metadata": {},
     "output_type": "execute_result"
    }
   ],
   "source": [
    "o % 3"
   ]
  },
  {
   "cell_type": "code",
   "execution_count": 89,
   "id": "f1590160-477f-4905-89fd-ff5b214fdd73",
   "metadata": {},
   "outputs": [
    {
     "name": "stdout",
     "output_type": "stream",
     "text": [
      "not divisible\n"
     ]
    }
   ],
   "source": [
    "if n % 3:\n",
    "    print(\"not divisible\")\n",
    "else:\n",
    "    print('divisible')"
   ]
  },
  {
   "cell_type": "code",
   "execution_count": 98,
   "id": "7be3011c-b93f-4d6a-8656-1960afad7e0a",
   "metadata": {},
   "outputs": [],
   "source": [
    "n = 12"
   ]
  },
  {
   "cell_type": "code",
   "execution_count": 100,
   "id": "0b9a2319-7689-41ae-8581-eb603167ffa6",
   "metadata": {},
   "outputs": [
    {
     "name": "stdout",
     "output_type": "stream",
     "text": [
      "divisible by 2 and 3\n"
     ]
    }
   ],
   "source": [
    "if n % 2 == 0:\n",
    "    # divisible by 2\n",
    "    if n % 3 == 0:\n",
    "        # divisible by 3 \n",
    "        print(\"divisible by 2 and 3\")\n",
    "    else:\n",
    "        print(\"divisible by 2 not 3\")\n",
    "elif  n % 3 ==0:\n",
    "    print('divisible by 3 but not 2')\n",
    "else:\n",
    "    print(\"not divisible by 2 and 3\")"
   ]
  },
  {
   "cell_type": "code",
   "execution_count": 102,
   "id": "edec6cfb-0467-4095-a785-8d0e3a07c4ed",
   "metadata": {},
   "outputs": [
    {
     "name": "stdout",
     "output_type": "stream",
     "text": [
      "divisible by 2 and 3\n"
     ]
    }
   ],
   "source": [
    "if n % 2 == 0:\n",
    "    \n",
    "    if n % 3 == 0:\n",
    "        print(\"divisible by 2 and 3\")\n",
    "    else:\n",
    "        print(\"divisible by 2 not 3\")"
   ]
  },
  {
   "cell_type": "code",
   "execution_count": 108,
   "id": "dc752c4a-7a3b-4c07-af09-794d6e212b4b",
   "metadata": {},
   "outputs": [],
   "source": [
    "n = 6"
   ]
  },
  {
   "cell_type": "code",
   "execution_count": 110,
   "id": "099ab82f-b600-4310-976d-ee57fed06b42",
   "metadata": {},
   "outputs": [
    {
     "name": "stdout",
     "output_type": "stream",
     "text": [
      "divisible by 2 and 3\n"
     ]
    }
   ],
   "source": [
    "if n % 2 == 0:\n",
    "    if n % 3 ==0:\n",
    "        \n",
    "        print('divisible by 2 and 3')\n",
    "    else:\n",
    "        print(\"divisible by 2 but not 3\")\n",
    "elif n % 3:\n",
    "    print(\"divisible by 3 but not 2\")\n",
    "\n",
    "else:\n",
    "    print('not divisible by 2 and 3')"
   ]
  },
  {
   "cell_type": "code",
   "execution_count": 132,
   "id": "530a4c15-c942-480b-bdd2-1c816ec3cc9d",
   "metadata": {},
   "outputs": [],
   "source": [
    "n = 5"
   ]
  },
  {
   "cell_type": "code",
   "execution_count": 133,
   "id": "09867fbc-7055-445b-afa6-db6eddab83ed",
   "metadata": {},
   "outputs": [
    {
     "name": "stdout",
     "output_type": "stream",
     "text": [
      "divisible by 5\n"
     ]
    }
   ],
   "source": [
    "if n % 2 == 0:\n",
    "    if n % 3 == 0:\n",
    "        if n % 5 == 0:\n",
    "            print('divisible by 2, 3, 5')\n",
    "        else:\n",
    "            print(\"divisible by 2 and 3 not 5\")\n",
    "    elif n % 5 == 0:\n",
    "        print(\"divisible by 2 and 5 not 3\")\n",
    "    else:\n",
    "        print('divisible by 2 not 3 and 5')\n",
    "\n",
    "elif n % 3 == 0:\n",
    "    if n % 5 == 0:\n",
    "        print('divisible by 3 and 5')\n",
    "    else:\n",
    "        print('divisible by 3')\n",
    "elif n % 5 == 0:\n",
    "    print(\"divisible by 5\")\n",
    "\n",
    "else:\n",
    "    print(\"not divisible by 2 or 3 or 5\")"
   ]
  },
  {
   "cell_type": "code",
   "execution_count": 161,
   "id": "646951fb-f67f-45a0-8c0b-1eb4c84c21cc",
   "metadata": {},
   "outputs": [],
   "source": [
    "city = \"Agra\""
   ]
  },
  {
   "cell_type": "code",
   "execution_count": 162,
   "id": "0af0d685-3657-402d-a69d-a8b35c935b1e",
   "metadata": {},
   "outputs": [],
   "source": [
    "age = 20"
   ]
  },
  {
   "cell_type": "code",
   "execution_count": 163,
   "id": "4efc72e9-8534-4b9b-be47-496b27f14e7f",
   "metadata": {},
   "outputs": [
    {
     "name": "stdout",
     "output_type": "stream",
     "text": [
      "kha gum gae\n"
     ]
    }
   ],
   "source": [
    "if city == \"Delhi\":\n",
    "    if age < 30:\n",
    "        print(\"welcome to delhi young man\")\n",
    "    else:\n",
    "        print(\"bahr milo tum\")\n",
    "        \n",
    "elif city == \"CHD\":\n",
    "    if age > 50:\n",
    "        print(\"welcome to city of retirement \")\n",
    "    else:\n",
    "        print(\"welcome to chd\")\n",
    "else:\n",
    "    print(\"kha gum gae\")"
   ]
  },
  {
   "cell_type": "code",
   "execution_count": null,
   "id": "26a93f61-e7b8-49fe-b55f-1ad440926ef9",
   "metadata": {},
   "outputs": [],
   "source": []
  }
 ],
 "metadata": {
  "kernelspec": {
   "display_name": "Python 3 (ipykernel)",
   "language": "python",
   "name": "python3"
  },
  "language_info": {
   "codemirror_mode": {
    "name": "ipython",
    "version": 3
   },
   "file_extension": ".py",
   "mimetype": "text/x-python",
   "name": "python",
   "nbconvert_exporter": "python",
   "pygments_lexer": "ipython3",
   "version": "3.12.7"
  }
 },
 "nbformat": 4,
 "nbformat_minor": 5
}
