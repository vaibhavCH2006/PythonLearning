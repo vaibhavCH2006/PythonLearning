{
 "cells": [
  {
   "cell_type": "code",
   "execution_count": 1,
   "id": "78c06e51-de50-49c6-a22a-40425cc9a024",
   "metadata": {},
   "outputs": [
    {
     "name": "stdout",
     "output_type": "stream",
     "text": [
      "0\n",
      "1\n",
      "2\n",
      "3\n",
      "4\n"
     ]
    }
   ],
   "source": [
    "i = 0\n",
    "n = 5\n",
    "while i < n:\n",
    "    print(i)\n",
    "    i += 1"
   ]
  },
  {
   "cell_type": "code",
   "execution_count": 2,
   "id": "17c30c1b-1355-433d-b574-3b25f380032d",
   "metadata": {},
   "outputs": [
    {
     "name": "stdout",
     "output_type": "stream",
     "text": [
      "5\n",
      "4\n",
      "3\n",
      "2\n",
      "1\n"
     ]
    }
   ],
   "source": [
    "i = 5\n",
    "n = 0\n",
    "while i > n:\n",
    "    print(i)\n",
    "    i -= 1"
   ]
  },
  {
   "cell_type": "code",
   "execution_count": 1,
   "id": "0761543b-a007-40bf-ae13-3d58e7f0a386",
   "metadata": {},
   "outputs": [],
   "source": [
    "name = \"vaibhav\""
   ]
  },
  {
   "cell_type": "code",
   "execution_count": 2,
   "id": "7b509d8e-4ae1-4216-9262-237d32318dea",
   "metadata": {},
   "outputs": [
    {
     "name": "stdout",
     "output_type": "stream",
     "text": [
      "hi\n",
      "hi\n",
      "hi\n",
      "hi\n",
      "hi\n",
      "hi\n",
      "hi\n"
     ]
    }
   ],
   "source": [
    "for alphabet in name:\n",
    "    print(\"hi\")"
   ]
  },
  {
   "cell_type": "code",
   "execution_count": 3,
   "id": "6f93d8fc-f47f-4048-91d5-ea33a8c79a17",
   "metadata": {},
   "outputs": [
    {
     "name": "stdout",
     "output_type": "stream",
     "text": [
      "v\n",
      "a\n",
      "i\n",
      "b\n",
      "h\n",
      "a\n",
      "v\n"
     ]
    }
   ],
   "source": [
    "for alphabet in name:\n",
    "    print(alphabet)"
   ]
  },
  {
   "cell_type": "code",
   "execution_count": 4,
   "id": "4b339894-e061-45e5-8a9c-03b431e407e8",
   "metadata": {},
   "outputs": [
    {
     "name": "stdout",
     "output_type": "stream",
     "text": [
      "tamatar\n",
      "pyaz\n",
      "aloo\n",
      "bhandi\n"
     ]
    }
   ],
   "source": [
    "parchi = ['tamatar', 'pyaz', 'aloo', 'bhandi']\n",
    "\n",
    "for sabzi in parchi:\n",
    "    print(sabzi)"
   ]
  },
  {
   "cell_type": "code",
   "execution_count": 8,
   "id": "140a7979-5d98-4ec3-8653-23b562dca466",
   "metadata": {},
   "outputs": [
    {
     "name": "stdout",
     "output_type": "stream",
     "text": [
      "1\n",
      "3\n",
      "5\n",
      "7\n",
      "9\n"
     ]
    }
   ],
   "source": [
    "number = [1, 3, 5, 7, 9]\n",
    "\n",
    "for num in number:\n",
    "    print(num)"
   ]
  },
  {
   "cell_type": "code",
   "execution_count": 10,
   "id": "da3805a9-dcd7-4d6e-8506-d1fa55275fe1",
   "metadata": {},
   "outputs": [
    {
     "name": "stdout",
     "output_type": "stream",
     "text": [
      "hello shubham\n",
      "hello aakash\n",
      "hello abhishek\n",
      "hello cintu\n"
     ]
    }
   ],
   "source": [
    "course = ['shubham', 'aakash', 'abhishek', 'cintu']\n",
    "for person in course:\n",
    "    print(\"hello\", person)"
   ]
  },
  {
   "cell_type": "code",
   "execution_count": 12,
   "id": "fb3fec9a-e52b-4a82-8540-f550754884df",
   "metadata": {},
   "outputs": [
    {
     "name": "stdout",
     "output_type": "stream",
     "text": [
      "65\n",
      "1\n",
      "385\n",
      "4\n",
      "6\n",
      "345\n",
      "78\n"
     ]
    }
   ],
   "source": [
    "s = {1,385,4,6,78,4,345,65}\n",
    "for i in s:\n",
    "    print(i)"
   ]
  },
  {
   "cell_type": "code",
   "execution_count": 15,
   "id": "248ef55e-80a8-4ce1-abc5-d2e52e5fb13a",
   "metadata": {},
   "outputs": [
    {
     "name": "stdout",
     "output_type": "stream",
     "text": [
      "0\n",
      "1\n",
      "2\n",
      "3\n",
      "4\n",
      "5\n"
     ]
    }
   ],
   "source": [
    "i = 0\n",
    "n = 6\n",
    "while i < n:\n",
    "    print(i)\n",
    "    i += 1"
   ]
  },
  {
   "cell_type": "code",
   "execution_count": 17,
   "id": "f6629480-bc2e-4403-a5ba-b609950fec70",
   "metadata": {},
   "outputs": [
    {
     "name": "stdout",
     "output_type": "stream",
     "text": [
      "0\n",
      "1\n",
      "2\n",
      "3\n",
      "4\n",
      "5\n"
     ]
    }
   ],
   "source": [
    "for i in range(6):\n",
    "    print(i)"
   ]
  },
  {
   "cell_type": "code",
   "execution_count": 19,
   "id": "8cfc019d-e03e-42fa-be96-9a7ef36008e3",
   "metadata": {},
   "outputs": [
    {
     "name": "stdout",
     "output_type": "stream",
     "text": [
      "3\n",
      "4\n",
      "5\n",
      "6\n",
      "7\n",
      "8\n",
      "9\n"
     ]
    }
   ],
   "source": [
    "for i in range(3, 10):\n",
    "    print(i)"
   ]
  },
  {
   "cell_type": "code",
   "execution_count": 22,
   "id": "3d715ac2-ac73-4bc9-9e4b-2ea53c9fd0a3",
   "metadata": {},
   "outputs": [
    {
     "name": "stdout",
     "output_type": "stream",
     "text": [
      "3\n",
      "5\n",
      "7\n",
      "9\n"
     ]
    }
   ],
   "source": [
    "for i in range(3, 10,2):\n",
    "    print(i)"
   ]
  },
  {
   "cell_type": "code",
   "execution_count": 23,
   "id": "92c8e199-9fdc-4774-8282-46bd626570ca",
   "metadata": {},
   "outputs": [
    {
     "name": "stdout",
     "output_type": "stream",
     "text": [
      "3\n",
      "6\n",
      "9\n"
     ]
    }
   ],
   "source": [
    "for i in range(3, 10,3):\n",
    "    print(i)"
   ]
  },
  {
   "cell_type": "code",
   "execution_count": 25,
   "id": "68cfc764-15f9-4c34-9dee-d39e7440fa57",
   "metadata": {},
   "outputs": [
    {
     "name": "stdout",
     "output_type": "stream",
     "text": [
      "v\n",
      "a\n",
      "i\n",
      "b\n",
      "h\n",
      "a\n",
      "v\n"
     ]
    }
   ],
   "source": [
    "name = \"vaibhav\"\n",
    "for i in range (len(name)):\n",
    "    print(name[i])"
   ]
  },
  {
   "cell_type": "code",
   "execution_count": 6,
   "id": "14405aaf-9a67-4e5c-bb97-4c42bdf09d2c",
   "metadata": {},
   "outputs": [
    {
     "name": "stdout",
     "output_type": "stream",
     "text": [
      "[2, 3, 4, 5]\n",
      "[4, 9, 16, 25]\n"
     ]
    }
   ],
   "source": [
    "li = [2,3,4,5]\n",
    "a = []\n",
    "for i in li:\n",
    "    s = i  ** 2\n",
    "    a.append(s)\n",
    "\n",
    "print(li)\n",
    "print(a)"
   ]
  },
  {
   "cell_type": "code",
   "execution_count": 16,
   "id": "c3283925-5bbf-49af-972d-f6d5714055ba",
   "metadata": {},
   "outputs": [
    {
     "name": "stdout",
     "output_type": "stream",
     "text": [
      "[4, 9, 16, 25]\n"
     ]
    }
   ],
   "source": [
    "li = [2,3,4,5]\n",
    "a = []\n",
    "for i in li:\n",
    "    s = i  ** 2\n",
    "    a.append(s)\n",
    "\n",
    "\n",
    "print(a)"
   ]
  },
  {
   "cell_type": "code",
   "execution_count": 17,
   "id": "9317dd7f-7182-4685-9d9e-ef86f0d8be6d",
   "metadata": {},
   "outputs": [
    {
     "data": {
      "text/plain": [
       "[4, 9, 16, 25]"
      ]
     },
     "execution_count": 17,
     "metadata": {},
     "output_type": "execute_result"
    }
   ],
   "source": [
    "a"
   ]
  },
  {
   "cell_type": "code",
   "execution_count": 24,
   "id": "a7ef377a-5de4-4d54-94bb-d29bebf636bc",
   "metadata": {},
   "outputs": [
    {
     "name": "stdout",
     "output_type": "stream",
     "text": [
      "[10, 4, 5, 10, 6]\n"
     ]
    }
   ],
   "source": [
    "import random\n",
    "\n",
    "a = []\n",
    "for _ in range(5):\n",
    "    a.append(random.randint(1, 10))  \n",
    "print(a)"
   ]
  },
  {
   "cell_type": "code",
   "execution_count": 25,
   "id": "ce4d9573-ffc0-4b72-ac61-e7be31aa7b34",
   "metadata": {},
   "outputs": [
    {
     "name": "stdout",
     "output_type": "stream",
     "text": [
      "[10, 4, 5, 10, 6]\n",
      "[100, 16, 25, 100, 36]\n"
     ]
    }
   ],
   "source": [
    "print(a)\n",
    "l = []\n",
    "for i in range(len(a)):\n",
    "    l.append(a[i]**2)\n",
    "print(l)"
   ]
  },
  {
   "cell_type": "code",
   "execution_count": 26,
   "id": "eb67e03d-eddb-4744-afb0-1cfee2868ee0",
   "metadata": {},
   "outputs": [],
   "source": [
    "name = ['shubham', 'akash', 'abhi']\n",
    "age = [20,23,34]"
   ]
  },
  {
   "cell_type": "code",
   "execution_count": 31,
   "id": "ac75502d-3094-475e-ba9e-2a21e9d37b5a",
   "metadata": {},
   "outputs": [
    {
     "name": "stdout",
     "output_type": "stream",
     "text": [
      "shubham 20\n",
      "akash 23\n",
      "abhi 34\n"
     ]
    }
   ],
   "source": [
    "li= []\n",
    "for i, j in zip(name, age):\n",
    "    \n",
    "    print(i, j)\n",
    "    "
   ]
  },
  {
   "cell_type": "code",
   "execution_count": 33,
   "id": "d248232d-b272-4902-adaa-64894d685ec2",
   "metadata": {},
   "outputs": [],
   "source": [
    "d = {}\n",
    "for i in zip(name, age):\n",
    " d[i] = j"
   ]
  },
  {
   "cell_type": "code",
   "execution_count": 34,
   "id": "b6ecd612-75db-4f93-b614-c7718bf3b85b",
   "metadata": {},
   "outputs": [
    {
     "data": {
      "text/plain": [
       "{('shubham', 20): 34, ('akash', 23): 34, ('abhi', 34): 34}"
      ]
     },
     "execution_count": 34,
     "metadata": {},
     "output_type": "execute_result"
    }
   ],
   "source": [
    "d"
   ]
  },
  {
   "cell_type": "code",
   "execution_count": 36,
   "id": "0039617a-f3d2-47a9-ab5a-33481596dbec",
   "metadata": {},
   "outputs": [
    {
     "data": {
      "text/plain": [
       "{'shubham': 20, 'akash': 23, 'abhi': 34}"
      ]
     },
     "execution_count": 36,
     "metadata": {},
     "output_type": "execute_result"
    }
   ],
   "source": [
    "{i: j for i, j in zip(name,age)}"
   ]
  },
  {
   "cell_type": "code",
   "execution_count": null,
   "id": "411e04fa-363e-4e1a-8202-38a7b71274f8",
   "metadata": {},
   "outputs": [],
   "source": []
  }
 ],
 "metadata": {
  "kernelspec": {
   "display_name": "Python 3 (ipykernel)",
   "language": "python",
   "name": "python3"
  },
  "language_info": {
   "codemirror_mode": {
    "name": "ipython",
    "version": 3
   },
   "file_extension": ".py",
   "mimetype": "text/x-python",
   "name": "python",
   "nbconvert_exporter": "python",
   "pygments_lexer": "ipython3",
   "version": "3.13.5"
  }
 },
 "nbformat": 4,
 "nbformat_minor": 5
}
