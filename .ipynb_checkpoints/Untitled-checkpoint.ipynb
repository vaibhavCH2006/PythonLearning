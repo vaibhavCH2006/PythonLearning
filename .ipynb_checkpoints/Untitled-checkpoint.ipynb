{
 "cells": [
  {
   "cell_type": "markdown",
   "id": "53406727-e424-474c-bb4f-99aac997f8b8",
   "metadata": {},
   "source": [
    "# largest element in array"
   ]
  },
  {
   "cell_type": "code",
   "execution_count": 10,
   "id": "e634389a-44f6-4902-867f-d9cd979abba8",
   "metadata": {},
   "outputs": [
    {
     "name": "stdout",
     "output_type": "stream",
     "text": [
      "largest element: 99\n"
     ]
    }
   ],
   "source": [
    "# simple \n",
    "arr = [10, 45, 2, 99, 23]\n",
    "largest = max(arr)\n",
    "print(\"largest element:\", largest)"
   ]
  },
  {
   "cell_type": "code",
   "execution_count": 12,
   "id": "2c94c1f9-4c3d-4718-a8e1-6c4201391484",
   "metadata": {},
   "outputs": [
    {
     "name": "stdout",
     "output_type": "stream",
     "text": [
      "largest element: 99\n"
     ]
    }
   ],
   "source": [
    "# loop\n",
    "arr = [10, 45, 2, 99, 23]\n",
    "largest = arr[0]\n",
    "\n",
    "for num in arr:\n",
    "    if num > largest:\n",
    "        largest = num\n",
    "\n",
    "print(\"largest element:\", largest)        "
   ]
  },
  {
   "cell_type": "code",
   "execution_count": 13,
   "id": "ac3c15ad-6908-4d97-8744-291967640833",
   "metadata": {},
   "outputs": [
    {
     "name": "stdout",
     "output_type": "stream",
     "text": [
      "largest element: 99\n"
     ]
    }
   ],
   "source": [
    "# sorted\n",
    "arr = [10, 45, 2, 99, 23]\n",
    "largest = sorted(arr)[-1]\n",
    "print(\"largest element:\", largest)"
   ]
  },
  {
   "cell_type": "code",
   "execution_count": 15,
   "id": "e8e50068-4a9f-4a01-b7e8-d5803e837e0a",
   "metadata": {},
   "outputs": [
    {
     "name": "stdout",
     "output_type": "stream",
     "text": [
      "largest element: 99\n"
     ]
    }
   ],
   "source": [
    "arr = [10, 45, 2, 99, 23]\n",
    "largest = max(arr)\n",
    "print(\"largest element:\" , largest)"
   ]
  },
  {
   "cell_type": "code",
   "execution_count": 30,
   "id": "2c828c4e-771f-4a44-94e3-4476a6dafce8",
   "metadata": {},
   "outputs": [
    {
     "name": "stdout",
     "output_type": "stream",
     "text": [
      "Largest element: 99\n"
     ]
    }
   ],
   "source": [
    "arr = [10, 45, 2, 99, 23]\n",
    "largest = arr[0]\n",
    "\n",
    "for num in arr:\n",
    "    if num > largest:\n",
    "        largest = num\n",
    "print(\"Largest element:\", largest)"
   ]
  },
  {
   "cell_type": "code",
   "execution_count": 31,
   "id": "cb5a800b-e00f-405e-8fcf-96a51b981f54",
   "metadata": {},
   "outputs": [
    {
     "name": "stdout",
     "output_type": "stream",
     "text": [
      "largest element: 99\n"
     ]
    }
   ],
   "source": [
    "arr = [10, 45, 2, 99, 23]\n",
    "largest = sorted(arr)[-1]\n",
    "print(\"largest element:\", largest)"
   ]
  },
  {
   "cell_type": "markdown",
   "id": "87c00ebe-7710-4929-a8ef-ef45a8a9ba3a",
   "metadata": {},
   "source": [
    "# smallest element in aray"
   ]
  },
  {
   "cell_type": "code",
   "execution_count": 36,
   "id": "2342fab1-3c0f-41b5-a992-6e69bd2b831d",
   "metadata": {},
   "outputs": [
    {
     "name": "stdout",
     "output_type": "stream",
     "text": [
      "Smallest element: 2\n"
     ]
    }
   ],
   "source": [
    "arr = [10, 45, 2, 99, 23]\n",
    "smallest = min(arr)\n",
    "print(\"Smallest element:\", smallest)"
   ]
  },
  {
   "cell_type": "code",
   "execution_count": 42,
   "id": "bc0f4d04-3f7c-4eae-b041-631969b9fc1c",
   "metadata": {},
   "outputs": [
    {
     "name": "stdout",
     "output_type": "stream",
     "text": [
      "smallest element: 2\n"
     ]
    }
   ],
   "source": [
    "arr = [10, 45, 2, 99, 23]\n",
    "smallest = arr[0]\n",
    "for num in arr:\n",
    "    if num < smallest:\n",
    "        smallest = num\n",
    "print(\"smallest element:\", smallest)        "
   ]
  },
  {
   "cell_type": "code",
   "execution_count": 46,
   "id": "b92578a7-a188-422c-8550-c38f1a6717fd",
   "metadata": {},
   "outputs": [
    {
     "name": "stdout",
     "output_type": "stream",
     "text": [
      "smallest element: 2\n"
     ]
    }
   ],
   "source": [
    "arr = [10, 45, 2, 99, 23]\n",
    "smallest = sorted(arr)[0]\n",
    "print(\"smallest element:\", smallest)"
   ]
  },
  {
   "cell_type": "code",
   "execution_count": null,
   "id": "3cae58e1-354e-43ef-ad01-ea44233d6bdf",
   "metadata": {},
   "outputs": [],
   "source": []
  }
 ],
 "metadata": {
  "kernelspec": {
   "display_name": "Python 3 (ipykernel)",
   "language": "python",
   "name": "python3"
  },
  "language_info": {
   "codemirror_mode": {
    "name": "ipython",
    "version": 3
   },
   "file_extension": ".py",
   "mimetype": "text/x-python",
   "name": "python",
   "nbconvert_exporter": "python",
   "pygments_lexer": "ipython3",
   "version": "3.13.5"
  }
 },
 "nbformat": 4,
 "nbformat_minor": 5
}
