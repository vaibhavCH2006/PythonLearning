{
 "cells": [
  {
   "cell_type": "code",
   "execution_count": 3,
   "id": "5fbf737b-cc9f-4972-968f-73b521c09cc5",
   "metadata": {},
   "outputs": [
    {
     "name": "stdout",
     "output_type": "stream",
     "text": [
      "0\n",
      "1\n",
      "2\n",
      "3\n",
      "4\n",
      "5\n",
      "6\n",
      "7\n",
      "8\n",
      "9\n",
      "10\n"
     ]
    }
   ],
   "source": [
    "i = 0\n",
    "n = 11\n",
    "while i < n:\n",
    "    print(i)\n",
    "    i += 1"
   ]
  },
  {
   "cell_type": "code",
   "execution_count": 4,
   "id": "fb107f99-534c-4609-aae0-6f8a7e5f4b01",
   "metadata": {},
   "outputs": [],
   "source": [
    "name = \"vaibhav chaudhary\""
   ]
  },
  {
   "cell_type": "code",
   "execution_count": 5,
   "id": "dc9613db-02f1-4d22-aa63-1616f9659ebb",
   "metadata": {},
   "outputs": [
    {
     "data": {
      "text/plain": [
       "17"
      ]
     },
     "execution_count": 5,
     "metadata": {},
     "output_type": "execute_result"
    }
   ],
   "source": [
    "len(name)"
   ]
  },
  {
   "cell_type": "code",
   "execution_count": 9,
   "id": "408ccdca-e27c-440c-98b0-d10acc2c6a5a",
   "metadata": {},
   "outputs": [
    {
     "data": {
      "text/plain": [
       "'h'"
      ]
     },
     "execution_count": 9,
     "metadata": {},
     "output_type": "execute_result"
    }
   ],
   "source": [
    "name[13]"
   ]
  },
  {
   "cell_type": "code",
   "execution_count": 10,
   "id": "02254697-9a12-4ad1-96b9-a3a881e5fc95",
   "metadata": {},
   "outputs": [
    {
     "data": {
      "text/plain": [
       "'d'"
      ]
     },
     "execution_count": 10,
     "metadata": {},
     "output_type": "execute_result"
    }
   ],
   "source": [
    "name[-5]"
   ]
  },
  {
   "cell_type": "code",
   "execution_count": 11,
   "id": "516aefa5-2120-41e1-86e3-2e9594dbff5e",
   "metadata": {},
   "outputs": [
    {
     "ename": "IndexError",
     "evalue": "string index out of range",
     "output_type": "error",
     "traceback": [
      "\u001b[31m---------------------------------------------------------------------------\u001b[39m",
      "\u001b[31mIndexError\u001b[39m                                Traceback (most recent call last)",
      "\u001b[36mCell\u001b[39m\u001b[36m \u001b[39m\u001b[32mIn[11]\u001b[39m\u001b[32m, line 1\u001b[39m\n\u001b[32m----> \u001b[39m\u001b[32m1\u001b[39m \u001b[43mname\u001b[49m\u001b[43m[\u001b[49m\u001b[32;43m18\u001b[39;49m\u001b[43m]\u001b[49m\n",
      "\u001b[31mIndexError\u001b[39m: string index out of range"
     ]
    }
   ],
   "source": [
    "name[18]"
   ]
  },
  {
   "cell_type": "code",
   "execution_count": 12,
   "id": "66cac3f2-c2f5-4d7c-b785-8597eb56f585",
   "metadata": {},
   "outputs": [
    {
     "name": "stdout",
     "output_type": "stream",
     "text": [
      "17\n",
      "17\n",
      "17\n",
      "17\n",
      "17\n",
      "17\n",
      "17\n",
      "17\n",
      "17\n",
      "17\n",
      "17\n",
      "17\n",
      "17\n",
      "17\n",
      "17\n",
      "17\n",
      "17\n"
     ]
    }
   ],
   "source": [
    "i = 0\n",
    "n = len(name)\n",
    "while i < n:\n",
    "    print(n)\n",
    "    i += 1"
   ]
  },
  {
   "cell_type": "code",
   "execution_count": 14,
   "id": "5e4bf2ae-3157-4aea-85dc-17c36a9933d9",
   "metadata": {},
   "outputs": [
    {
     "name": "stdout",
     "output_type": "stream",
     "text": [
      "0\n",
      "1\n",
      "2\n",
      "3\n",
      "4\n",
      "5\n",
      "6\n",
      "7\n",
      "8\n",
      "9\n",
      "10\n",
      "11\n",
      "12\n",
      "13\n",
      "14\n",
      "15\n",
      "16\n"
     ]
    }
   ],
   "source": [
    "name = \"vaibhav chaudhary\"\n",
    "i = 0\n",
    "n = len(name)\n",
    "while i < n:\n",
    "    print(i)\n",
    "    i += 1"
   ]
  },
  {
   "cell_type": "code",
   "execution_count": 15,
   "id": "1a63c957-d55f-4781-bb74-64ce19b6dfb2",
   "metadata": {},
   "outputs": [
    {
     "name": "stdout",
     "output_type": "stream",
     "text": [
      "v\n",
      "a\n",
      "i\n",
      "b\n",
      "h\n",
      "a\n",
      "v\n",
      " \n",
      "c\n",
      "h\n",
      "a\n",
      "u\n",
      "d\n",
      "h\n",
      "a\n",
      "r\n",
      "y\n"
     ]
    }
   ],
   "source": [
    "name = \"vaibhav chaudhary\"\n",
    "i = 0\n",
    "n = len(name)\n",
    "while i < n:\n",
    "    print(name[i])\n",
    "    i += 1"
   ]
  },
  {
   "cell_type": "code",
   "execution_count": 31,
   "id": "07c0e139-d5b5-4394-8d36-3362e38eb54e",
   "metadata": {},
   "outputs": [],
   "source": [
    "d = {\"name\": \"vaibhav\", \"age\": 19, \"education\": \"diploma\"} "
   ]
  },
  {
   "cell_type": "code",
   "execution_count": 32,
   "id": "6c57bcb1-7987-41ef-a103-3ec78e7d8c33",
   "metadata": {},
   "outputs": [
    {
     "name": "stdout",
     "output_type": "stream",
     "text": [
      "vaibhav\n",
      "19\n",
      "diploma\n"
     ]
    }
   ],
   "source": [
    "d = {\"name\": \"vaibhav\", \"age\": 19, \"education\": \"diploma\"}\n",
    "i = 0\n",
    "n = len(d)\n",
    "k = list(d.keys())\n",
    "\n",
    "while i < n:\n",
    "      key = k[i]\n",
    "      print(d[key])\n",
    "      i += 1"
   ]
  },
  {
   "cell_type": "code",
   "execution_count": 26,
   "id": "f6a8f838-45fa-43cc-95f5-d7cc835198b0",
   "metadata": {},
   "outputs": [
    {
     "data": {
      "text/plain": [
       "dict_values(['vaibhav', 24, 'b.tech'])"
      ]
     },
     "execution_count": 26,
     "metadata": {},
     "output_type": "execute_result"
    }
   ],
   "source": [
    "d.values()"
   ]
  },
  {
   "cell_type": "code",
   "execution_count": 33,
   "id": "9ca5f426-eec2-4510-944f-61a0d0cea34b",
   "metadata": {},
   "outputs": [],
   "source": [
    "i = [7, 1, 4, 7, 5, 8, 9, 3, 0]"
   ]
  },
  {
   "cell_type": "code",
   "execution_count": 34,
   "id": "11d0be16-94c2-4af1-b97c-dc3ab02d06b2",
   "metadata": {},
   "outputs": [
    {
     "data": {
      "text/plain": [
       "[7, 1, 4, 7, 5, 8, 9, 3, 0]"
      ]
     },
     "execution_count": 34,
     "metadata": {},
     "output_type": "execute_result"
    }
   ],
   "source": [
    "i"
   ]
  },
  {
   "cell_type": "code",
   "execution_count": 35,
   "id": "dc5ed879-e811-4e71-b095-cb512e7e9e80",
   "metadata": {},
   "outputs": [
    {
     "data": {
      "text/plain": [
       "9"
      ]
     },
     "execution_count": 35,
     "metadata": {},
     "output_type": "execute_result"
    }
   ],
   "source": [
    "len(i)"
   ]
  },
  {
   "cell_type": "code",
   "execution_count": null,
   "id": "1a80bd0c-1b67-4289-afb8-31ca6a56b5ca",
   "metadata": {},
   "outputs": [],
   "source": []
  },
  {
   "cell_type": "code",
   "execution_count": 42,
   "id": "185ec8cd-2fea-4c05-8765-1aeee25adda6",
   "metadata": {},
   "outputs": [
    {
     "name": "stdout",
     "output_type": "stream",
     "text": [
      "3 9\n"
     ]
    }
   ],
   "source": [
    "l = [3, 7, 2, 9, 5]   \n",
    "i = 1                 \n",
    "n = len(l)\n",
    "a = 0                 \n",
    "\n",
    "while i < n:\n",
    "    if l[i] > l[a]:\n",
    "        a = i\n",
    "    i += 1\n",
    "\n",
    "print(a, l[a])        "
   ]
  },
  {
   "cell_type": "code",
   "execution_count": 48,
   "id": "e6aa944a-d54a-41a5-a0e1-03c7c88cf5ce",
   "metadata": {},
   "outputs": [
    {
     "name": "stdout",
     "output_type": "stream",
     "text": [
      "0 3 1 5\n",
      "1 5 2 8\n",
      "2 8 3 7\n",
      "2 8 4 2\n",
      "2 8 5 9\n",
      "5 9\n"
     ]
    }
   ],
   "source": [
    "l = [3, 5, 8, 7, 2, 9]   \n",
    "i = 1                 \n",
    "n = len(l)\n",
    "a = 0                 \n",
    "\n",
    "while i < n:\n",
    "    print(a, l[a], i, l[i])\n",
    "    if l[i] > l[a]:\n",
    "        a = i\n",
    "    i += 1\n",
    "\n",
    "print(a, l[a])        "
   ]
  },
  {
   "cell_type": "code",
   "execution_count": 47,
   "id": "08668276-026d-4c7b-94a5-7d05cfeeaf8f",
   "metadata": {},
   "outputs": [
    {
     "name": "stdout",
     "output_type": "stream",
     "text": [
      "0 3 1 5\n",
      "1 5 2 8\n",
      "2 8 3 7\n",
      "2 8 4 2\n",
      "2 8 5 9\n",
      "5 9\n"
     ]
    }
   ],
   "source": [
    "l = [3, 5, 8, 7, 2, 9]   \n",
    "i = 1                 \n",
    "n = len(l)\n",
    "a = 0                 \n",
    "\n",
    "while i < n:\n",
    "    print(a, l[a], i, l[i])\n",
    "    if l[i] >  l[a]:\n",
    "        a = i\n",
    "    i += 1\n",
    "\n",
    "print(a, l[a])        "
   ]
  },
  {
   "cell_type": "code",
   "execution_count": 49,
   "id": "575d6be3-69a1-4779-a9be-4d862aba27e5",
   "metadata": {},
   "outputs": [
    {
     "data": {
      "text/plain": [
       "[3, 5, 8, 7, 2, 9]"
      ]
     },
     "execution_count": 49,
     "metadata": {},
     "output_type": "execute_result"
    }
   ],
   "source": [
    "l"
   ]
  },
  {
   "cell_type": "code",
   "execution_count": 50,
   "id": "c5929b2a-d258-4bf8-87c7-d3a9b2c16eea",
   "metadata": {},
   "outputs": [
    {
     "name": "stdout",
     "output_type": "stream",
     "text": [
      "3 3\n",
      "5 8\n",
      "8 16\n",
      "7 23\n",
      "2 25\n",
      "9 34\n",
      "34\n"
     ]
    }
   ],
   "source": [
    "a = 0\n",
    "i = 0\n",
    "n = len(l)\n",
    "while i < n:\n",
    "    a += l[i]\n",
    "    print(l[i], a)\n",
    "    i += 1\n",
    "print(a)    "
   ]
  },
  {
   "cell_type": "code",
   "execution_count": 51,
   "id": "321ee796-c2df-4707-96ad-1a493ff2ea65",
   "metadata": {},
   "outputs": [
    {
     "data": {
      "text/plain": [
       "[3, 5, 8, 7, 2, 9]"
      ]
     },
     "execution_count": 51,
     "metadata": {},
     "output_type": "execute_result"
    }
   ],
   "source": [
    "l"
   ]
  },
  {
   "cell_type": "code",
   "execution_count": 52,
   "id": "7a50bf5c-5f9d-44c2-b780-c12d4d030c52",
   "metadata": {},
   "outputs": [],
   "source": [
    "l.sort()"
   ]
  },
  {
   "cell_type": "code",
   "execution_count": 53,
   "id": "01a6f710-4b82-4351-92e1-c1d288cd9f0e",
   "metadata": {},
   "outputs": [
    {
     "data": {
      "text/plain": [
       "[2, 3, 5, 7, 8, 9]"
      ]
     },
     "execution_count": 53,
     "metadata": {},
     "output_type": "execute_result"
    }
   ],
   "source": [
    "l"
   ]
  },
  {
   "cell_type": "code",
   "execution_count": 56,
   "id": "61ae805c-adcb-49b6-a463-cd9528ebbe77",
   "metadata": {},
   "outputs": [
    {
     "data": {
      "text/plain": [
       "3"
      ]
     },
     "execution_count": 56,
     "metadata": {},
     "output_type": "execute_result"
    }
   ],
   "source": [
    "len(l)//2"
   ]
  },
  {
   "cell_type": "code",
   "execution_count": 55,
   "id": "40b2e458-1fbd-4724-a7d3-277eeb4f3768",
   "metadata": {},
   "outputs": [
    {
     "data": {
      "text/plain": [
       "7"
      ]
     },
     "execution_count": 55,
     "metadata": {},
     "output_type": "execute_result"
    }
   ],
   "source": [
    "l[len(l)//2]"
   ]
  },
  {
   "cell_type": "code",
   "execution_count": 66,
   "id": "f6bf6e21-7fe3-4cba-98c2-07ab7d2021c6",
   "metadata": {},
   "outputs": [
    {
     "name": "stdout",
     "output_type": "stream",
     "text": [
      "(n) is a not prime number\n"
     ]
    }
   ],
   "source": [
    "n = 25\n",
    "prime = True\n",
    "i = 2\n",
    "\n",
    "while i < n:\n",
    "     if n % i == 0:\n",
    "        prime = False\n",
    "        break\n",
    "     i += 1\n",
    "\n",
    "if prime:\n",
    "    print(f\"(n) is a prime number\")\n",
    "else:\n",
    "    print(f\"(n) is a not prime number\")"
   ]
  },
  {
   "cell_type": "code",
   "execution_count": 67,
   "id": "90ee1698-7277-46a7-9584-3c1b754063cf",
   "metadata": {},
   "outputs": [
    {
     "name": "stdout",
     "output_type": "stream",
     "text": [
      "(n) is a prime number\n"
     ]
    }
   ],
   "source": [
    "n = 5\n",
    "prime = True\n",
    "i = 2\n",
    "\n",
    "while i < n:\n",
    "     if n % i == 0:\n",
    "        prime = False\n",
    "        break\n",
    "     i += 1\n",
    "\n",
    "if prime:\n",
    "    print(f\"(n) is a prime number\")\n",
    "else:\n",
    "    print(f\"(n) is a not prime number\")"
   ]
  },
  {
   "cell_type": "code",
   "execution_count": null,
   "id": "9c1f088c-d8b7-4f3f-8f68-55352bf4e48c",
   "metadata": {},
   "outputs": [],
   "source": []
  }
 ],
 "metadata": {
  "kernelspec": {
   "display_name": "Python 3 (ipykernel)",
   "language": "python",
   "name": "python3"
  },
  "language_info": {
   "codemirror_mode": {
    "name": "ipython",
    "version": 3
   },
   "file_extension": ".py",
   "mimetype": "text/x-python",
   "name": "python",
   "nbconvert_exporter": "python",
   "pygments_lexer": "ipython3",
   "version": "3.13.5"
  }
 },
 "nbformat": 4,
 "nbformat_minor": 5
}
