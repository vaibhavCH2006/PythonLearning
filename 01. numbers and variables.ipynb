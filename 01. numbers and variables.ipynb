{
 "cells": [
  {
   "cell_type": "code",
   "execution_count": 1,
   "id": "0fc44a59-a367-44f9-9657-c29a6e4a4bee",
   "metadata": {},
   "outputs": [],
   "source": [
    "# working with numbers"
   ]
  },
  {
   "cell_type": "markdown",
   "id": "d22be8b2-b34f-4838-86e8-7563d9ce5060",
   "metadata": {},
   "source": [
    "# working with numbers\n"
   ]
  },
  {
   "cell_type": "code",
   "execution_count": null,
   "id": "366e6d1c-c235-49aa-bc7b-1dab5041d27e",
   "metadata": {},
   "outputs": [],
   "source": [
    "net321max"
   ]
  },
  {
   "cell_type": "code",
   "execution_count": 2,
   "id": "d645ee2b-1ecc-4158-a044-81fffe3ca2a5",
   "metadata": {},
   "outputs": [
    {
     "data": {
      "text/plain": [
       "10"
      ]
     },
     "execution_count": 2,
     "metadata": {},
     "output_type": "execute_result"
    }
   ],
   "source": [
    "5+5"
   ]
  },
  {
   "cell_type": "code",
   "execution_count": 9,
   "id": "fb11d004-c5fd-4aea-8b58-98904a8d54b2",
   "metadata": {
    "scrolled": true
   },
   "outputs": [
    {
     "data": {
      "text/plain": [
       "5"
      ]
     },
     "execution_count": 9,
     "metadata": {},
     "output_type": "execute_result"
    }
   ],
   "source": [
    "8-3"
   ]
  },
  {
   "cell_type": "code",
   "execution_count": 3,
   "id": "5f5f4555-567c-4b50-8d71-927bc8a477cf",
   "metadata": {},
   "outputs": [
    {
     "data": {
      "text/plain": [
       "25"
      ]
     },
     "execution_count": 3,
     "metadata": {},
     "output_type": "execute_result"
    }
   ],
   "source": [
    "5*5"
   ]
  },
  {
   "cell_type": "code",
   "execution_count": 8,
   "id": "cd20610a-6f78-4f80-a15f-93de35c24d8f",
   "metadata": {},
   "outputs": [
    {
     "data": {
      "text/plain": [
       "2.6666666666666665"
      ]
     },
     "execution_count": 8,
     "metadata": {},
     "output_type": "execute_result"
    }
   ],
   "source": [
    "8/3"
   ]
  },
  {
   "cell_type": "code",
   "execution_count": 10,
   "id": "7ed41828-fce4-442a-a637-76fe17af98cd",
   "metadata": {
    "scrolled": true
   },
   "outputs": [
    {
     "data": {
      "text/plain": [
       "243"
      ]
     },
     "execution_count": 10,
     "metadata": {},
     "output_type": "execute_result"
    }
   ],
   "source": [
    "3**5"
   ]
  },
  {
   "cell_type": "code",
   "execution_count": 11,
   "id": "5adb92a4-6faa-4bf5-8d44-6a3641b7e662",
   "metadata": {},
   "outputs": [
    {
     "data": {
      "text/plain": [
       "3.0"
      ]
     },
     "execution_count": 11,
     "metadata": {},
     "output_type": "execute_result"
    }
   ],
   "source": [
    "27**(1/3)"
   ]
  },
  {
   "cell_type": "code",
   "execution_count": 12,
   "id": "4401aff3-268d-4fe7-bc5c-8a0c17e7e0b6",
   "metadata": {},
   "outputs": [
    {
     "data": {
      "text/plain": [
       "3.142857142857143"
      ]
     },
     "execution_count": 12,
     "metadata": {},
     "output_type": "execute_result"
    }
   ],
   "source": [
    "22/7"
   ]
  },
  {
   "cell_type": "code",
   "execution_count": 13,
   "id": "4b69c8c4-e6a5-4e17-9387-7c9e25af0533",
   "metadata": {},
   "outputs": [
    {
     "data": {
      "text/plain": [
       "3"
      ]
     },
     "execution_count": 13,
     "metadata": {},
     "output_type": "execute_result"
    }
   ],
   "source": [
    "22//7"
   ]
  },
  {
   "cell_type": "code",
   "execution_count": 14,
   "id": "77bd5e70-f48e-45e4-9135-5b5ee4e8fec5",
   "metadata": {},
   "outputs": [
    {
     "data": {
      "text/plain": [
       "1"
      ]
     },
     "execution_count": 14,
     "metadata": {},
     "output_type": "execute_result"
    }
   ],
   "source": [
    "22 % 7"
   ]
  },
  {
   "cell_type": "markdown",
   "id": "b3859d7d-37b0-4471-8b5b-fbaf191bf4b8",
   "metadata": {},
   "source": [
    "# working with variables"
   ]
  },
  {
   "cell_type": "code",
   "execution_count": 21,
   "id": "afe584c0-2ee2-431c-a416-293442fb3d88",
   "metadata": {},
   "outputs": [],
   "source": [
    "a = 5"
   ]
  },
  {
   "cell_type": "code",
   "execution_count": 22,
   "id": "89c1262d-7d31-4cd7-b0aa-e07b1575226a",
   "metadata": {},
   "outputs": [
    {
     "data": {
      "text/plain": [
       "5"
      ]
     },
     "execution_count": 22,
     "metadata": {},
     "output_type": "execute_result"
    }
   ],
   "source": [
    "a"
   ]
  },
  {
   "cell_type": "raw",
   "id": "382604f8-5a5f-465f-90f7-929e2f700633",
   "metadata": {},
   "source": [
    "numbers in green should not be used as a variable\n",
    "like \n",
    "\n",
    "str, int, list, tuple, dictionary, set, in, while, for "
   ]
  },
  {
   "cell_type": "code",
   "execution_count": 25,
   "id": "d50e7320-b17e-4a07-a4eb-4bdd8ede8211",
   "metadata": {},
   "outputs": [],
   "source": [
    "a = 50.6"
   ]
  },
  {
   "cell_type": "code",
   "execution_count": 26,
   "id": "2e6dead6-051e-44a5-b4f5-b0e0e4081ffd",
   "metadata": {},
   "outputs": [
    {
     "data": {
      "text/plain": [
       "50.6"
      ]
     },
     "execution_count": 26,
     "metadata": {},
     "output_type": "execute_result"
    }
   ],
   "source": [
    "a"
   ]
  },
  {
   "cell_type": "code",
   "execution_count": 29,
   "id": "1550df6f-c4db-4c72-9835-78a14b27d11e",
   "metadata": {},
   "outputs": [],
   "source": [
    "# variable can not start with a number"
   ]
  },
  {
   "cell_type": "code",
   "execution_count": 28,
   "id": "da292dea-5523-4a33-a323-1fd001908399",
   "metadata": {
    "scrolled": true
   },
   "outputs": [
    {
     "ename": "SyntaxError",
     "evalue": "invalid decimal literal (1109659130.py, line 1)",
     "output_type": "error",
     "traceback": [
      "\u001b[1;36m  Cell \u001b[1;32mIn[28], line 1\u001b[1;36m\u001b[0m\n\u001b[1;33m    1person = \"shubham\"\u001b[0m\n\u001b[1;37m    ^\u001b[0m\n\u001b[1;31mSyntaxError\u001b[0m\u001b[1;31m:\u001b[0m invalid decimal literal\n"
     ]
    }
   ],
   "source": [
    "1person = \"shubham\"\n",
    "2person = \"abhi\""
   ]
  },
  {
   "cell_type": "code",
   "execution_count": 30,
   "id": "30a07afa-4a73-4278-a077-8d71981abec5",
   "metadata": {},
   "outputs": [],
   "source": [
    "# you can not use ! @ # $ % ^ & * () - + = to create a variable"
   ]
  },
  {
   "cell_type": "code",
   "execution_count": 31,
   "id": "83384f6b-4120-4342-bc1e-a4ccb468c959",
   "metadata": {},
   "outputs": [
    {
     "ename": "SyntaxError",
     "evalue": "invalid syntax (432554339.py, line 1)",
     "output_type": "error",
     "traceback": [
      "\u001b[1;36m  Cell \u001b[1;32mIn[31], line 1\u001b[1;36m\u001b[0m\n\u001b[1;33m    price@$30 = 52\u001b[0m\n\u001b[1;37m          ^\u001b[0m\n\u001b[1;31mSyntaxError\u001b[0m\u001b[1;31m:\u001b[0m invalid syntax\n"
     ]
    }
   ],
   "source": [
    "price@$30 = 52"
   ]
  },
  {
   "cell_type": "code",
   "execution_count": 32,
   "id": "0487fe3c-d011-427d-adbd-0ec9ea87abe1",
   "metadata": {},
   "outputs": [],
   "source": [
    "# \n",
    "\n",
    "person1 = \"Shubham\"\n",
    "person2 = \"abhi\""
   ]
  },
  {
   "cell_type": "code",
   "execution_count": 34,
   "id": "8f71027a-64bf-4286-a2f9-a3572ef5f44e",
   "metadata": {},
   "outputs": [
    {
     "ename": "SyntaxError",
     "evalue": "invalid syntax (2758425659.py, line 2)",
     "output_type": "error",
     "traceback": [
      "\u001b[1;36m  Cell \u001b[1;32mIn[34], line 2\u001b[1;36m\u001b[0m\n\u001b[1;33m    roll no = 24\u001b[0m\n\u001b[1;37m         ^\u001b[0m\n\u001b[1;31mSyntaxError\u001b[0m\u001b[1;31m:\u001b[0m invalid syntax\n"
     ]
    }
   ],
   "source": [
    "# space in a variable is not allowed\n",
    "roll no = 24"
   ]
  },
  {
   "cell_type": "code",
   "execution_count": 36,
   "id": "669d1bcc-b44c-45ce-8ae4-1b1b584556c7",
   "metadata": {},
   "outputs": [],
   "source": [
    "# Snake casing\n",
    "roll_no = 24"
   ]
  },
  {
   "cell_type": "code",
   "execution_count": 37,
   "id": "8ac1f65a-08ac-4df0-9abd-0b91802fa54d",
   "metadata": {},
   "outputs": [],
   "source": [
    "password_of_wifi_of_it_department = 12345678"
   ]
  },
  {
   "cell_type": "code",
   "execution_count": 38,
   "id": "33631e21-a544-4426-ac7d-1f4408c667cd",
   "metadata": {},
   "outputs": [],
   "source": [
    "# cammel casing"
   ]
  },
  {
   "cell_type": "code",
   "execution_count": 39,
   "id": "2aa3e061-2621-43d4-817a-f24715d6d943",
   "metadata": {},
   "outputs": [],
   "source": [
    "passwordOfWifiOfItDepartment = 87654321"
   ]
  },
  {
   "cell_type": "code",
   "execution_count": 43,
   "id": "01ea7c15-0821-4537-83d4-a23eafaca7a1",
   "metadata": {},
   "outputs": [],
   "source": [
    "# be move specific with your naming\n",
    "d = 4"
   ]
  },
  {
   "cell_type": "code",
   "execution_count": 44,
   "id": "6edc0fbb-df5f-47c0-a296-07d72217591d",
   "metadata": {},
   "outputs": [],
   "source": [
    "dogs = 4"
   ]
  },
  {
   "cell_type": "code",
   "execution_count": 70,
   "id": "5f4f06fc-3647-40ba-b7f0-396648c90f61",
   "metadata": {},
   "outputs": [
    {
     "data": {
      "text/plain": [
       "50.6"
      ]
     },
     "execution_count": 70,
     "metadata": {},
     "output_type": "execute_result"
    }
   ],
   "source": [
    "# case sensistive\n",
    "a"
   ]
  },
  {
   "cell_type": "code",
   "execution_count": 47,
   "id": "9d97389d-6e6a-4dc0-877e-f7be2d7dd8cd",
   "metadata": {},
   "outputs": [],
   "source": [
    "A= 30"
   ]
  },
  {
   "cell_type": "code",
   "execution_count": 48,
   "id": "908f5d2d-b08f-45f2-9484-c424a101d4e8",
   "metadata": {
    "scrolled": true
   },
   "outputs": [
    {
     "data": {
      "text/plain": [
       "50.6"
      ]
     },
     "execution_count": 48,
     "metadata": {},
     "output_type": "execute_result"
    }
   ],
   "source": [
    "a"
   ]
  },
  {
   "cell_type": "code",
   "execution_count": 49,
   "id": "24d88fe7-6399-4b08-84ee-c7d05de57eb6",
   "metadata": {
    "scrolled": true
   },
   "outputs": [
    {
     "data": {
      "text/plain": [
       "30"
      ]
     },
     "execution_count": 49,
     "metadata": {},
     "output_type": "execute_result"
    }
   ],
   "source": [
    "A"
   ]
  },
  {
   "cell_type": "code",
   "execution_count": 54,
   "id": "e403cf91-53f3-4546-9ab6-b000b26fe959",
   "metadata": {},
   "outputs": [],
   "source": [
    "# python is a case sensitive language\n",
    "name = 'shubham'"
   ]
  },
  {
   "cell_type": "code",
   "execution_count": 51,
   "id": "cc211068-4c8d-4888-81ca-404810bcea7f",
   "metadata": {},
   "outputs": [],
   "source": [
    "Name = \"abhi\""
   ]
  },
  {
   "cell_type": "code",
   "execution_count": 52,
   "id": "29e32fe2-336a-454e-b241-f1eef05051f2",
   "metadata": {},
   "outputs": [
    {
     "data": {
      "text/plain": [
       "'shubham'"
      ]
     },
     "execution_count": 52,
     "metadata": {},
     "output_type": "execute_result"
    }
   ],
   "source": [
    "name"
   ]
  },
  {
   "cell_type": "code",
   "execution_count": 53,
   "id": "70c28e6b-c034-4351-8934-085bfdb6085c",
   "metadata": {},
   "outputs": [
    {
     "data": {
      "text/plain": [
       "'abhi'"
      ]
     },
     "execution_count": 53,
     "metadata": {},
     "output_type": "execute_result"
    }
   ],
   "source": [
    "Name"
   ]
  },
  {
   "cell_type": "code",
   "execution_count": 56,
   "id": "5eef137e-14c4-464e-8def-467a5e47ca5e",
   "metadata": {},
   "outputs": [
    {
     "ename": "NameError",
     "evalue": "name 'p' is not defined",
     "output_type": "error",
     "traceback": [
      "\u001b[1;31m---------------------------------------------------------------------------\u001b[0m",
      "\u001b[1;31mNameError\u001b[0m                                 Traceback (most recent call last)",
      "Cell \u001b[1;32mIn[56], line 2\u001b[0m\n\u001b[0;32m      1\u001b[0m \u001b[38;5;66;03m# if variable does not exist then we get a name error\u001b[39;00m\n\u001b[1;32m----> 2\u001b[0m p\n",
      "\u001b[1;31mNameError\u001b[0m: name 'p' is not defined"
     ]
    }
   ],
   "source": [
    "# if variable does not exist then we get a name error\n",
    "p"
   ]
  },
  {
   "cell_type": "code",
   "execution_count": null,
   "id": "2c93b4c7-3a14-40a7-893f-114301c82b63",
   "metadata": {},
   "outputs": [],
   "source": [
    "# some times students does not execute cell\n",
    "z = 80"
   ]
  },
  {
   "cell_type": "code",
   "execution_count": 65,
   "id": "f77237da-e7fb-4c33-be9c-5b9b7de89ef8",
   "metadata": {},
   "outputs": [
    {
     "ename": "NameError",
     "evalue": "name 'z' is not defined",
     "output_type": "error",
     "traceback": [
      "\u001b[1;31m---------------------------------------------------------------------------\u001b[0m",
      "\u001b[1;31mNameError\u001b[0m                                 Traceback (most recent call last)",
      "Cell \u001b[1;32mIn[65], line 1\u001b[0m\n\u001b[1;32m----> 1\u001b[0m z\n",
      "\u001b[1;31mNameError\u001b[0m: name 'z' is not defined"
     ]
    }
   ],
   "source": [
    "z"
   ]
  },
  {
   "cell_type": "code",
   "execution_count": 58,
   "id": "43b14e54-ca5b-4828-8f4e-29eb98d01bc0",
   "metadata": {},
   "outputs": [],
   "source": [
    "# sometime students forget to execute the cell again\n",
    "n = 5"
   ]
  },
  {
   "cell_type": "code",
   "execution_count": 71,
   "id": "5dcc00d8-da40-4006-afb8-3d08d765b391",
   "metadata": {},
   "outputs": [
    {
     "data": {
      "text/plain": [
       "10"
      ]
     },
     "execution_count": 71,
     "metadata": {},
     "output_type": "execute_result"
    }
   ],
   "source": [
    "n"
   ]
  },
  {
   "cell_type": "code",
   "execution_count": null,
   "id": "b76dd21f-9878-4061-aac9-579ca4fd5967",
   "metadata": {},
   "outputs": [],
   "source": []
  },
  {
   "cell_type": "code",
   "execution_count": 72,
   "id": "1acfbbbe-710a-445e-b8fc-b41a26b37fd9",
   "metadata": {},
   "outputs": [],
   "source": [
    "ammount = 6"
   ]
  },
  {
   "cell_type": "code",
   "execution_count": 73,
   "id": "39ea0e8e-c3e9-4755-99a2-64fd7045cc0e",
   "metadata": {},
   "outputs": [
    {
     "data": {
      "text/plain": [
       "8"
      ]
     },
     "execution_count": 73,
     "metadata": {},
     "output_type": "execute_result"
    }
   ],
   "source": [
    "ammount + 2"
   ]
  },
  {
   "cell_type": "code",
   "execution_count": 74,
   "id": "ab0179e3-6cc3-49fe-997d-e97c0550f8af",
   "metadata": {},
   "outputs": [
    {
     "data": {
      "text/plain": [
       "18"
      ]
     },
     "execution_count": 74,
     "metadata": {},
     "output_type": "execute_result"
    }
   ],
   "source": [
    "ammount * 3"
   ]
  },
  {
   "cell_type": "code",
   "execution_count": 75,
   "id": "fbffbeb4-0276-4a89-9a2a-b7dc5fe4553f",
   "metadata": {},
   "outputs": [
    {
     "data": {
      "text/plain": [
       "6"
      ]
     },
     "execution_count": 75,
     "metadata": {},
     "output_type": "execute_result"
    }
   ],
   "source": [
    "ammount"
   ]
  },
  {
   "cell_type": "code",
   "execution_count": 76,
   "id": "7129ba9b-f7f4-4542-9909-858b92702877",
   "metadata": {},
   "outputs": [],
   "source": [
    "ammount = 10"
   ]
  },
  {
   "cell_type": "code",
   "execution_count": 77,
   "id": "97d46ac8-8e3c-4ffe-b8a6-62d64a92bf25",
   "metadata": {},
   "outputs": [
    {
     "data": {
      "text/plain": [
       "10"
      ]
     },
     "execution_count": 77,
     "metadata": {},
     "output_type": "execute_result"
    }
   ],
   "source": [
    "ammount"
   ]
  },
  {
   "cell_type": "code",
   "execution_count": 83,
   "id": "b99c29ab-444f-4490-b7a0-f67f82ff0604",
   "metadata": {},
   "outputs": [],
   "source": [
    "ammount = ammount + 5"
   ]
  },
  {
   "cell_type": "code",
   "execution_count": 84,
   "id": "4067b5af-15bf-481d-94eb-9e0b81cc9cdd",
   "metadata": {},
   "outputs": [
    {
     "data": {
      "text/plain": [
       "20"
      ]
     },
     "execution_count": 84,
     "metadata": {},
     "output_type": "execute_result"
    }
   ],
   "source": [
    "ammount"
   ]
  },
  {
   "cell_type": "markdown",
   "id": "644e754d-1440-4cb9-827d-8c513131c1d9",
   "metadata": {},
   "source": [
    "## assignment operations"
   ]
  },
  {
   "cell_type": "code",
   "execution_count": 85,
   "id": "588b5773-46fc-4db0-bade-e5091979747d",
   "metadata": {},
   "outputs": [],
   "source": [
    "a = 10"
   ]
  },
  {
   "cell_type": "code",
   "execution_count": 91,
   "id": "014c0286-a5d6-42d3-ba30-6eba88dbe95d",
   "metadata": {},
   "outputs": [],
   "source": [
    "a = a +1"
   ]
  },
  {
   "cell_type": "code",
   "execution_count": 92,
   "id": "09562837-da51-4286-921e-44782da92356",
   "metadata": {},
   "outputs": [
    {
     "data": {
      "text/plain": [
       "13"
      ]
     },
     "execution_count": 92,
     "metadata": {},
     "output_type": "execute_result"
    }
   ],
   "source": [
    "a"
   ]
  },
  {
   "cell_type": "code",
   "execution_count": 95,
   "id": "bb4c4457-d8e8-48b1-a802-dd1d034201f5",
   "metadata": {},
   "outputs": [],
   "source": [
    "a = a+2"
   ]
  },
  {
   "cell_type": "code",
   "execution_count": 96,
   "id": "5c20da81-d4c8-4e28-b3d4-1ad4fd2a8808",
   "metadata": {},
   "outputs": [
    {
     "data": {
      "text/plain": [
       "16"
      ]
     },
     "execution_count": 96,
     "metadata": {},
     "output_type": "execute_result"
    }
   ],
   "source": [
    "a"
   ]
  },
  {
   "cell_type": "code",
   "execution_count": 97,
   "id": "749711eb-2cdd-41b0-8b53-e65e99b57488",
   "metadata": {},
   "outputs": [],
   "source": [
    "a += 1"
   ]
  },
  {
   "cell_type": "code",
   "execution_count": 98,
   "id": "90a8eba4-c709-42f8-917d-e17ee7f99a47",
   "metadata": {},
   "outputs": [
    {
     "data": {
      "text/plain": [
       "17"
      ]
     },
     "execution_count": 98,
     "metadata": {},
     "output_type": "execute_result"
    }
   ],
   "source": [
    "a"
   ]
  },
  {
   "cell_type": "code",
   "execution_count": 101,
   "id": "c22f57c0-7c53-4296-89d7-ac279fbadbde",
   "metadata": {},
   "outputs": [],
   "source": [
    "a -= 1"
   ]
  },
  {
   "cell_type": "code",
   "execution_count": 102,
   "id": "3ef79e67-7d96-4b8f-9c39-46b210e72add",
   "metadata": {},
   "outputs": [
    {
     "data": {
      "text/plain": [
       "15"
      ]
     },
     "execution_count": 102,
     "metadata": {},
     "output_type": "execute_result"
    }
   ],
   "source": [
    "a"
   ]
  },
  {
   "cell_type": "code",
   "execution_count": 103,
   "id": "904fb93d-8df7-41d7-a28d-595a5df7c8d1",
   "metadata": {},
   "outputs": [],
   "source": [
    "a *= 2"
   ]
  },
  {
   "cell_type": "code",
   "execution_count": 104,
   "id": "93601707-9ad8-4e72-adeb-fa753dc35e4d",
   "metadata": {},
   "outputs": [
    {
     "data": {
      "text/plain": [
       "30"
      ]
     },
     "execution_count": 104,
     "metadata": {},
     "output_type": "execute_result"
    }
   ],
   "source": [
    "a"
   ]
  },
  {
   "cell_type": "code",
   "execution_count": 105,
   "id": "d52be07d-a69f-496f-bb41-8645580c12ef",
   "metadata": {},
   "outputs": [],
   "source": [
    "a /=2"
   ]
  },
  {
   "cell_type": "code",
   "execution_count": 106,
   "id": "00c93919-fe65-4790-97ae-c01fe885cdff",
   "metadata": {},
   "outputs": [
    {
     "data": {
      "text/plain": [
       "15.0"
      ]
     },
     "execution_count": 106,
     "metadata": {},
     "output_type": "execute_result"
    }
   ],
   "source": [
    "a"
   ]
  },
  {
   "cell_type": "code",
   "execution_count": null,
   "id": "0e11cade-64be-4c7c-9376-24d545a6fae2",
   "metadata": {},
   "outputs": [],
   "source": [
    "ipynb"
   ]
  }
 ],
 "metadata": {
  "kernelspec": {
   "display_name": "Python 3 (ipykernel)",
   "language": "python",
   "name": "python3"
  },
  "language_info": {
   "codemirror_mode": {
    "name": "ipython",
    "version": 3
   },
   "file_extension": ".py",
   "mimetype": "text/x-python",
   "name": "python",
   "nbconvert_exporter": "python",
   "pygments_lexer": "ipython3",
   "version": "3.12.7"
  }
 },
 "nbformat": 4,
 "nbformat_minor": 5
}
