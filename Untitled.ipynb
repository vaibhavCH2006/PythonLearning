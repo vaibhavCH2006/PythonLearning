{
 "cells": [
  {
   "cell_type": "markdown",
   "id": "53406727-e424-474c-bb4f-99aac997f8b8",
   "metadata": {},
   "source": [
    "# largest element in array"
   ]
  },
  {
   "cell_type": "code",
   "execution_count": 10,
   "id": "e634389a-44f6-4902-867f-d9cd979abba8",
   "metadata": {},
   "outputs": [
    {
     "name": "stdout",
     "output_type": "stream",
     "text": [
      "largest element: 99\n"
     ]
    }
   ],
   "source": [
    "# simple \n",
    "arr = [10, 45, 2, 99, 23]\n",
    "largest = max(arr)\n",
    "print(\"largest element:\", largest)"
   ]
  },
  {
   "cell_type": "code",
   "execution_count": 12,
   "id": "2c94c1f9-4c3d-4718-a8e1-6c4201391484",
   "metadata": {},
   "outputs": [
    {
     "name": "stdout",
     "output_type": "stream",
     "text": [
      "largest element: 99\n"
     ]
    }
   ],
   "source": [
    "# loop\n",
    "arr = [10, 45, 2, 99, 23]\n",
    "largest = arr[0]\n",
    "\n",
    "for num in arr:\n",
    "    if num > largest:\n",
    "        largest = num\n",
    "\n",
    "print(\"largest element:\", largest)        "
   ]
  },
  {
   "cell_type": "code",
   "execution_count": 13,
   "id": "ac3c15ad-6908-4d97-8744-291967640833",
   "metadata": {},
   "outputs": [
    {
     "name": "stdout",
     "output_type": "stream",
     "text": [
      "largest element: 99\n"
     ]
    }
   ],
   "source": [
    "# sorted\n",
    "arr = [10, 45, 2, 99, 23]\n",
    "largest = sorted(arr)[-1]\n",
    "print(\"largest element:\", largest)"
   ]
  },
  {
   "cell_type": "code",
   "execution_count": 15,
   "id": "e8e50068-4a9f-4a01-b7e8-d5803e837e0a",
   "metadata": {},
   "outputs": [
    {
     "name": "stdout",
     "output_type": "stream",
     "text": [
      "largest element: 99\n"
     ]
    }
   ],
   "source": [
    "arr = [10, 45, 2, 99, 23]\n",
    "largest = max(arr)\n",
    "print(\"largest element:\" , largest)"
   ]
  },
  {
   "cell_type": "code",
   "execution_count": 30,
   "id": "2c828c4e-771f-4a44-94e3-4476a6dafce8",
   "metadata": {},
   "outputs": [
    {
     "name": "stdout",
     "output_type": "stream",
     "text": [
      "Largest element: 99\n"
     ]
    }
   ],
   "source": [
    "arr = [10, 45, 2, 99, 23]\n",
    "largest = arr[0]\n",
    "\n",
    "for num in arr:\n",
    "    if num > largest:\n",
    "        largest = num\n",
    "print(\"Largest element:\", largest)"
   ]
  },
  {
   "cell_type": "code",
   "execution_count": 31,
   "id": "cb5a800b-e00f-405e-8fcf-96a51b981f54",
   "metadata": {},
   "outputs": [
    {
     "name": "stdout",
     "output_type": "stream",
     "text": [
      "largest element: 99\n"
     ]
    }
   ],
   "source": [
    "arr = [10, 45, 2, 99, 23]\n",
    "largest = sorted(arr)[-1]\n",
    "print(\"largest element:\", largest)"
   ]
  },
  {
   "cell_type": "markdown",
   "id": "87c00ebe-7710-4929-a8ef-ef45a8a9ba3a",
   "metadata": {},
   "source": [
    "# smallest element in aray"
   ]
  },
  {
   "cell_type": "code",
   "execution_count": 36,
   "id": "2342fab1-3c0f-41b5-a992-6e69bd2b831d",
   "metadata": {},
   "outputs": [
    {
     "name": "stdout",
     "output_type": "stream",
     "text": [
      "Smallest element: 2\n"
     ]
    }
   ],
   "source": [
    "arr = [10, 45, 2, 99, 23]\n",
    "smallest = min(arr)\n",
    "print(\"Smallest element:\", smallest)"
   ]
  },
  {
   "cell_type": "code",
   "execution_count": 42,
   "id": "bc0f4d04-3f7c-4eae-b041-631969b9fc1c",
   "metadata": {},
   "outputs": [
    {
     "name": "stdout",
     "output_type": "stream",
     "text": [
      "smallest element: 2\n"
     ]
    }
   ],
   "source": [
    "arr = [10, 45, 2, 99, 23]\n",
    "smallest = arr[0]\n",
    "for num in arr:\n",
    "    if num < smallest:\n",
    "        smallest = num\n",
    "print(\"smallest element:\", smallest)        "
   ]
  },
  {
   "cell_type": "code",
   "execution_count": 46,
   "id": "b92578a7-a188-422c-8550-c38f1a6717fd",
   "metadata": {},
   "outputs": [
    {
     "name": "stdout",
     "output_type": "stream",
     "text": [
      "smallest element: 2\n"
     ]
    }
   ],
   "source": [
    "arr = [10, 45, 2, 99, 23]\n",
    "smallest = sorted(arr)[0]\n",
    "print(\"smallest element:\", smallest)"
   ]
  },
  {
   "cell_type": "markdown",
   "id": "5f7c5259-17ab-46b0-8b24-758516535143",
   "metadata": {},
   "source": [
    "# smallest and largest element in an array"
   ]
  },
  {
   "cell_type": "code",
   "execution_count": 8,
   "id": "030f7245-c370-455b-bb7d-e894965c96f6",
   "metadata": {},
   "outputs": [
    {
     "name": "stdout",
     "output_type": "stream",
     "text": [
      "4\n",
      "89\n"
     ]
    }
   ],
   "source": [
    "#iteration\n",
    "arr = [10, 89, 9, 56, 4, 80, 8]\n",
    "mini = arr[0]\n",
    "maxi = arr[0]\n",
    "\n",
    "for i in range(len(arr)):\n",
    "    if arr[i] < mini:\n",
    "        mini = arr[i]\n",
    "\n",
    "\n",
    "    if arr[i] > maxi:\n",
    "      maxi = arr[i]\n",
    "\n",
    "print(mini)\n",
    "print(maxi)\n",
    "    \n"
   ]
  },
  {
   "cell_type": "code",
   "execution_count": 11,
   "id": "0b061250-92ba-48d2-9dcb-c83e6c7cdfeb",
   "metadata": {},
   "outputs": [
    {
     "name": "stdout",
     "output_type": "stream",
     "text": [
      "4\n",
      "89\n"
     ]
    }
   ],
   "source": [
    "#sorted\n",
    "arr = [10, 89, 9, 4, 80, 8]\n",
    "arr.sort()\n",
    "\n",
    "print(arr[0])\n",
    "print(arr[-1])"
   ]
  },
  {
   "cell_type": "code",
   "execution_count": 13,
   "id": "a618a614-b668-4fce-92ea-f8ff5c587f30",
   "metadata": {},
   "outputs": [
    {
     "name": "stdout",
     "output_type": "stream",
     "text": [
      "4\n",
      "89\n"
     ]
    }
   ],
   "source": [
    "#simple\n",
    "arr = [10, 89, 9, 4, 80, 8]\n",
    "\n",
    "print(min(arr))\n",
    "print(max(arr))"
   ]
  },
  {
   "cell_type": "code",
   "execution_count": 14,
   "id": "e0f18934-ad83-4bd9-92ec-590a7889fc97",
   "metadata": {},
   "outputs": [],
   "source": [
    "arr = [10, 89, 9, 4, 80, 8]"
   ]
  },
  {
   "cell_type": "code",
   "execution_count": 15,
   "id": "f3ad4c93-50a1-4983-bdc0-33fe67160471",
   "metadata": {},
   "outputs": [
    {
     "data": {
      "text/plain": [
       "[10, 89, 9, 4, 80, 8]"
      ]
     },
     "execution_count": 15,
     "metadata": {},
     "output_type": "execute_result"
    }
   ],
   "source": [
    "arr"
   ]
  },
  {
   "cell_type": "code",
   "execution_count": 16,
   "id": "bde3983e-1515-4ad4-a414-b3636800a662",
   "metadata": {},
   "outputs": [
    {
     "data": {
      "text/plain": [
       "6"
      ]
     },
     "execution_count": 16,
     "metadata": {},
     "output_type": "execute_result"
    }
   ],
   "source": [
    "len(arr)"
   ]
  },
  {
   "cell_type": "code",
   "execution_count": 20,
   "id": "92a3525c-f607-4ad1-8ca3-ec32374d268a",
   "metadata": {},
   "outputs": [
    {
     "name": "stdout",
     "output_type": "stream",
     "text": [
      "4\n",
      "89\n"
     ]
    }
   ],
   "source": [
    "mini = arr[0]\n",
    "maxi = arr [0]\n",
    "\n",
    "for i in range(len(arr)):\n",
    "    if arr[i] < mini:\n",
    "        mini = arr[i]\n",
    "\n",
    "    if arr[i] > maxi:\n",
    "            maxi = arr[i]\n",
    "\n",
    "print(mini)\n",
    "print(maxi)"
   ]
  },
  {
   "cell_type": "code",
   "execution_count": 21,
   "id": "83acc769-0002-42b5-8528-e06b9fc2902e",
   "metadata": {},
   "outputs": [],
   "source": [
    "arr = [10, 89, 9, 4, 80, 8]"
   ]
  },
  {
   "cell_type": "code",
   "execution_count": 22,
   "id": "813f6b67-eeb8-4bdf-8a98-c542a61cc701",
   "metadata": {},
   "outputs": [
    {
     "data": {
      "text/plain": [
       "[10, 89, 9, 4, 80, 8]"
      ]
     },
     "execution_count": 22,
     "metadata": {},
     "output_type": "execute_result"
    }
   ],
   "source": [
    "arr"
   ]
  },
  {
   "cell_type": "code",
   "execution_count": 25,
   "id": "1d5dd127-863b-483b-b13c-4929b07319e9",
   "metadata": {},
   "outputs": [
    {
     "name": "stdout",
     "output_type": "stream",
     "text": [
      "4\n",
      "89\n"
     ]
    }
   ],
   "source": [
    "arr.sort()\n",
    "print(arr[0])\n",
    "print(arr[-1])"
   ]
  },
  {
   "cell_type": "code",
   "execution_count": 30,
   "id": "b1677fe1-6ccd-42cb-b86f-811162fdcb07",
   "metadata": {},
   "outputs": [
    {
     "name": "stdout",
     "output_type": "stream",
     "text": [
      "4\n",
      "89\n"
     ]
    }
   ],
   "source": [
    "arr = [10, 89, 9, 4, 80, 8]\n",
    "print(min(arr))\n",
    "print(max(arr))"
   ]
  },
  {
   "cell_type": "markdown",
   "id": "9b95dd06-1e20-4009-868b-1d61cb0708fe",
   "metadata": {},
   "source": [
    "# find sec largest element in an array"
   ]
  },
  {
   "cell_type": "code",
   "execution_count": 35,
   "id": "cf63c8bd-9e18-4075-8b40-3b3b2722e8d6",
   "metadata": {},
   "outputs": [],
   "source": [
    "arr = [1, 87, 98, 14, 34, 15, 20]"
   ]
  },
  {
   "cell_type": "code",
   "execution_count": 36,
   "id": "0558b84e-328e-452f-ace5-f89a82cc8510",
   "metadata": {},
   "outputs": [
    {
     "data": {
      "text/plain": [
       "[1, 87, 98, 14, 34, 15, 20]"
      ]
     },
     "execution_count": 36,
     "metadata": {},
     "output_type": "execute_result"
    }
   ],
   "source": [
    "arr"
   ]
  },
  {
   "cell_type": "code",
   "execution_count": 38,
   "id": "36f7bbb8-27b0-4852-a7ad-b29d8aca14ad",
   "metadata": {},
   "outputs": [],
   "source": [
    "\n",
    "def find_second_largest(arr):\n",
    "    if len(arr) < 2:\n",
    "        return None\n",
    "\n",
    "    largest = second = float('-inf')\n",
    "\n",
    "    for num in arr:\n",
    "        if num > largest:\n",
    "            second = largest\n",
    "            largest = num\n",
    "        elif num > second and num != largest:\n",
    "            second = num\n",
    "\n",
    "    return second if second != float('-inf') else None"
   ]
  },
  {
   "cell_type": "code",
   "execution_count": null,
   "id": "cbc93270-b24d-46b5-809d-3c5abf74de16",
   "metadata": {},
   "outputs": [],
   "source": []
  }
 ],
 "metadata": {
  "kernelspec": {
   "display_name": "Python 3 (ipykernel)",
   "language": "python",
   "name": "python3"
  },
  "language_info": {
   "codemirror_mode": {
    "name": "ipython",
    "version": 3
   },
   "file_extension": ".py",
   "mimetype": "text/x-python",
   "name": "python",
   "nbconvert_exporter": "python",
   "pygments_lexer": "ipython3",
   "version": "3.13.5"
  }
 },
 "nbformat": 4,
 "nbformat_minor": 5
}
